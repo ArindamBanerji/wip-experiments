{
  "cells": [
    {
      "cell_type": "markdown",
      "metadata": {
        "colab_type": "text",
        "id": "view-in-github"
      },
      "source": [
        "<a href=\"https://colab.research.google.com/github/ArindamBanerji/wip-experiments/blob/master/nlp/ner_NER_v2.ipynb\" target=\"_parent\"><img src=\"https://colab.research.google.com/assets/colab-badge.svg\" alt=\"Open In Colab\"/></a>"
      ]
    },
    {
      "cell_type": "code",
      "execution_count": 1,
      "metadata": {
        "colab": {
          "base_uri": "https://localhost:8080/",
          "height": 36
        },
        "id": "qqbe8odKdqk8",
        "outputId": "b63007da-7048-4cbe-fd64-f90597410c95"
      },
      "outputs": [
        {
          "data": {
            "text/plain": [
              "'2.10.1'"
            ]
          },
          "execution_count": 1,
          "metadata": {},
          "output_type": "execute_result"
        }
      ],
      "source": [
        "import tensorflow as tf\n",
        "import tensorflow_datasets as tfds\n",
        "import numpy as np\n",
        "tf.__version__"
      ]
    },
    {
      "cell_type": "code",
      "execution_count": 2,
      "metadata": {
        "colab": {
          "base_uri": "https://localhost:8080/",
          "height": 36
        },
        "id": "0Wr_x-RodqlC",
        "outputId": "a14e8b2a-a9a0-4fbc-f40f-3d8e4e037ade"
      },
      "outputs": [
        {
          "data": {
            "text/plain": [
              "'4.7.0'"
            ]
          },
          "execution_count": 2,
          "metadata": {},
          "output_type": "execute_result"
        }
      ],
      "source": [
        "tfds.__version__"
      ]
    },
    {
      "cell_type": "code",
      "execution_count": 3,
      "metadata": {
        "id": "QpAUBmRQdqlF"
      },
      "outputs": [],
      "source": [
        "# for the time  being comment out this piece \n",
        "\n",
        "# import wget\n",
        "url_download_from = \"https://gmb.let.rug.nl/releases/gmb-2.2.0.zip\"\n",
        "\n",
        "# !wget https://gmb.let.rug.nl/releases/gmb-2.2.0.zip\n",
        "# wget.download('Url', 'C:\\\\PathToMyDownloadFolder\\\\NewFileName.extension')\n",
        "# wget.download(url_download_from, \".\")"
      ]
    },
    {
      "cell_type": "code",
      "execution_count": 4,
      "metadata": {
        "id": "X5QB_HxRdqlN"
      },
      "outputs": [],
      "source": [
        "import os\n",
        "import pathlib\n",
        "import sys\n",
        "import platform\n",
        "import shutil\n",
        "import pickle"
      ]
    },
    {
      "cell_type": "code",
      "execution_count": 5,
      "metadata": {
        "colab": {
          "base_uri": "https://localhost:8080/"
        },
        "id": "iuV4ymzYdqlP",
        "outputId": "0522945c-1f89-4966-c560-2ddea9ba7645"
      },
      "outputs": [
        {
          "name": "stdout",
          "output_type": "stream",
          "text": [
            "Runnig in Google Colab : False \n",
            " on OS : Windows\n"
          ]
        }
      ],
      "source": [
        "IN_COLAB = 'google.colab' in sys.modules\n",
        "FNAMES_SAVED = False\n",
        "sys_name = platform.system()\n",
        "\n",
        "print (\"Runnig in Google Colab :\", IN_COLAB, \"\\n\", \"on OS :\", sys_name) "
      ]
    },
    {
      "cell_type": "code",
      "execution_count": 6,
      "metadata": {
        "colab": {
          "base_uri": "https://localhost:8080/"
        },
        "id": "SSrkyCdndqlR",
        "outputId": "597b6292-e1b7-4114-8253-6711578faf7a"
      },
      "outputs": [],
      "source": [
        "if (IN_COLAB) :\n",
        "    ######## GPU CONFIGS FOR RTX 2070 ###############\n",
        "    ## Please ignore if not training on GPU       ##\n",
        "    ## this is important for running CuDNN on GPU ##\n",
        "\n",
        "    tf.keras.backend.clear_session() #- for easy reset of notebook state\n",
        "\n",
        "    # chck if GPU can be seen by TF\n",
        "    tf.config.list_physical_devices('GPU')\n",
        "    # only if you want to see how commands are executed, uncomment below\n",
        "    # tf.debugging.set_log_device_placement(True)\n",
        "    gpus = tf.config.experimental.list_physical_devices('GPU')\n",
        "    if gpus:\n",
        "      # Restrict TensorFlow to only use the first GPU\n",
        "      try:\n",
        "        tf.config.experimental.set_memory_growth(gpus[0], True)\n",
        "        tf.config.experimental.set_visible_devices(gpus[0], 'GPU')\n",
        "        logical_gpus = tf.config.experimental.list_logical_devices('GPU')\n",
        "        print(len(gpus), \"Physical GPUs,\", len(logical_gpus), \"Logical GPU\")\n",
        "      except RuntimeError as e:\n",
        "        # Visible devices must be set before GPUs have been initialized\n",
        "        print(e)\n",
        "    ###############################################\n"
      ]
    },
    {
      "cell_type": "code",
      "execution_count": 7,
      "metadata": {
        "id": "slnNGV5IfZOR"
      },
      "outputs": [],
      "source": [
        "if (IN_COLAB) :\n",
        "    from google.colab import drive"
      ]
    },
    {
      "cell_type": "code",
      "execution_count": 8,
      "metadata": {
        "colab": {
          "base_uri": "https://localhost:8080/"
        },
        "id": "eeW3DuHhdqlU",
        "outputId": "bdd4702a-c484-4a44-f801-db78471dafa4"
      },
      "outputs": [
        {
          "name": "stdout",
          "output_type": "stream",
          "text": [
            "C:\\Users\\Arindam Banerji\\CopyFolder\\IOT_thoughts\\python-projects\\NLP\\NER_EXPTS\n",
            "G:\\My Drive\\NLP\\NER_EXPTS\\\n"
          ]
        }
      ],
      "source": [
        "if (IN_COLAB) :\n",
        "    mount_base = \"/content/drive/My Drive\"\n",
        "    # Load the Drive helper and mount\n",
        "  # This will prompt for authorization.\n",
        "    drive.mount('/content/drive')\n",
        "    mount_path = \"/content/drive/My Drive/NLP/NER_EXPTS\"\n",
        "    ner_dirnm = mount_path + \"/\"\n",
        "else :\n",
        "    mount_base = \"C:\\\\Users\\\\Arindam Banerji\\\\CopyFolder\\\\IOT_thoughts\\\\python-projects\"\n",
        "    mount_path = mount_base + \"\\\\NLP\\\\NER_EXPTS\"\n",
        "    ner_dirnm = \"G:\\\\My Drive\\\\NLP\\\\NER_EXPTS\\\\\"\n",
        "\n",
        "print (mount_path)\n",
        "print (ner_dirnm)"
      ]
    },
    {
      "cell_type": "code",
      "execution_count": 9,
      "metadata": {
        "colab": {
          "base_uri": "https://localhost:8080/"
        },
        "id": "D7vbVuT7dqlY",
        "outputId": "fc0b379d-4d1a-49da-a77d-b329b93d7e5f"
      },
      "outputs": [
        {
          "name": "stdout",
          "output_type": "stream",
          "text": [
            "C:\\Users\\Arindam Banerji\\CopyFolder\\IOT_thoughts\\python-projects\\NLP\\NER_EXPTS  :  True\n"
          ]
        }
      ],
      "source": [
        "path_exists = os.path.exists(mount_path)\n",
        "ner_dir_exists = os.path.exists(ner_dirnm)\n",
        "\n",
        "if path_exists : \n",
        "  print (mount_path, \" : \" , path_exists )\n",
        "else:\n",
        "  print ( \"Load correct dir \", mount_path )"
      ]
    },
    {
      "cell_type": "code",
      "execution_count": 10,
      "metadata": {
        "colab": {
          "base_uri": "https://localhost:8080/"
        },
        "id": "vb09VTctdqli",
        "outputId": "ecd65f51-bd04-4cce-a266-7fe87c38d60f"
      },
      "outputs": [
        {
          "name": "stdout",
          "output_type": "stream",
          "text": [
            "Current working directory: c:\\Users\\Arindam Banerji\\CopyFolder\\IoT_thoughts\\python-projects\\kaggle_experiments\\wip_expts_v2\\nlp\n",
            "Changed working directory: C:\\Users\\Arindam Banerji\\CopyFolder\\IOT_thoughts\\python-projects\\NLP\\NER_EXPTS\n"
          ]
        }
      ],
      "source": [
        "# Print the current working directory\n",
        "print(\"Current working directory: {0}\".format(os.getcwd()))\n",
        "\n",
        "# Change the current working directory\n",
        "os.chdir(mount_path)\n",
        "\n",
        "# Print the current working directory\n",
        "print(\"Changed working directory: {0}\".format(os.getcwd()))"
      ]
    },
    {
      "cell_type": "code",
      "execution_count": 11,
      "metadata": {
        "colab": {
          "base_uri": "https://localhost:8080/"
        },
        "id": "ZgwWnkH7dqlk",
        "outputId": "e614e14d-1ecd-4b56-c01b-7914ccd26501"
      },
      "outputs": [
        {
          "name": "stdout",
          "output_type": "stream",
          "text": [
            ".\\gmb-2.2.0\\data\\\n"
          ]
        }
      ],
      "source": [
        "data_root = './gmb-2.2.0/data/' if IN_COLAB == True else '.\\\\gmb-2.2.0\\\\data\\\\' \n",
        "\n",
        "print ( data_root) "
      ]
    },
    {
      "cell_type": "code",
      "execution_count": 12,
      "metadata": {
        "id": "JO-EhuLpKHgK"
      },
      "outputs": [],
      "source": [
        "fnames_list_fnm = ner_dirnm + \"fnames_list.data\""
      ]
    },
    {
      "cell_type": "code",
      "execution_count": 13,
      "metadata": {
        "id": "9cD3OsWJKHgL"
      },
      "outputs": [],
      "source": [
        "def save_list_to_file ( fnames_list_fnm, fnames_list) :\n",
        "        with open(fnames_list_fnm, 'wb') as filehandle:\n",
        "            # Store the data as a binary data stream\n",
        "            pickle.dump(fnames_list, filehandle)"
      ]
    },
    {
      "cell_type": "code",
      "execution_count": 14,
      "metadata": {
        "id": "z95-N-EjKHgM"
      },
      "outputs": [],
      "source": [
        "def load_list_from_file ( fnames_list_fnm) :\n",
        "    fnames_loaded = []\n",
        "    if os.path.isfile(fnames_list_fnm) and os.access(fnames_list_fnm, os.R_OK) :\n",
        "        with open(fnames_list_fnm, 'rb') as filehandle:\n",
        "            # Read the data as a binary data stream\n",
        "            fnames_loaded = pickle.load(filehandle)\n",
        "    return fnames_loaded"
      ]
    },
    {
      "cell_type": "code",
      "execution_count": 15,
      "metadata": {},
      "outputs": [],
      "source": [
        "# data_root = './gmb-2.2.0/data/'\n",
        "\n",
        "fnames = []\n",
        "data_root = './gmb-2.2.0/data/' if IN_COLAB == True else '.\\\\gmb-2.2.0\\\\data\\\\'\n",
        "convert_to_posix = True if (IN_COLAB == False) and (sys_name == 'Windows') else False \n",
        "\n",
        "if os.path.isfile(fnames_list_fnm) and os.access(fnames_list_fnm, os.R_OK) :\n",
        "    fnames = load_list_from_file (fnames_list_fnm)\n",
        "else :\n",
        "        for root, dirs, files in os.walk(data_root):\n",
        "            for filename in files:\n",
        "                if filename.endswith(\".tags\"):\n",
        "                    pfn = os.path.join(root, filename)\n",
        "                    pfn2 = pathlib.PureWindowsPath(pfn).as_posix() if convert_to_posix else pfn\n",
        "                    fnames.append(pfn2)\n",
        "        \n",
        "        save_list_to_file (fnames_list_fnm, fnames)\n",
        "        FNAMES_SAVED = True"
      ]
    },
    {
      "cell_type": "code",
      "execution_count": 16,
      "metadata": {
        "colab": {
          "base_uri": "https://localhost:8080/"
        },
        "id": "jEsmqmTzKHgO",
        "outputId": "235881b2-f3ae-46c6-886f-6c89441538e7"
      },
      "outputs": [
        {
          "name": "stdout",
          "output_type": "stream",
          "text": [
            "Are fnames && fnames_reloaded equal :  True\n",
            "FNAMES were saved to   G:\\My Drive\\NLP\\NER_EXPTS\\fnames_list.data\n"
          ]
        }
      ],
      "source": [
        "if FNAMES_SAVED :\n",
        "    fnames_reloaded = load_list_from_file (fnames_list_fnm)\n",
        "    print (\"Are fnames && fnames_reloaded equal : \", (fnames == fnames_reloaded) )\n",
        "    print (\"FNAMES were saved to  \", fnames_list_fnm)\n",
        "else :\n",
        "    print (\"FNAMES were loaded from \", fnames_list_fnm)"
      ]
    },
    {
      "cell_type": "code",
      "execution_count": 17,
      "metadata": {
        "colab": {
          "base_uri": "https://localhost:8080/"
        },
        "id": "wDotrlX5dqlq",
        "outputId": "9e83236e-b5f8-4240-9331-9363c974eb8a"
      },
      "outputs": [
        {
          "name": "stdout",
          "output_type": "stream",
          "text": [
            " num of files  10000\n"
          ]
        },
        {
          "data": {
            "text/plain": [
              "['gmb-2.2.0/data/p00/d0018/en.tags', 'gmb-2.2.0/data/p00/d0025/en.tags']"
            ]
          },
          "execution_count": 17,
          "metadata": {},
          "output_type": "execute_result"
        }
      ],
      "source": [
        "print (\" num of files \", len(fnames) )\n",
        "fnames[:2]"
      ]
    },
    {
      "cell_type": "code",
      "execution_count": 18,
      "metadata": {
        "id": "HwFjOFwiKHgS"
      },
      "outputs": [],
      "source": [
        "# save_list_to_file (fnames_list_fnm, fnames)\n",
        "# fnames_loaded = load_list_from_file (fnames_list_fnm)\n",
        "# print (\"fnames is equal to fnames_loaded \", (fnames == fnames_loaded))"
      ]
    },
    {
      "cell_type": "code",
      "execution_count": 19,
      "metadata": {
        "colab": {
          "base_uri": "https://localhost:8080/"
        },
        "id": "y7rL5m87KHgT",
        "outputId": "3d5d56b7-c8f4-4985-a4ef-a5f7824453c6"
      },
      "outputs": [
        {
          "name": "stdout",
          "output_type": "stream",
          "text": [
            "10000\n",
            "Directory status  ./ner  :  True\n"
          ]
        }
      ],
      "source": [
        "ner_path = \"./ner\"\n",
        "\n",
        "ner_exists = os.path.exists(ner_path)\n",
        "num_files_in_ner = 0\n",
        "\n",
        "if ner_exists :\n",
        "    onlyfiles = next(os.walk(ner_path))[2]\n",
        "    num_files_in_ner = len(onlyfiles) \n",
        "    print ( len(onlyfiles) ) \n",
        "    shutil.rmtree(ner_path)\n",
        "               \n",
        "os.mkdir(ner_path)\n",
        "\n",
        "print (\"Directory status \", ner_path, \" : \", os.path.exists(ner_path) )"
      ]
    },
    {
      "cell_type": "code",
      "execution_count": 20,
      "metadata": {
        "id": "1zAM8wMQdqlu"
      },
      "outputs": [],
      "source": [
        "import csv\n",
        "import collections\n",
        " \n",
        "ner_tags = collections.Counter()\n",
        "iob_tags = collections.Counter()\n",
        "\n",
        "def strip_ner_subcat(tag):\n",
        "    # NER tags are of form {cat}-{subcat}\n",
        "    # eg tim-dow. We only want first part\n",
        "    return tag.split(\"-\")[0]\n",
        "\n",
        "\n",
        "def iob_format(ners):\n",
        "    # converts IO tags into BIO format\n",
        "    # input is a sequence of IO NER tokens\n",
        "    # convert this: O, PERSON, PERSON, O, O, LOCATION, O\n",
        "    # into: O, B-PERSON, I-PERSON, O, O, B-LOCATION, O\n",
        "    iob_tokens = []\n",
        "    for idx, token in enumerate(ners):\n",
        "        if token != 'O':  # !other\n",
        "            if idx == 0:\n",
        "                token = \"B-\" + token #start of sentence\n",
        "            elif ners[idx-1] == token:\n",
        "                token = \"I-\" + token  # continues\n",
        "            else:\n",
        "                token = \"B-\" + token\n",
        "        iob_tokens.append(token)\n",
        "        iob_tags[token] += 1\n",
        "    return iob_tokens  \n"
      ]
    },
    {
      "cell_type": "code",
      "execution_count": null,
      "metadata": {
        "colab": {
          "base_uri": "https://localhost:8080/",
          "height": 237
        },
        "id": "zGTe83Rudqlv",
        "outputId": "2dd365c0-94d3-452b-9c94-20ab97e991ec"
      },
      "outputs": [],
      "source": [
        "total_sentences = 0\n",
        "outfiles = []\n",
        "for idx, file in enumerate(fnames):\n",
        "    with open(file, 'rb') as content:\n",
        "        data = content.read().decode('utf-8').strip()\n",
        "        sentences = data.split(\"\\n\\n\")\n",
        "        print(idx, file, len(sentences))\n",
        "        total_sentences += len(sentences)\n",
        "        \n",
        "        with open(\"./ner/\"+str(idx)+\"-\"+os.path.basename(file), \n",
        "                  'w', encoding='utf-8') as outfile:\n",
        "            outfiles.append(\"./ner/\"+str(idx)+\"-\"+os.path.basename(file))\n",
        "            writer = csv.writer(outfile)\n",
        "            \n",
        "            for sentence in sentences: \n",
        "                toks = sentence.split('\\n')\n",
        "                words, pos, ner = [], [], []\n",
        "                \n",
        "                for tok in toks:\n",
        "                    t = tok.split(\"\\t\")\n",
        "                    words.append(t[0])\n",
        "                    pos.append(t[1])\n",
        "                    ner_tags[t[3]] += 1\n",
        "                    ner.append(strip_ner_subcat(t[3]))\n",
        "                writer.writerow([\" \".join(words), \n",
        "                                 \" \".join(iob_format(ner)), \n",
        "                                 \" \".join(pos)])"
      ]
    },
    {
      "cell_type": "code",
      "execution_count": 22,
      "metadata": {
        "id": "1tJaNXc5dqly"
      },
      "outputs": [
        {
          "name": "stdout",
          "output_type": "stream",
          "text": [
            "total number of sentences:  62010\n"
          ]
        }
      ],
      "source": [
        "print(\"total number of sentences: \", total_sentences)"
      ]
    },
    {
      "cell_type": "code",
      "execution_count": 23,
      "metadata": {
        "id": "LADs0Is7dqlz"
      },
      "outputs": [
        {
          "name": "stdout",
          "output_type": "stream",
          "text": [
            " nertags :  Counter({'O': 1146068, 'geo-nam': 58388, 'org-nam': 48034, 'per-nam': 23790, 'gpe-nam': 20680, 'tim-dat': 12786, 'tim-dow': 11404, 'per-tit': 9800, 'per-fam': 8152, 'tim-yoc': 5290, 'tim-moy': 4262, 'per-giv': 2413, 'tim-clo': 891, 'art-nam': 866, 'eve-nam': 602, 'nat-nam': 300, 'tim-nam': 146, 'eve-ord': 107, 'per-ini': 60, 'org-leg': 60, 'per-ord': 38, 'tim-dom': 10, 'per-mid': 1, 'art-add': 1}) \n",
            "\n",
            "iob tags  Counter({'O': 1146068, 'B-geo': 48876, 'B-tim': 26296, 'B-org': 26195, 'I-per': 22270, 'B-per': 21984, 'I-org': 21899, 'B-gpe': 20436, 'I-geo': 9512, 'I-tim': 8493, 'B-art': 503, 'B-eve': 391, 'I-art': 364, 'I-eve': 318, 'I-gpe': 244, 'B-nat': 238, 'I-nat': 62}) \n",
            "\n"
          ]
        }
      ],
      "source": [
        "print(\" nertags : \", ner_tags, \"\\n\")\n",
        "print(\"iob tags \", iob_tags, \"\\n\")"
      ]
    },
    {
      "cell_type": "code",
      "execution_count": 24,
      "metadata": {
        "id": "Dk9GHVxMdql0"
      },
      "outputs": [],
      "source": [
        "import matplotlib.pyplot as plt\n",
        "\n",
        "labels, values = zip(*iob_tags.items())"
      ]
    },
    {
      "cell_type": "code",
      "execution_count": 25,
      "metadata": {
        "id": "RgzhNH67dql1"
      },
      "outputs": [
        {
          "data": {
            "image/png": "[encoded data removed]",
            "text/plain": [
              "<Figure size 640x480 with 1 Axes>"
            ]
          },
          "metadata": {},
          "output_type": "display_data"
        }
      ],
      "source": [
        "indexes = np.arange(len(labels))\n",
        "\n",
        "\n",
        "plt.bar(indexes, values)\n",
        "plt.xticks(indexes, labels, rotation='vertical')\n",
        "plt.margins(0.01)\n",
        "plt.subplots_adjust(bottom=0.15)\n",
        "plt.show()"
      ]
    },
    {
      "cell_type": "code",
      "execution_count": 26,
      "metadata": {
        "id": "E0plNTatdql2"
      },
      "outputs": [],
      "source": [
        "import glob\n",
        "import pandas as pd\n",
        "\n",
        "# could use `outfiles` param as well\n",
        "files = glob.glob(\"./ner/*.tags\")\n",
        "\n",
        "data_pd = pd.concat([pd.read_csv(f, header=None, \n",
        "                                 names=[\"text\", \"label\", \"pos\"]) \n",
        "                for f in files], ignore_index = True)"
      ]
    },
    {
      "cell_type": "code",
      "execution_count": 27,
      "metadata": {
        "id": "WohSWtwRdql2"
      },
      "outputs": [
        {
          "name": "stdout",
          "output_type": "stream",
          "text": [
            "<class 'pandas.core.frame.DataFrame'>\n",
            "RangeIndex: 62010 entries, 0 to 62009\n",
            "Data columns (total 3 columns):\n",
            " #   Column  Non-Null Count  Dtype \n",
            "---  ------  --------------  ----- \n",
            " 0   text    62010 non-null  object\n",
            " 1   label   62010 non-null  object\n",
            " 2   pos     62010 non-null  object\n",
            "dtypes: object(3)\n",
            "memory usage: 1.4+ MB\n"
          ]
        }
      ],
      "source": [
        "data_pd.info()"
      ]
    },
    {
      "cell_type": "code",
      "execution_count": 29,
      "metadata": {},
      "outputs": [
        {
          "data": {
            "text/html": [
              "<div>\n",
              "<style scoped>\n",
              "    .dataframe tbody tr th:only-of-type {\n",
              "        vertical-align: middle;\n",
              "    }\n",
              "\n",
              "    .dataframe tbody tr th {\n",
              "        vertical-align: top;\n",
              "    }\n",
              "\n",
              "    .dataframe thead th {\n",
              "        text-align: right;\n",
              "    }\n",
              "</style>\n",
              "<table border=\"1\" class=\"dataframe\">\n",
              "  <thead>\n",
              "    <tr style=\"text-align: right;\">\n",
              "      <th></th>\n",
              "      <th>text</th>\n",
              "      <th>label</th>\n",
              "      <th>pos</th>\n",
              "    </tr>\n",
              "  </thead>\n",
              "  <tbody>\n",
              "    <tr>\n",
              "      <th>23974</th>\n",
              "      <td>In his radio address Saturday , Thai Prime Min...</td>\n",
              "      <td>O O O O B-tim O B-gpe B-per I-per I-per I-per ...</td>\n",
              "      <td>IN PRP$ NN NN NNP , JJ NNP NNP NNP NNP VBD IN ...</td>\n",
              "    </tr>\n",
              "    <tr>\n",
              "      <th>29625</th>\n",
              "      <td>Officials say the thefts will not impact voter...</td>\n",
              "      <td>O O O O O O O O O O O B-tim I-tim I-tim I-tim ...</td>\n",
              "      <td>NNS VBP DT NNS MD RB VB NN NN VBN IN NNP CD CC...</td>\n",
              "    </tr>\n",
              "    <tr>\n",
              "      <th>307</th>\n",
              "      <td>Real estate and oil and gas companies are the ...</td>\n",
              "      <td>O O O O O O O O O O O O O O</td>\n",
              "      <td>JJ NN CC NN CC NN NNS VBP DT JJ RBS JJ NNS .</td>\n",
              "    </tr>\n",
              "    <tr>\n",
              "      <th>48997</th>\n",
              "      <td>Most economists say the U.S. housing market is...</td>\n",
              "      <td>O O O O B-geo O O O O O O O O O O O O O O O O O O</td>\n",
              "      <td>JJS NNS VBP DT NNP NN NN VBZ VBG RP IN VBG NN ...</td>\n",
              "    </tr>\n",
              "    <tr>\n",
              "      <th>15316</th>\n",
              "      <td>Nevertheless , France today is one of the most...</td>\n",
              "      <td>O O B-geo B-tim O O O O O O O O O O O O O O O ...</td>\n",
              "      <td>RB , NNP NN VBZ CD IN DT RBS JJ NNS IN DT NN C...</td>\n",
              "    </tr>\n",
              "    <tr>\n",
              "      <th>16735</th>\n",
              "      <td>The global lender said the world economy could...</td>\n",
              "      <td>O O O O O O O O O O O O O O O</td>\n",
              "      <td>DT JJ NN VBD DT NN NN MD VB RB JJ IN CD NN .</td>\n",
              "    </tr>\n",
              "    <tr>\n",
              "      <th>45948</th>\n",
              "      <td>The deaths were part of a crackdown following ...</td>\n",
              "      <td>O O O O O O O O O O O O B-per O B-geo O</td>\n",
              "      <td>DT NNS VBD NN IN DT NN VBG DT NN NN IN NNP IN ...</td>\n",
              "    </tr>\n",
              "    <tr>\n",
              "      <th>45247</th>\n",
              "      <td>He serves as one of three judges on American I...</td>\n",
              "      <td>O O O O O O O O B-gpe O O O O O O O O O O O O O O</td>\n",
              "      <td>PRP VBZ IN CD IN CD NNS IN JJ NNP , WDT PRP VB...</td>\n",
              "    </tr>\n",
              "    <tr>\n",
              "      <th>12794</th>\n",
              "      <td>Producer Zulima Palacio has the story .</td>\n",
              "      <td>O B-per I-per O O O O</td>\n",
              "      <td>NNP NNP NNP VBZ DT NN .</td>\n",
              "    </tr>\n",
              "    <tr>\n",
              "      <th>26225</th>\n",
              "      <td>Somalia 's exiled Islamist opposition is rejec...</td>\n",
              "      <td>B-geo O O O O O O O O O O O O O O B-geo O B-tim O</td>\n",
              "      <td>NNP POS VBN NN NN VBZ VBG NN NNS IN DT NN WDT ...</td>\n",
              "    </tr>\n",
              "  </tbody>\n",
              "</table>\n",
              "</div>"
            ],
            "text/plain": [
              "                                                    text  \\\n",
              "23974  In his radio address Saturday , Thai Prime Min...   \n",
              "29625  Officials say the thefts will not impact voter...   \n",
              "307    Real estate and oil and gas companies are the ...   \n",
              "48997  Most economists say the U.S. housing market is...   \n",
              "15316  Nevertheless , France today is one of the most...   \n",
              "16735  The global lender said the world economy could...   \n",
              "45948  The deaths were part of a crackdown following ...   \n",
              "45247  He serves as one of three judges on American I...   \n",
              "12794            Producer Zulima Palacio has the story .   \n",
              "26225  Somalia 's exiled Islamist opposition is rejec...   \n",
              "\n",
              "                                                   label  \\\n",
              "23974  O O O O B-tim O B-gpe B-per I-per I-per I-per ...   \n",
              "29625  O O O O O O O O O O O B-tim I-tim I-tim I-tim ...   \n",
              "307                          O O O O O O O O O O O O O O   \n",
              "48997  O O O O B-geo O O O O O O O O O O O O O O O O O O   \n",
              "15316  O O B-geo B-tim O O O O O O O O O O O O O O O ...   \n",
              "16735                      O O O O O O O O O O O O O O O   \n",
              "45948            O O O O O O O O O O O O B-per O B-geo O   \n",
              "45247  O O O O O O O O B-gpe O O O O O O O O O O O O O O   \n",
              "12794                              O B-per I-per O O O O   \n",
              "26225  B-geo O O O O O O O O O O O O O O B-geo O B-tim O   \n",
              "\n",
              "                                                     pos  \n",
              "23974  IN PRP$ NN NN NNP , JJ NNP NNP NNP NNP VBD IN ...  \n",
              "29625  NNS VBP DT NNS MD RB VB NN NN VBN IN NNP CD CC...  \n",
              "307         JJ NN CC NN CC NN NNS VBP DT JJ RBS JJ NNS .  \n",
              "48997  JJS NNS VBP DT NNP NN NN VBZ VBG RP IN VBG NN ...  \n",
              "15316  RB , NNP NN VBZ CD IN DT RBS JJ NNS IN DT NN C...  \n",
              "16735       DT JJ NN VBD DT NN NN MD VB RB JJ IN CD NN .  \n",
              "45948  DT NNS VBD NN IN DT NN VBG DT NN NN IN NNP IN ...  \n",
              "45247  PRP VBZ IN CD IN CD NNS IN JJ NNP , WDT PRP VB...  \n",
              "12794                            NNP NNP NNP VBZ DT NN .  \n",
              "26225  NNP POS VBN NN NN VBZ VBG NN NNS IN DT NN WDT ...  "
            ]
          },
          "execution_count": 29,
          "metadata": {},
          "output_type": "execute_result"
        }
      ],
      "source": [
        "data_pd.sample(10)"
      ]
    },
    {
      "cell_type": "code",
      "execution_count": 30,
      "metadata": {
        "id": "rc7hxmnOdql3"
      },
      "outputs": [],
      "source": [
        "### Keras tokenizer\n",
        "from tensorflow.keras.preprocessing.text import Tokenizer\n",
        "text_tok = Tokenizer(filters='[\\\\]^\\t\\n', lower=False,\n",
        "                     split=' ', oov_token='<OOV>')\n",
        "\n",
        "pos_tok = Tokenizer(filters='\\t\\n', lower=False,\n",
        "                    split=' ', oov_token='<OOV>')\n",
        "\n",
        "ner_tok = Tokenizer(filters='\\t\\n', lower=False,\n",
        "                    split=' ', oov_token='<OOV>')"
      ]
    },
    {
      "cell_type": "code",
      "execution_count": 31,
      "metadata": {
        "id": "zzhLTkKDdql6"
      },
      "outputs": [],
      "source": [
        "text_tok.fit_on_texts(data_pd['text'])\n",
        "pos_tok.fit_on_texts(data_pd['pos'])\n",
        "ner_tok.fit_on_texts(data_pd['label'])"
      ]
    },
    {
      "cell_type": "code",
      "execution_count": 32,
      "metadata": {
        "id": "PobHoRWCdql8"
      },
      "outputs": [],
      "source": [
        "ner_config = ner_tok.get_config()\n",
        "text_config = text_tok.get_config()"
      ]
    },
    {
      "cell_type": "code",
      "execution_count": 33,
      "metadata": {
        "id": "GUFdK0-0dql9"
      },
      "outputs": [
        {
          "name": "stdout",
          "output_type": "stream",
          "text": [
            "{'num_words': None, 'filters': '\\t\\n', 'lower': False, 'split': ' ', 'char_level': False, 'oov_token': '<OOV>', 'document_count': 62010, 'word_counts': '{\"O\": 1146068, \"B-geo\": 48876, \"B-gpe\": 20436, \"B-per\": 21984, \"I-geo\": 9512, \"B-org\": 26195, \"I-org\": 21899, \"B-tim\": 26296, \"B-art\": 503, \"I-art\": 364, \"I-per\": 22270, \"I-tim\": 8493, \"B-eve\": 391, \"I-eve\": 318, \"I-gpe\": 244, \"B-nat\": 238, \"I-nat\": 62}', 'word_docs': '{\"B-geo\": 31660, \"O\": 61999, \"B-gpe\": 16565, \"B-per\": 17499, \"I-geo\": 7738, \"B-org\": 20478, \"I-org\": 11011, \"B-tim\": 22345, \"B-art\": 425, \"I-art\": 207, \"I-per\": 13805, \"I-tim\": 5526, \"I-eve\": 201, \"B-eve\": 361, \"I-gpe\": 224, \"I-nat\": 50, \"B-nat\": 211}', 'index_docs': '{\"3\": 31660, \"2\": 61999, \"9\": 16565, \"7\": 17499, \"10\": 7738, \"5\": 20478, \"8\": 11011, \"4\": 22345, \"12\": 425, \"14\": 207, \"6\": 13805, \"11\": 5526, \"15\": 201, \"13\": 361, \"16\": 224, \"18\": 50, \"17\": 211}', 'index_word': '{\"1\": \"<OOV>\", \"2\": \"O\", \"3\": \"B-geo\", \"4\": \"B-tim\", \"5\": \"B-org\", \"6\": \"I-per\", \"7\": \"B-per\", \"8\": \"I-org\", \"9\": \"B-gpe\", \"10\": \"I-geo\", \"11\": \"I-tim\", \"12\": \"B-art\", \"13\": \"B-eve\", \"14\": \"I-art\", \"15\": \"I-eve\", \"16\": \"I-gpe\", \"17\": \"B-nat\", \"18\": \"I-nat\"}', 'word_index': '{\"<OOV>\": 1, \"O\": 2, \"B-geo\": 3, \"B-tim\": 4, \"B-org\": 5, \"I-per\": 6, \"B-per\": 7, \"I-org\": 8, \"B-gpe\": 9, \"I-geo\": 10, \"I-tim\": 11, \"B-art\": 12, \"B-eve\": 13, \"I-art\": 14, \"I-eve\": 15, \"I-gpe\": 16, \"B-nat\": 17, \"I-nat\": 18}'}\n"
          ]
        }
      ],
      "source": [
        "print(ner_config)"
      ]
    },
    {
      "cell_type": "code",
      "execution_count": 34,
      "metadata": {
        "id": "m_BMyKikdql-"
      },
      "outputs": [
        {
          "name": "stdout",
          "output_type": "stream",
          "text": [
            "Unique words in vocab: 39422\n",
            "Unique NER tags in vocab: 18\n"
          ]
        }
      ],
      "source": [
        "text_vocab = eval(text_config['index_word'])\n",
        "ner_vocab = eval(ner_config['index_word'])\n",
        "\n",
        "print(\"Unique words in vocab:\", len(text_vocab))\n",
        "print(\"Unique NER tags in vocab:\", len(ner_vocab))"
      ]
    },
    {
      "cell_type": "code",
      "execution_count": 35,
      "metadata": {
        "id": "u2KOXxSZdql_"
      },
      "outputs": [],
      "source": [
        "x_tok = text_tok.texts_to_sequences(data_pd['text'])\n",
        "y_tok = ner_tok.texts_to_sequences(data_pd['label'])"
      ]
    },
    {
      "cell_type": "code",
      "execution_count": 36,
      "metadata": {
        "id": "gS3WN_ykdql_"
      },
      "outputs": [
        {
          "name": "stdout",
          "output_type": "stream",
          "text": [
            "['Families of soldiers killed in the conflict joined the protesters who carried banners with such slogans as \" Bush Number One Terrorist \" and \" Stop the Bombings . \"'] Families of soldiers killed in the conflict joined the protesters who carried banners with such slogans as \" Bush Number One Terrorist \" and \" Stop the Bombings . \"\n",
            "['O O O O O O O O O O O O O O O O O O B-per O O O O O O O O O O O'] O O O O O O O O O O O O O O O O O O B-per O O O O O O O O O O O\n"
          ]
        }
      ],
      "source": [
        "print(text_tok.sequences_to_texts([x_tok[1]]), data_pd['text'][1])\n",
        "print(ner_tok.sequences_to_texts([y_tok[1]]), data_pd['label'][1])"
      ]
    },
    {
      "cell_type": "code",
      "execution_count": 38,
      "metadata": {
        "id": "-vkALp1jdqmA"
      },
      "outputs": [
        {
          "name": "stdout",
          "output_type": "stream",
          "text": [
            "['They marched from the Houses of Parliament to a rally in Hyde Park .'] They marched from the Houses of Parliament to a rally in Hyde Park .\n",
            "['O O O O O O O O O O O B-geo I-geo O'] O O O O O O O O O O O B-geo I-geo O\n"
          ]
        }
      ],
      "source": [
        "print(text_tok.sequences_to_texts([x_tok[2]]), data_pd['text'][2])\n",
        "print(ner_tok.sequences_to_texts([y_tok[2]]), data_pd['label'][2])"
      ]
    },
    {
      "cell_type": "code",
      "execution_count": 39,
      "metadata": {
        "id": "KHBMKDhGdqmC"
      },
      "outputs": [],
      "source": [
        "# now, pad seqences to a maximum length\n",
        "from tensorflow.keras.preprocessing import sequence\n",
        "\n",
        "max_len = 50\n",
        "\n",
        "x_pad = sequence.pad_sequences(x_tok, padding='post',\n",
        "                              maxlen=max_len)\n",
        "y_pad = sequence.pad_sequences(y_tok, padding='post',\n",
        "                              maxlen=max_len)"
      ]
    },
    {
      "cell_type": "code",
      "execution_count": 40,
      "metadata": {
        "id": "7Rtk7M-UdqmD"
      },
      "outputs": [
        {
          "name": "stdout",
          "output_type": "stream",
          "text": [
            "(62010, 50) (62010, 50)\n"
          ]
        }
      ],
      "source": [
        "print(x_pad.shape, y_pad.shape)"
      ]
    },
    {
      "cell_type": "code",
      "execution_count": 41,
      "metadata": {
        "id": "2_5lpSasdqmE"
      },
      "outputs": [
        {
          "data": {
            "text/plain": [
              "[\"The protest comes on the eve of the annual conference of Britain 's ruling Labor Party in the southern English seaside resort of Brighton . <OOV> <OOV> <OOV> <OOV> <OOV> <OOV> <OOV> <OOV> <OOV> <OOV> <OOV> <OOV> <OOV> <OOV> <OOV> <OOV> <OOV> <OOV> <OOV> <OOV> <OOV> <OOV> <OOV> <OOV> <OOV>\"]"
            ]
          },
          "execution_count": 41,
          "metadata": {},
          "output_type": "execute_result"
        }
      ],
      "source": [
        "text_tok.sequences_to_texts([x_pad[4]])"
      ]
    },
    {
      "cell_type": "code",
      "execution_count": 42,
      "metadata": {
        "id": "-l1DdFEmdqmF"
      },
      "outputs": [
        {
          "data": {
            "text/plain": [
              "['O O O O O O O O O O O B-geo O O B-org I-org O O O B-gpe O O O B-geo O <OOV> <OOV> <OOV> <OOV> <OOV> <OOV> <OOV> <OOV> <OOV> <OOV> <OOV> <OOV> <OOV> <OOV> <OOV> <OOV> <OOV> <OOV> <OOV> <OOV> <OOV> <OOV> <OOV> <OOV> <OOV>']"
            ]
          },
          "execution_count": 42,
          "metadata": {},
          "output_type": "execute_result"
        }
      ],
      "source": [
        "ner_tok.sequences_to_texts([y_pad[4]])"
      ]
    },
    {
      "cell_type": "code",
      "execution_count": 43,
      "metadata": {
        "id": "qqUtFOJgdqmG"
      },
      "outputs": [
        {
          "data": {
            "text/plain": [
              "(62010, 50, 19)"
            ]
          },
          "execution_count": 43,
          "metadata": {},
          "output_type": "execute_result"
        }
      ],
      "source": [
        "num_classes = len(ner_vocab)+1\n",
        "\n",
        "Y = tf.keras.utils.to_categorical(y_pad, num_classes=num_classes)\n",
        "Y.shape"
      ]
    },
    {
      "cell_type": "code",
      "execution_count": 44,
      "metadata": {
        "id": "t8_KAZPVdqmG"
      },
      "outputs": [],
      "source": [
        "# Length of the vocabulary \n",
        "vocab_size = len(text_vocab) + 1 \n",
        "\n",
        "# The embedding dimension\n",
        "embedding_dim = 64\n",
        "\n",
        "# Number of RNN units\n",
        "rnn_units = 100\n",
        "\n",
        "#batch size\n",
        "BATCH_SIZE=90\n",
        "\n",
        "# num of NER classes\n",
        "num_classes = len(ner_vocab)+1\n",
        "\n",
        "from tensorflow.keras.layers import Embedding, Bidirectional, LSTM, TimeDistributed, Dense\n",
        "\n",
        "dropout=0.2\n",
        "def build_model_bilstm(vocab_size, embedding_dim, rnn_units, batch_size, classes):\n",
        "  model = tf.keras.Sequential([\n",
        "    Embedding(vocab_size, embedding_dim, mask_zero=True,\n",
        "                              batch_input_shape=[batch_size, None]),\n",
        "    Bidirectional(LSTM(units=rnn_units,\n",
        "                           return_sequences=True,\n",
        "                           dropout=dropout,  \n",
        "                           kernel_initializer=tf.keras.initializers.he_normal())),\n",
        "    TimeDistributed(Dense(rnn_units, activation='relu')),\n",
        "    Dense(num_classes, activation=\"softmax\")\n",
        "  ])\n",
        "\n",
        "  \n",
        "  return model"
      ]
    },
    {
      "cell_type": "code",
      "execution_count": 45,
      "metadata": {
        "id": "YKo1UldhdqmI"
      },
      "outputs": [
        {
          "name": "stdout",
          "output_type": "stream",
          "text": [
            "Model: \"sequential\"\n",
            "_________________________________________________________________\n",
            " Layer (type)                Output Shape              Param #   \n",
            "=================================================================\n",
            " embedding (Embedding)       (90, None, 64)            2523072   \n",
            "                                                                 \n",
            " bidirectional (Bidirectiona  (90, None, 200)          132000    \n",
            " l)                                                              \n",
            "                                                                 \n",
            " time_distributed (TimeDistr  (90, None, 100)          20100     \n",
            " ibuted)                                                         \n",
            "                                                                 \n",
            " dense_1 (Dense)             (90, None, 19)            1919      \n",
            "                                                                 \n",
            "=================================================================\n",
            "Total params: 2,677,091\n",
            "Trainable params: 2,677,091\n",
            "Non-trainable params: 0\n",
            "_________________________________________________________________\n"
          ]
        }
      ],
      "source": [
        "model = build_model_bilstm(\n",
        "                        vocab_size = vocab_size,\n",
        "                        embedding_dim=embedding_dim,\n",
        "                        rnn_units=rnn_units,\n",
        "                        batch_size=BATCH_SIZE,\n",
        "                        classes=num_classes)\n",
        "model.summary()\n",
        "model.compile(optimizer=\"adam\", loss=\"categorical_crossentropy\", metrics=[\"accuracy\"])"
      ]
    },
    {
      "cell_type": "code",
      "execution_count": 46,
      "metadata": {
        "id": "rEkHHqkxdqmM"
      },
      "outputs": [],
      "source": [
        "X = x_pad "
      ]
    },
    {
      "cell_type": "code",
      "execution_count": 47,
      "metadata": {
        "id": "pjwuDHGGdqmO"
      },
      "outputs": [],
      "source": [
        "# create training and testing splits\n",
        "total_sentences = 62010\n",
        "test_size = round(total_sentences / BATCH_SIZE * 0.2)\n",
        "X_train = X[BATCH_SIZE*test_size:]\n",
        "Y_train = Y[BATCH_SIZE*test_size:]\n",
        "\n",
        "X_test = X[0:BATCH_SIZE*test_size]\n",
        "Y_test = Y[0:BATCH_SIZE*test_size]"
      ]
    },
    {
      "cell_type": "code",
      "execution_count": 48,
      "metadata": {
        "id": "DC0G7U5-dqmO"
      },
      "outputs": [
        {
          "name": "stdout",
          "output_type": "stream",
          "text": [
            "(49590, 50) (49590, 50, 19)\n",
            "(12420, 50) (12420, 50, 19)\n"
          ]
        }
      ],
      "source": [
        "print(X_train.shape, Y_train.shape)\n",
        "print(X_test.shape, Y_test.shape)"
      ]
    },
    {
      "cell_type": "code",
      "execution_count": 50,
      "metadata": {},
      "outputs": [
        {
          "name": "stdout",
          "output_type": "stream",
          "text": [
            "5\n"
          ]
        }
      ],
      "source": [
        "num_epochs = 15 if IN_COLAB else 5\n",
        "print (num_epochs)"
      ]
    },
    {
      "cell_type": "code",
      "execution_count": 49,
      "metadata": {
        "id": "zPo0irI_dqmP"
      },
      "outputs": [
        {
          "name": "stdout",
          "output_type": "stream",
          "text": [
            "Epoch 1/5\n",
            "551/551 [==============================] - 182s 306ms/step - loss: 0.1713 - accuracy: 0.9119\n",
            "Epoch 2/5\n",
            "551/551 [==============================] - 193s 351ms/step - loss: 0.0456 - accuracy: 0.9689\n",
            "Epoch 3/5\n",
            "551/551 [==============================] - 191s 346ms/step - loss: 0.0340 - accuracy: 0.9757\n",
            "Epoch 4/5\n",
            "551/551 [==============================] - 187s 340ms/step - loss: 0.0285 - accuracy: 0.9791\n",
            "Epoch 5/5\n",
            "551/551 [==============================] - 177s 321ms/step - loss: 0.0243 - accuracy: 0.9819\n"
          ]
        },
        {
          "data": {
            "text/plain": [
              "<keras.callbacks.History at 0x2550982abc0>"
            ]
          },
          "execution_count": 49,
          "metadata": {},
          "output_type": "execute_result"
        }
      ],
      "source": [
        "model.fit(X_train, Y_train, batch_size=BATCH_SIZE, epochs=num_epochs)"
      ]
    },
    {
      "cell_type": "code",
      "execution_count": 51,
      "metadata": {
        "id": "Mf3gk6SVKHgs"
      },
      "outputs": [
        {
          "name": "stdout",
          "output_type": "stream",
          "text": [
            "138/138 [==============================] - 23s 139ms/step - loss: 0.0539 - accuracy: 0.9665\n"
          ]
        },
        {
          "data": {
            "text/plain": [
              "[0.05386272445321083, 0.966489851474762]"
            ]
          },
          "execution_count": 51,
          "metadata": {},
          "output_type": "execute_result"
        }
      ],
      "source": [
        "# batch size in eval\n",
        "model.evaluate(X_test, Y_test, batch_size=BATCH_SIZE)"
      ]
    },
    {
      "cell_type": "code",
      "execution_count": 52,
      "metadata": {
        "id": "dbzmPQxbKHgs"
      },
      "outputs": [
        {
          "name": "stdout",
          "output_type": "stream",
          "text": [
            "138/138 [==============================] - 23s 133ms/step\n"
          ]
        }
      ],
      "source": [
        "y_pred = model.predict(X_test, batch_size=BATCH_SIZE)"
      ]
    },
    {
      "cell_type": "code",
      "execution_count": 53,
      "metadata": {
        "id": "k8rAjd1tKHgt"
      },
      "outputs": [
        {
          "data": {
            "text/plain": [
              "[\"The protest comes on the eve of the annual conference of Britain 's ruling Labor Party in the southern English seaside resort of Brighton . <OOV> <OOV> <OOV> <OOV> <OOV> <OOV> <OOV> <OOV> <OOV> <OOV> <OOV> <OOV> <OOV> <OOV> <OOV> <OOV> <OOV> <OOV> <OOV> <OOV> <OOV> <OOV> <OOV> <OOV> <OOV>\"]"
            ]
          },
          "execution_count": 53,
          "metadata": {},
          "output_type": "execute_result"
        }
      ],
      "source": [
        "text_tok.sequences_to_texts([X_test[4]])"
      ]
    },
    {
      "cell_type": "code",
      "execution_count": 54,
      "metadata": {
        "id": "m6FC5nCqKHgt"
      },
      "outputs": [
        {
          "data": {
            "text/plain": [
              "['O O O O O O O O O O O B-geo O O B-org I-org O O O B-gpe O O O B-geo O <OOV> <OOV> <OOV> <OOV> <OOV> <OOV> <OOV> <OOV> <OOV> <OOV> <OOV> <OOV> <OOV> <OOV> <OOV> <OOV> <OOV> <OOV> <OOV> <OOV> <OOV> <OOV> <OOV> <OOV> <OOV>']"
            ]
          },
          "execution_count": 54,
          "metadata": {},
          "output_type": "execute_result"
        }
      ],
      "source": [
        "ner_tok.sequences_to_texts([y_pad[4]])"
      ]
    },
    {
      "cell_type": "code",
      "execution_count": 55,
      "metadata": {
        "id": "-zXvCTohKHgu"
      },
      "outputs": [
        {
          "data": {
            "text/plain": [
              "TensorShape([12420, 50])"
            ]
          },
          "execution_count": 55,
          "metadata": {},
          "output_type": "execute_result"
        }
      ],
      "source": [
        "y_pred = tf.argmax(y_pred, -1)\n",
        "y_pred.shape"
      ]
    },
    {
      "cell_type": "code",
      "execution_count": 56,
      "metadata": {
        "id": "oIuu4v4hKHgv"
      },
      "outputs": [],
      "source": [
        "y_pnp = y_pred.numpy()"
      ]
    },
    {
      "cell_type": "code",
      "execution_count": 57,
      "metadata": {
        "id": "VV3QXJvwKHgv"
      },
      "outputs": [
        {
          "data": {
            "text/plain": [
              "['O O O O O O O O O O O B-geo O O O O O O O B-eve O O O B-geo O O O O O O O O O O O O O O O O O O O O O O O O O O']"
            ]
          },
          "execution_count": 57,
          "metadata": {},
          "output_type": "execute_result"
        }
      ],
      "source": [
        "ner_tok.sequences_to_texts([y_pnp[4]])"
      ]
    }
  ],
  "metadata": {
    "accelerator": "GPU",
    "colab": {
      "include_colab_link": true,
      "provenance": []
    },
    "gpuClass": "standard",
    "kernelspec": {
      "display_name": "Python 3.10.8 ('kaggle_expts_venv')",
      "language": "python",
      "name": "python3"
    },
    "language_info": {
      "codemirror_mode": {
        "name": "ipython",
        "version": 3
      },
      "file_extension": ".py",
      "mimetype": "text/x-python",
      "name": "python",
      "nbconvert_exporter": "python",
      "pygments_lexer": "ipython3",
      "version": "3.10.8"
    },
    "orig_nbformat": 4,
    "vscode": {
      "interpreter": {
        "hash": "be4c78cf3439baca13423b01e59fbae7d194fbbd5ee65de83dc38866596fbf17"
      }
    }
  },
  "nbformat": 4,
  "nbformat_minor": 0
}
