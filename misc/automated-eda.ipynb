{
 "cells": [
  {
   "cell_type": "code",
   "execution_count": null,
   "metadata": {},
   "outputs": [],
   "source": [
    "# Boiler plate Automated & accelerated EDA - load the file \n",
    "import tensorflow as tf\n",
    "import pandas as pd\n",
    "\n",
    "titanic_file = tf.keras.utils.get_file(\"train.csv\", \n",
    "                \"https://storage.googleapis.com/tf-datasets/titanic/train.csv\")\n",
    "df = pd.read_csv(titanic_file)"
   ]
  },
  {
   "cell_type": "code",
   "execution_count": null,
   "metadata": {},
   "outputs": [],
   "source": [
    "# Sample file for sweetviz visualization example\n",
    "import sweetviz as sv   #analyzing the dataset\n",
    "\n",
    "data_report = sv.analyze(df, pairwise_analysis=\"on\")\n",
    "\n",
    "# generate full report \n",
    "data_report.show_html (layout=\"vertical\", scale=1.25)\n",
    "\n",
    "# or if notebook is prefered \n",
    "#data_report.show_notebook (layout=\"vertical\", scale=1.25)"
   ]
  },
  {
   "cell_type": "code",
   "execution_count": null,
   "metadata": {},
   "outputs": [],
   "source": [
    "# Sample file for pandas profiling example\n",
    "from pandas_profiling import ProfileReport\n",
    "\n",
    "profile = ProfileReport(df, title='Titanic Pandas Profiling Report', explorative = True)\n",
    "\n",
    "#if necessary - save to html\n",
    "profile.to_file(\"titanic.html\")\n",
    "\n",
    "profile"
   ]
  },
  {
   "cell_type": "code",
   "execution_count": null,
   "metadata": {},
   "outputs": [],
   "source": [
    "# Sample file for dataprep  visualization example\n",
    "from dataprep.datasets import load_dataset # only if needed\n",
    "from dataprep.eda import create_report\n",
    "from dataprep.eda import plot, plot_correlation, plot_missing\n",
    "\n",
    "create_report(df).show_browser()"
   ]
  },
  {
   "cell_type": "code",
   "execution_count": null,
   "metadata": {},
   "outputs": [],
   "source": [
    "import dtale\n",
    "\n",
    "# Assigning a reference to a running D-Tale process\n",
    "d = dtale.show(df)\n",
    "\n",
    "# using Python's `webbrowser` package it will try and open your server's default\n",
    "# browser to this process\n",
    "d.open_browser()\n",
    "\n",
    "# Shutting down D-Tale process\n",
    "d.kill()"
   ]
  }
 ],
 "metadata": {
  "kernelspec": {
   "display_name": "Python 3.10.7 ('kaggle_expts_venv')",
   "language": "python",
   "name": "python3"
  },
  "language_info": {
   "codemirror_mode": {
    "name": "ipython",
    "version": 3
   },
   "file_extension": ".py",
   "mimetype": "text/x-python",
   "name": "python",
   "nbconvert_exporter": "python",
   "pygments_lexer": "ipython3",
   "version": "3.10.8"
  },
  "orig_nbformat": 4,
  "vscode": {
   "interpreter": {
    "hash": "be4c78cf3439baca13423b01e59fbae7d194fbbd5ee65de83dc38866596fbf17"
   }
  }
 },
 "nbformat": 4,
 "nbformat_minor": 2
}
