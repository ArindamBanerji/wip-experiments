{
 "cells": [
  {
   "cell_type": "code",
   "execution_count": 1,
   "metadata": {},
   "outputs": [],
   "source": [
    "# boiler plate imports - most of the code is in helper_fe_v2\n",
    "\n",
    "import glob \n",
    "import os\n",
    "import pathlib\n",
    "\n",
    "from helper_fe_v2 import ( file_list_with_sz, \n",
    "                          size_constr_filelst,\n",
    "                          get_largest_file_in_dir)\n"
   ]
  },
  {
   "cell_type": "code",
   "execution_count": 2,
   "metadata": {},
   "outputs": [
    {
     "name": "stdout",
     "output_type": "stream",
     "text": [
      "C:\\Users\\Arindam Banerji\\CopyFolder\n",
      "C:\\Users\\Arindam Banerji\\CopyFolder\\IOT_thoughts\\python-projects\n",
      "C:\\Users\\Arindam Banerji\\CopyFolder\\IOT_thoughts\n",
      "C:\\Users\\Arindam Banerji\\CopyFolder\n"
     ]
    }
   ],
   "source": [
    "# setup  the search directory - should make it an input \n",
    "\n",
    "dir_name_copy = \"C:\\\\Users\\\\Arindam Banerji\\\\CopyFolder\"\n",
    "\n",
    "dir_name_proj = os.getenv(\"BASEPYTHONPROJ\")\n",
    "dir_name_iot = os.getenv(\"IOTBASEDIR\")\n",
    "\n",
    "srch_dir_name = dir_name_copy\n",
    "MAX_FILE_SZ = 150_000_000\n",
    "\n",
    "print (srch_dir_name) \n",
    "print (dir_name_proj)\n",
    "print (dir_name_iot) \n",
    "print (dir_name_copy) "
   ]
  },
  {
   "cell_type": "code",
   "execution_count": 3,
   "metadata": {},
   "outputs": [
    {
     "name": "stdout",
     "output_type": "stream",
     "text": [
      "C:\\Users\\Arindam Banerji\\CopyFolder\n",
      "<class 'str'>\n"
     ]
    }
   ],
   "source": [
    "# get a list of tuples with file name & size \n",
    "\n",
    "files_with_size = file_list_with_sz (srch_dir_name) "
   ]
  },
  {
   "cell_type": "code",
   "execution_count": 4,
   "metadata": {},
   "outputs": [],
   "source": [
    "# extract list of tuples where file_sz is greater than the given number \n",
    "constrained_flst = size_constr_filelst(files_with_size, MAX_FILE_SZ)"
   ]
  },
  {
   "cell_type": "code",
   "execution_count": 5,
   "metadata": {},
   "outputs": [
    {
     "name": "stdout",
     "output_type": "stream",
     "text": [
      "1 C:\\Users\\Arindam Banerji\\CopyFolder\\UBIX Intro for CapGem_Unilever - Dec 2019.pptx 166967741 \n",
      "\n",
      "2 C:\\Users\\Arindam Banerji\\CopyFolder\\CSC-docs\\CSC-task-force-plan.part1.v0.4.pptx 217322740 \n",
      "\n",
      "3 C:\\Users\\Arindam Banerji\\CopyFolder\\IoT_thoughts\\BRK3224.pptx 492319450 \n",
      "\n",
      "4 C:\\Users\\Arindam Banerji\\CopyFolder\\IoT_thoughts\\UBIX Intro for CapGem_Unilever - Dec 2019.pptx 166967741 \n",
      "\n",
      "5 C:\\Users\\Arindam Banerji\\CopyFolder\\IoT_thoughts\\UBIX Investor Intro - October 2019 - Final-1.pptx 167879009 \n",
      "\n",
      "6 C:\\Users\\Arindam Banerji\\CopyFolder\\IoT_thoughts\\ai-thread-used\\UBIX Intro for CapGem_Unilever - Dec 2019.pptx 166967741 \n",
      "\n",
      "7 C:\\Users\\Arindam Banerji\\CopyFolder\\IoT_thoughts\\EdX\\dsbook-master.zip 185971119 \n",
      "\n",
      "8 C:\\Users\\Arindam Banerji\\CopyFolder\\IoT_thoughts\\python-projects\\kaggle_experiments\\credit-card-fraud\\creditcard.csv 150828752 \n",
      "\n",
      "9 C:\\Users\\Arindam Banerji\\CopyFolder\\IoT_thoughts\\python-projects\\kaggle_experiments\\feature-engineering\\recipes2\\venv\\Lib\\site-packages\\catboost\\_catboost.pyd 186999808 \n",
      "\n",
      "10 C:\\Users\\Arindam Banerji\\CopyFolder\\IoT_thoughts\\python-projects\\kaggle_experiments\\feature-engineering\\recipes2\\venv\\Lib\\site-packages\\xgboost\\lib\\xgboost.dll 176400384 \n",
      "\n",
      "11 C:\\Users\\Arindam Banerji\\CopyFolder\\IoT_thoughts\\python-projects\\kaggle_experiments\\wip_expts_v2\\datasets\\nlp_data\\spacy_explosion_ai\\Answers.csv 1607914819 \n",
      "\n",
      "12 C:\\Users\\Arindam Banerji\\CopyFolder\\IoT_thoughts\\python-projects\\kaggle_experiments\\wip_expts_v2\\datasets\\nlp_data\\spacy_explosion_ai\\Questions.csv 1923682009 \n",
      "\n",
      "13 C:\\Users\\Arindam Banerji\\CopyFolder\\IoT_thoughts\\python-projects\\NLP\\Advanced-NLP-Projects-with-TensorFlow-2.0\\reviews.csv 300904694 \n",
      "\n",
      "14 C:\\Users\\Arindam Banerji\\CopyFolder\\IoT_thoughts\\python-projects\\NLP\\Advanced-NLP-Projects-with-TensorFlow-2.0\\section_2_notebooks\\CommentsApril2017.csv 176306216 \n",
      "\n",
      "15 C:\\Users\\Arindam Banerji\\CopyFolder\\IoT_thoughts\\python-projects\\NLP\\Advanced-NLP-Projects-with-TensorFlow-2.0\\section_5_notebooks\\reviews.csv 300904694 \n",
      "\n",
      "16 C:\\Users\\Arindam Banerji\\CopyFolder\\IoT_thoughts\\python-projects\\NLP\\NER_EXPTS\\gmb-2.2.0.zip 841163535 \n",
      "\n",
      "17 C:\\Users\\Arindam Banerji\\CopyFolder\\IoT_thoughts\\python-projects\\pandas\\pydata-book\\datasets\\fec\\P00000001-ALL.csv 158873125 \n",
      "\n",
      "18 C:\\Users\\Arindam Banerji\\CopyFolder\\IoT_thoughts\\python-projects\\proj-envs\\kaggle_expts_venv\\Lib\\site-packages\\tensorflow\\python\\_pywrap_tensorflow_internal.pyd 938237440 \n",
      "\n",
      "19 C:\\Users\\Arindam Banerji\\CopyFolder\\IoT_thoughts\\working_ppts\\cray-0.6A.pptx 264209287 \n",
      "\n",
      "20 C:\\Users\\Arindam Banerji\\CopyFolder\\IoT_thoughts\\working_ppts\\cray-0.7A.pptx 249328267 \n",
      "\n",
      "21 C:\\Users\\Arindam Banerji\\CopyFolder\\IoT_thoughts\\working_ppts\\cray-0.8A.pptx 327925992 \n",
      "\n",
      "22 C:\\Users\\Arindam Banerji\\CopyFolder\\IoT_thoughts\\working_ppts\\CSC-task-force-plan.part1.v0.3A.pptx 233304220 \n",
      "\n",
      "23 C:\\Users\\Arindam Banerji\\CopyFolder\\IoT_thoughts\\working_ppts\\CSC-task-force-plan.part1.v0.4.pptx 222801390 \n",
      "\n",
      "24 C:\\Users\\Arindam Banerji\\CopyFolder\\IoT_thoughts\\working_ppts\\CSC-task-force-plan.part1.v0.7A.pptx 359597736 \n",
      "\n"
     ]
    }
   ],
   "source": [
    "# print out list  of  files \n",
    "for (num, nm, sz) in constrained_flst :\n",
    "    print (num, nm, sz, \"\\n\") "
   ]
  },
  {
   "cell_type": "code",
   "execution_count": 6,
   "metadata": {},
   "outputs": [
    {
     "data": {
      "text/plain": [
       "('C:\\\\Users\\\\Arindam Banerji\\\\CopyFolder\\\\IoT_thoughts\\\\python-projects\\\\kaggle_experiments\\\\wip_expts_v2\\\\datasets\\\\nlp_data\\\\spacy_explosion_ai\\\\Questions.csv',\n",
       " 1923682009)"
      ]
     },
     "execution_count": 6,
     "metadata": {},
     "output_type": "execute_result"
    }
   ],
   "source": [
    "# largest file in dir \n",
    "\n",
    "get_largest_file_in_dir(files_with_size)"
   ]
  }
 ],
 "metadata": {
  "kernelspec": {
   "display_name": "Python 3.10.8 ('kaggle_expts_venv')",
   "language": "python",
   "name": "python3"
  },
  "language_info": {
   "codemirror_mode": {
    "name": "ipython",
    "version": 3
   },
   "file_extension": ".py",
   "mimetype": "text/x-python",
   "name": "python",
   "nbconvert_exporter": "python",
   "pygments_lexer": "ipython3",
   "version": "3.10.8"
  },
  "orig_nbformat": 4,
  "vscode": {
   "interpreter": {
    "hash": "be4c78cf3439baca13423b01e59fbae7d194fbbd5ee65de83dc38866596fbf17"
   }
  }
 },
 "nbformat": 4,
 "nbformat_minor": 2
}
