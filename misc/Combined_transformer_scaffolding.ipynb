{
  "nbformat": 4,
  "nbformat_minor": 0,
  "metadata": {
    "colab": {
      "provenance": [],
      "machine_shape": "hm",
      "gpuType": "L4",
      "mount_file_id": "117dGb96Xfj5vlciIOekXHg1CarnWFNda",
      "authorship_tag": "ABX9TyMhXTFUVjnBS4JT9j2yHTG1",
      "include_colab_link": true
    },
    "kernelspec": {
      "name": "python3",
      "display_name": "Python 3"
    },
    "language_info": {
      "name": "python"
    },
    "accelerator": "GPU"
  },
  "cells": [
    {
      "cell_type": "markdown",
      "metadata": {
        "id": "view-in-github",
        "colab_type": "text"
      },
      "source": [
        "<a href=\"https://colab.research.google.com/github/ArindamBanerji/wip-experiments/blob/master/misc/Combined_transformer_scaffolding.ipynb\" target=\"_parent\"><img src=\"https://colab.research.google.com/assets/colab-badge.svg\" alt=\"Open In Colab\"/></a>"
      ]
    },
    {
      "cell_type": "markdown",
      "source": [
        "# Cobined Transformer Colab Scaffolding\n",
        "\n",
        "<div style=\"background-color: #f0f0f0; padding: 20px; border-radius: 5px;\">\n",
        "\n",
        "## Overview\n",
        "This notebook sets up and executes the time series forecasting application in Google Colab. It handles environment setup, module importing, and execution of the main forecasting code.\n",
        "\n",
        "## Key Components\n",
        "\n",
        "1. **Environment Setup**: Installs required Python libraries and checks GPU availability.\n",
        "\n",
        "2. **Configuration**: Sets variables for directories, file names, version number, and batch size.\n",
        "\n",
        "3. **Directory Navigation**: Ensures the notebook operates in the correct directory.\n",
        "\n",
        "4. **File Check**: Verifies the existence of the main Python file.\n",
        "\n",
        "5. **Execution Function**: `invoke_ViT_TS_args()`\n",
        "   - Imports the main module\n",
        "   - Sets up command-line arguments\n",
        "   - Executes the main forecasting function\n",
        "\n",
        "6. **Execution Trigger**: Calls the execution function if `parse_args` is True.\n",
        "\n",
        "## Parameters Passed to main()\n",
        "The `invoke_ViT_TS_args` function passes the following parameters to the `main()` function:\n",
        "\n",
        "- `batch_size`: Integer value for the batch size (default is 34).\n",
        "- `version_num`: String representing the version number (e.g., 'v35').\n",
        "- `args`: An argparse.Namespace object containing:\n",
        "  - `ticker`: Stock ticker symbol (default is 'AAPL').\n",
        "  - `start_date`: Start date for data (default is '2020-01-01').\n",
        "  - `end_date`: End date for data (default is '2023-12-31').\n",
        "  - `batch_size`: Same as the `batch_size` parameter above.\n",
        "\n",
        "## Usage\n",
        "- Run cells sequentially from top to bottom.\n",
        "- The scaffolding will set up the environment, load the forecasting module, and execute it.\n",
        "\n",
        "## Customization\n",
        "- Modify `version_number`, `base_dir`, `fnm`, and `default_batch_sz` as needed.\n",
        "- Adjust arguments in `parser.parse_args()` within `invoke_ViT_TS_args()` for different stocks or date ranges.\n",
        "\n",
        "## Troubleshooting\n",
        "- Check `base_dir` and `fnm` if the main file is not found.\n",
        "- Ensure Colab runtime is set to use GPU for GPU-related issues.\n",
        "- Verify all required libraries are installed if import errors occur.\n",
        "\n",
        "<p style=\"font-style: italic;\">Note: This scaffolding is specific to Google Colab and may need modifications for different environments.</p>\n",
        "\n",
        "</div>\n"
      ],
      "metadata": {
        "id": "Qp1xsnMRpaeM"
      }
    },
    {
      "cell_type": "code",
      "execution_count": null,
      "metadata": {
        "id": "5M8l6SZq0-7X"
      },
      "outputs": [],
      "source": [
        "# setup the environment\n",
        "! pip install yfinance numpy pandas matplotlib scikit-learn pyts torch einops vit-pytorch"
      ]
    },
    {
      "cell_type": "code",
      "source": [
        "%matplotlib inline"
      ],
      "metadata": {
        "id": "McQEFgMw1DXA"
      },
      "execution_count": null,
      "outputs": []
    },
    {
      "cell_type": "code",
      "source": [
        "!nvidia-smi"
      ],
      "metadata": {
        "id": "Q2pUaxAy1Iga"
      },
      "execution_count": null,
      "outputs": []
    },
    {
      "cell_type": "code",
      "source": [
        "# set some variables + make sure to use GPU\n",
        "root_dir = \"/content/\" #root dir that coalb uses\n",
        "version_number = 'v35' # use a output version number\n",
        "base_dir = \"/content/drive/MyDrive/python-projects/kaggle_experiments/Transformer-TS/v3/\" # local directory for execution\n",
        "fnm = \"combined_forecasting_coordinator.py\" # name of python file from repo\n",
        "default_batch_sz = 34 # set batch size - not being used\n",
        "parse_args = True # not needed but code allows simple invocation"
      ],
      "metadata": {
        "id": "pkeztvLV1MDQ"
      },
      "execution_count": null,
      "outputs": []
    },
    {
      "cell_type": "code",
      "source": [
        "# go to the root directory - helps for the git pulls\n",
        "import os\n",
        "os.chdir(root_dir)"
      ],
      "metadata": {
        "id": "RvaJhffF_a6E"
      },
      "execution_count": null,
      "outputs": []
    },
    {
      "cell_type": "code",
      "source": [
        "# change directory into the local repo\n",
        "import os\n",
        "\n",
        "cwd = os.getcwd()\n",
        "if (os.path.samefile(cwd, base_dir) == False) :\n",
        "    os.chdir(base_dir)"
      ],
      "metadata": {
        "id": "Xufwjsso_b6K"
      },
      "execution_count": null,
      "outputs": []
    },
    {
      "cell_type": "code",
      "source": [
        "#basic test to make sure that the file exists - should probably exit code\n",
        "! (test -f \"$fnm\" && echo \"file-exists\") || echo \"file-not-exists\""
      ],
      "metadata": {
        "id": "WvxdUDv7BX7p"
      },
      "execution_count": null,
      "outputs": []
    },
    {
      "cell_type": "code",
      "source": [
        "# Option #2: dynamic import and call the main entry point.- do arg parse\n",
        "import sys\n",
        "import os\n",
        "import importlib\n",
        "import traceback  # Import traceback for error handling\n",
        "import argparse  # Import argparse for command-line argument parsing\n",
        "\n",
        "# does the heavy lifting of the call to vision-transformer code\n",
        "def invoke_ViT_TS_args (default_batch_sz, base_dir, fnm, version_num) :\n",
        "\n",
        "    print (\"batch_sz\", default_batch_sz)\n",
        "\n",
        "    # check for fike path\n",
        "    file_exists = os.path.exists(os.path.join(base_dir, fnm ))\n",
        "\n",
        "\n",
        "    if not file_exists:\n",
        "        print(f\"Error: File for time series forecasting not found in {base_dir}\")\n",
        "    else:\n",
        "        # Append the directory to Python's search path\n",
        "        sys.path.append(base_dir)\n",
        "        # get the module name\n",
        "        module_name = fnm.replace('.py', '')\n",
        "\n",
        "        # Attempt to import the module directly (no relative import)\n",
        "        try:\n",
        "            module = importlib.import_module(module_name)\n",
        "\n",
        "            # Define command-line arguments\n",
        "            parser = argparse.ArgumentParser()\n",
        "            parser.add_argument('--ticker', type=str, required=True, help='Stock ticker symbol')\n",
        "            parser.add_argument('--start_date', type=str, required=True, help='Start date for data')\n",
        "            parser.add_argument('--end_date', type=str, required=True, help='End date for data')\n",
        "            # Add an argument for batch size\n",
        "            parser.add_argument('--batch_size', type=int, default=default_batch_sz, help='Batch size for training')\n",
        "            args = parser.parse_args(['--ticker', 'AAPL', '--start_date', '2020-01-01', '--end_date', '2023-12-31', f'--batch_size={default_batch_sz}'])\n",
        "\n",
        "            # Call the main function from the imported module, passing the batch size from args\n",
        "            module.main(batch_size=args.batch_size, version_num=version_number, args=args)\n",
        "\n",
        "        except SystemExit as e:\n",
        "            print(f\"The 'main' function exited with code: {e.code}\")\n",
        "            # Print the traceback to see what led to the SystemExit\n",
        "            traceback.print_exc()"
      ],
      "metadata": {
        "id": "4FwskNEOEMYl"
      },
      "execution_count": null,
      "outputs": []
    },
    {
      "cell_type": "code",
      "source": [
        "# based on th parse_arg flag - do the call.\n",
        "if parse_args :\n",
        "      invoke_ViT_TS_args (default_batch_sz, base_dir, fnm, version_number)"
      ],
      "metadata": {
        "id": "2vFfIlCEBkF-"
      },
      "execution_count": null,
      "outputs": []
    }
  ]
}