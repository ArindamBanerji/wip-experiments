{
  "nbformat": 4,
  "nbformat_minor": 0,
  "metadata": {
    "colab": {
      "provenance": [],
      "machine_shape": "hm",
      "gpuType": "L4",
      "authorship_tag": "ABX9TyOz0I92hbqcqA9qEBTrKjte",
      "include_colab_link": true
    },
    "kernelspec": {
      "name": "python3",
      "display_name": "Python 3"
    },
    "language_info": {
      "name": "python"
    },
    "accelerator": "GPU"
  },
  "cells": [
    {
      "cell_type": "markdown",
      "metadata": {
        "id": "view-in-github",
        "colab_type": "text"
      },
      "source": [
        "<a href=\"https://colab.research.google.com/github/ArindamBanerji/wip-experiments/blob/master/misc/TS_Image_architectures_v1_0.ipynb\" target=\"_parent\"><img src=\"https://colab.research.google.com/assets/colab-badge.svg\" alt=\"Open In Colab\"/></a>"
      ]
    },
    {
      "cell_type": "code",
      "execution_count": 1,
      "metadata": {
        "colab": {
          "base_uri": "https://localhost:8080/"
        },
        "id": "FU2wgdJC_Aow",
        "outputId": "0741a7c3-1c68-4762-99b1-9cb8e2c8dd79"
      },
      "outputs": [
        {
          "output_type": "stream",
          "name": "stdout",
          "text": [
            "Collecting pyts\n",
            "  Downloading pyts-0.13.0-py3-none-any.whl.metadata (10 kB)\n",
            "Requirement already satisfied: numpy>=1.22.4 in /usr/local/lib/python3.10/dist-packages (from pyts) (1.26.4)\n",
            "Requirement already satisfied: scipy>=1.8.1 in /usr/local/lib/python3.10/dist-packages (from pyts) (1.13.1)\n",
            "Requirement already satisfied: scikit-learn>=1.2.0 in /usr/local/lib/python3.10/dist-packages (from pyts) (1.3.2)\n",
            "Requirement already satisfied: joblib>=1.1.1 in /usr/local/lib/python3.10/dist-packages (from pyts) (1.4.2)\n",
            "Requirement already satisfied: numba>=0.55.2 in /usr/local/lib/python3.10/dist-packages (from pyts) (0.60.0)\n",
            "Requirement already satisfied: llvmlite<0.44,>=0.43.0dev0 in /usr/local/lib/python3.10/dist-packages (from numba>=0.55.2->pyts) (0.43.0)\n",
            "Requirement already satisfied: threadpoolctl>=2.0.0 in /usr/local/lib/python3.10/dist-packages (from scikit-learn>=1.2.0->pyts) (3.5.0)\n",
            "Downloading pyts-0.13.0-py3-none-any.whl (2.5 MB)\n",
            "\u001b[2K   \u001b[90m━━━━━━━━━━━━━━━━━━━━━━━━━━━━━━━━━━━━━━━━\u001b[0m \u001b[32m2.5/2.5 MB\u001b[0m \u001b[31m68.6 MB/s\u001b[0m eta \u001b[36m0:00:00\u001b[0m\n",
            "\u001b[?25hInstalling collected packages: pyts\n",
            "Successfully installed pyts-0.13.0\n"
          ]
        }
      ],
      "source": [
        "!pip install pyts"
      ]
    },
    {
      "cell_type": "code",
      "source": [
        "!pip install yfinance"
      ],
      "metadata": {
        "colab": {
          "base_uri": "https://localhost:8080/"
        },
        "id": "gJ6Q1Da7_EUU",
        "outputId": "55649c2a-a744-43c8-a7c4-83f5a57be294"
      },
      "execution_count": 2,
      "outputs": [
        {
          "output_type": "stream",
          "name": "stdout",
          "text": [
            "Requirement already satisfied: yfinance in /usr/local/lib/python3.10/dist-packages (0.2.41)\n",
            "Requirement already satisfied: pandas>=1.3.0 in /usr/local/lib/python3.10/dist-packages (from yfinance) (2.1.4)\n",
            "Requirement already satisfied: numpy>=1.16.5 in /usr/local/lib/python3.10/dist-packages (from yfinance) (1.26.4)\n",
            "Requirement already satisfied: requests>=2.31 in /usr/local/lib/python3.10/dist-packages (from yfinance) (2.32.3)\n",
            "Requirement already satisfied: multitasking>=0.0.7 in /usr/local/lib/python3.10/dist-packages (from yfinance) (0.0.11)\n",
            "Requirement already satisfied: lxml>=4.9.1 in /usr/local/lib/python3.10/dist-packages (from yfinance) (4.9.4)\n",
            "Requirement already satisfied: platformdirs>=2.0.0 in /usr/local/lib/python3.10/dist-packages (from yfinance) (4.2.2)\n",
            "Requirement already satisfied: pytz>=2022.5 in /usr/local/lib/python3.10/dist-packages (from yfinance) (2024.1)\n",
            "Requirement already satisfied: frozendict>=2.3.4 in /usr/local/lib/python3.10/dist-packages (from yfinance) (2.4.4)\n",
            "Requirement already satisfied: peewee>=3.16.2 in /usr/local/lib/python3.10/dist-packages (from yfinance) (3.17.6)\n",
            "Requirement already satisfied: beautifulsoup4>=4.11.1 in /usr/local/lib/python3.10/dist-packages (from yfinance) (4.12.3)\n",
            "Requirement already satisfied: html5lib>=1.1 in /usr/local/lib/python3.10/dist-packages (from yfinance) (1.1)\n",
            "Requirement already satisfied: soupsieve>1.2 in /usr/local/lib/python3.10/dist-packages (from beautifulsoup4>=4.11.1->yfinance) (2.5)\n",
            "Requirement already satisfied: six>=1.9 in /usr/local/lib/python3.10/dist-packages (from html5lib>=1.1->yfinance) (1.16.0)\n",
            "Requirement already satisfied: webencodings in /usr/local/lib/python3.10/dist-packages (from html5lib>=1.1->yfinance) (0.5.1)\n",
            "Requirement already satisfied: python-dateutil>=2.8.2 in /usr/local/lib/python3.10/dist-packages (from pandas>=1.3.0->yfinance) (2.8.2)\n",
            "Requirement already satisfied: tzdata>=2022.1 in /usr/local/lib/python3.10/dist-packages (from pandas>=1.3.0->yfinance) (2024.1)\n",
            "Requirement already satisfied: charset-normalizer<4,>=2 in /usr/local/lib/python3.10/dist-packages (from requests>=2.31->yfinance) (3.3.2)\n",
            "Requirement already satisfied: idna<4,>=2.5 in /usr/local/lib/python3.10/dist-packages (from requests>=2.31->yfinance) (3.7)\n",
            "Requirement already satisfied: urllib3<3,>=1.21.1 in /usr/local/lib/python3.10/dist-packages (from requests>=2.31->yfinance) (2.0.7)\n",
            "Requirement already satisfied: certifi>=2017.4.17 in /usr/local/lib/python3.10/dist-packages (from requests>=2.31->yfinance) (2024.7.4)\n"
          ]
        }
      ]
    },
    {
      "cell_type": "code",
      "source": [
        "import torch\n",
        "import torchvision.models as models\n",
        "import torchvision.transforms as transforms\n",
        "from PIL import Image\n",
        "import torch.nn as nn\n",
        "from torch.autograd import Variable\n",
        "from tqdm.notebook import tqdm\n",
        "import torch.nn.functional as F\n",
        "from torch.utils.data import DataLoader,ConcatDataset, TensorDataset,Subset,Dataset\n",
        "from sklearn.model_selection import train_test_split\n",
        "import warnings\n",
        "import pandas as pd\n",
        "import yfinance as yf\n",
        "import datetime\n",
        "import numpy as np\n",
        "import matplotlib.pyplot as plt\n",
        "from pyts.image import GramianAngularField as GADF\n",
        "import plotly.graph_objs as go\n",
        "import plotly.io as pio\n",
        "from sklearn.preprocessing import StandardScaler,MinMaxScaler\n",
        "from pyts.image import GramianAngularField\n",
        "from torchvision.models import resnet18\n",
        "import torch.optim as optim"
      ],
      "metadata": {
        "id": "AKXDmlcZ_IN6"
      },
      "execution_count": 3,
      "outputs": []
    },
    {
      "cell_type": "code",
      "source": [
        "warnings.filterwarnings('ignore')\n",
        "device = torch.device(\"cuda:0\" if torch.cuda.is_available() else \"cpu\")\n",
        "print(device)"
      ],
      "metadata": {
        "colab": {
          "base_uri": "https://localhost:8080/"
        },
        "id": "5ca1cXTA_P7Z",
        "outputId": "50f21bc5-5a77-48b5-8554-5f29e534cac1"
      },
      "execution_count": 4,
      "outputs": [
        {
          "output_type": "stream",
          "name": "stdout",
          "text": [
            "cuda:0\n"
          ]
        }
      ]
    },
    {
      "cell_type": "markdown",
      "source": [
        "**Import DataSets**"
      ],
      "metadata": {
        "id": "hrxcPJrtA-5s"
      }
    },
    {
      "cell_type": "code",
      "source": [
        "# create function that takes ticker symbol, start and end daates and returns dataset\n",
        "def get_data(ticker, start_date, end_date):\n",
        "  data = yf.download(ticker, start=start_date, end=end_date, interval='1h')\n",
        "  return data"
      ],
      "metadata": {
        "id": "ZK0SqF0mHr8i"
      },
      "execution_count": 5,
      "outputs": []
    },
    {
      "cell_type": "code",
      "source": [
        "# define function to show sample of returned data\n",
        "def show_sample(data):\n",
        "  print(data.head())\n",
        "  print(data.tail())\n",
        "  print(data.describe())\n",
        "  print(data.info())"
      ],
      "metadata": {
        "id": "3MWJfSwmJDD8"
      },
      "execution_count": 6,
      "outputs": []
    },
    {
      "cell_type": "code",
      "source": [
        "start_date = '2023-05-11'\n",
        "end_date = '2024-06-10'\n",
        "ticker = 'AAPL'\n",
        "data = get_data(ticker, start_date, end_date)"
      ],
      "metadata": {
        "colab": {
          "base_uri": "https://localhost:8080/"
        },
        "id": "r39mmFEHBNHa",
        "outputId": "42170214-45f2-4e32-a9bd-81fa9473d134"
      },
      "execution_count": 7,
      "outputs": [
        {
          "output_type": "stream",
          "name": "stderr",
          "text": [
            "\r[*********************100%%**********************]  1 of 1 completed\n"
          ]
        }
      ]
    },
    {
      "cell_type": "code",
      "source": [
        "# shiw sample data\n",
        "show_sample(data)"
      ],
      "metadata": {
        "colab": {
          "base_uri": "https://localhost:8080/"
        },
        "id": "Bit0b7UlJPWH",
        "outputId": "ddbb7d83-abda-47b1-a4c4-44ac62ea0344"
      },
      "execution_count": 8,
      "outputs": [
        {
          "output_type": "stream",
          "name": "stdout",
          "text": [
            "                                 Open        High         Low       Close  \\\n",
            "Datetime                                                                    \n",
            "2023-05-11 09:30:00-04:00  173.850006  173.960007  172.169998  172.669998   \n",
            "2023-05-11 10:30:00-04:00  172.669998  173.699997  172.300003  173.699997   \n",
            "2023-05-11 11:30:00-04:00  173.695007  173.914993  173.259995  173.660004   \n",
            "2023-05-11 12:30:00-04:00  173.669998  174.024994  173.380005  173.470001   \n",
            "2023-05-11 13:30:00-04:00  173.470001  174.000000  173.059998  173.990097   \n",
            "\n",
            "                            Adj Close    Volume  \n",
            "Datetime                                         \n",
            "2023-05-11 09:30:00-04:00  172.669998  11552802  \n",
            "2023-05-11 10:30:00-04:00  173.699997   6827208  \n",
            "2023-05-11 11:30:00-04:00  173.660004   5325734  \n",
            "2023-05-11 12:30:00-04:00  173.470001   4415832  \n",
            "2023-05-11 13:30:00-04:00  173.990097   4089255  \n",
            "                                 Open        High         Low       Close  \\\n",
            "Datetime                                                                    \n",
            "2024-06-07 11:30:00-04:00  195.625000  196.184998  195.600006  195.955002   \n",
            "2024-06-07 12:30:00-04:00  195.960007  196.490005  195.710007  196.360001   \n",
            "2024-06-07 13:30:00-04:00  196.360001  196.580002  195.720001  195.869995   \n",
            "2024-06-07 14:30:00-04:00  195.860001  196.440002  195.580002  196.439499   \n",
            "2024-06-07 15:30:00-04:00  196.434998  196.940002  196.240005  196.899994   \n",
            "\n",
            "                            Adj Close   Volume  \n",
            "Datetime                                        \n",
            "2024-06-07 11:30:00-04:00  195.955002  7373793  \n",
            "2024-06-07 12:30:00-04:00  196.360001  4552773  \n",
            "2024-06-07 13:30:00-04:00  195.869995  5669748  \n",
            "2024-06-07 14:30:00-04:00  196.439499  4413006  \n",
            "2024-06-07 15:30:00-04:00  196.899994  7738011  \n",
            "              Open         High          Low        Close    Adj Close  \\\n",
            "count  1889.000000  1889.000000  1889.000000  1889.000000  1889.000000   \n",
            "mean    182.171437   182.663273   181.676364   182.180392   182.180392   \n",
            "std       8.552551     8.514862     8.572236     8.543878     8.543878   \n",
            "min     164.369995   165.160004   164.080002   164.362396   164.362396   \n",
            "25%     174.699997   175.199402   174.100006   174.740005   174.740005   \n",
            "50%     182.205002   182.680099   181.729996   182.270004   182.270004   \n",
            "75%     189.839996   190.149994   189.350006   189.830002   189.830002   \n",
            "max     198.800003   199.619995   198.589996   198.789993   198.789993   \n",
            "\n",
            "             Volume  \n",
            "count  1.889000e+03  \n",
            "mean   6.711519e+06  \n",
            "std    4.314134e+06  \n",
            "min    0.000000e+00  \n",
            "25%    4.254936e+06  \n",
            "50%    5.398241e+06  \n",
            "75%    7.573154e+06  \n",
            "max    5.581979e+07  \n",
            "<class 'pandas.core.frame.DataFrame'>\n",
            "DatetimeIndex: 1889 entries, 2023-05-11 09:30:00-04:00 to 2024-06-07 15:30:00-04:00\n",
            "Data columns (total 6 columns):\n",
            " #   Column     Non-Null Count  Dtype  \n",
            "---  ------     --------------  -----  \n",
            " 0   Open       1889 non-null   float64\n",
            " 1   High       1889 non-null   float64\n",
            " 2   Low        1889 non-null   float64\n",
            " 3   Close      1889 non-null   float64\n",
            " 4   Adj Close  1889 non-null   float64\n",
            " 5   Volume     1889 non-null   int64  \n",
            "dtypes: float64(5), int64(1)\n",
            "memory usage: 103.3 KB\n",
            "None\n"
          ]
        }
      ]
    },
    {
      "cell_type": "markdown",
      "source": [
        "**Create GADF images from Time Series**"
      ],
      "metadata": {
        "id": "Pkxv0ZFSMdEg"
      }
    },
    {
      "cell_type": "code",
      "source": [
        "def create_gaf_images(data, image_size=28):\n",
        "    num_days = len(data) // (image_size)\n",
        "    data = data[:num_days*image_size].reshape(num_days, image_size)\n",
        "    close_prices=[]\n",
        "    for i in range(num_days):\n",
        "        close_prices.append(np.mean(data[i]))\n",
        "    gadf = GADF(image_size=image_size)\n",
        "    gadf_images= gadf.fit_transform(data)\n",
        "    return gadf_images,close_prices\n"
      ],
      "metadata": {
        "id": "vBBc3CifNDUz"
      },
      "execution_count": null,
      "outputs": []
    },
    {
      "cell_type": "code",
      "source": [
        "# def function to return np.array of a particular column of dataframe\n",
        "def get_column(data, column_name):\n",
        "    return np.array(data[column_name])"
      ],
      "metadata": {
        "id": "1GJ0DZI6OHf2"
      },
      "execution_count": null,
      "outputs": []
    },
    {
      "cell_type": "code",
      "source": [
        "def get_for_whole(data):\n",
        "    images=[]\n",
        "    prices=[]\n",
        "    data1= data.drop(columns=['Volume'])\n",
        "    for idx, i in enumerate(data1.columns):\n",
        "      if(idx<1 or idx>3):\n",
        "        continue\n",
        "      close= np.array(data1[i])\n",
        "      gaf_images,close_prices= create_gaf_images(close,30)\n",
        "      images.append(gaf_images)\n",
        "      if(i=='Close'):\n",
        "        prices.append(close_prices)\n",
        "    images= np.transpose(images, (1, 0, 2, 3))\n",
        "    return np.array(images), prices\n"
      ],
      "metadata": {
        "id": "vTDqAcaISeTT"
      },
      "execution_count": null,
      "outputs": []
    },
    {
      "cell_type": "code",
      "source": [
        "images, prices= get_for_whole(data)\n",
        "# get 'Close' data and print len\n",
        "close = get_column(data, 'Close')\n",
        "print(len(close))"
      ],
      "metadata": {
        "id": "yHVM75_6UwQT"
      },
      "execution_count": null,
      "outputs": []
    },
    {
      "cell_type": "code",
      "source": [
        "# define function to show an image at a specified index\n",
        "def show_image(images, index):\n",
        "  image= images[index]\n",
        "  image= np.transpose(image, (1, 2, 0))\n",
        "  plt.imshow(image)"
      ],
      "metadata": {
        "id": "h-7e_2bzX7sv"
      },
      "execution_count": null,
      "outputs": []
    },
    {
      "cell_type": "code",
      "source": [
        "gaf_images,close_prices= create_gaf_images(close,30)\n",
        "plt.imshow(gaf_images[0],cmap='hot')\n",
        "print(gaf_images.shape)"
      ],
      "metadata": {
        "id": "-dbNbDwvYyXO"
      },
      "execution_count": null,
      "outputs": []
    },
    {
      "cell_type": "code",
      "source": [
        "show_image(images, 0)"
      ],
      "metadata": {
        "id": "ZhmIXmHoYQdu"
      },
      "execution_count": null,
      "outputs": []
    },
    {
      "cell_type": "markdown",
      "source": [
        "** Generate Encodings usng CNNs on GADF images**"
      ],
      "metadata": {
        "id": "zAN8GCMFaHBT"
      }
    },
    {
      "cell_type": "code",
      "source": [
        "# This function is used to generate random noise image\n",
        "def generate_noise_image():\n",
        "    return torch.rand((1, 3, 224, 224))\n",
        "\n",
        "# function to preprocess input image\n",
        "def preprocess_image(image_path):\n",
        "    transform = transforms.Compose([\n",
        "        transforms.Resize(256),\n",
        "        transforms.CenterCrop(224),\n",
        "        transforms.ToTensor(),\n",
        "        transforms.Normalize(\n",
        "            mean=[0.485, 0.456, 0.406],\n",
        "            std=[0.229, 0.224, 0.225]\n",
        "        )\n",
        "    ])\n",
        "    image = Image.open(image_path)\n",
        "    image = transform(image)\n",
        "    image = image.unsqueeze(0)\n",
        "    return image\n",
        "\n",
        "# function to get embeddings from ResNet model\n",
        "def get_resnet_embeddings(image_path=None):\n",
        "\n",
        "    resnet = models.resnet50(pretrained=True)\n",
        "    resnet = torch.nn.Sequential(*list(resnet.children())[:-1])\n",
        "    if image_path is None:\n",
        "        image = generate_noise_image()\n",
        "    else:\n",
        "        image = preprocess_image(image_path)\n",
        "    embeddings = resnet(image)\n",
        "    return embeddings\n",
        "\n",
        "# function to get embeddings from DenseNet model\n",
        "def get_densenet_embeddings(image_path=None):\n",
        "    densenet = models.densenet121(pretrained=True)\n",
        "    densenet = torch.nn.Sequential(*list(densenet.children())[:-1])\n",
        "    if image_path is None:\n",
        "        image = generate_noise_image()\n",
        "    else:\n",
        "        image = preprocess_image(image_path)\n",
        "    embeddings = densenet(image)\n",
        "    return embeddings"
      ],
      "metadata": {
        "id": "5C8mwX2JZ6cL"
      },
      "execution_count": null,
      "outputs": []
    },
    {
      "cell_type": "markdown",
      "source": [
        "**Simple LSTM**"
      ],
      "metadata": {
        "id": "NRirlgaScdgB"
      }
    },
    {
      "cell_type": "code",
      "source": [
        "class LstmNet(nn.Module):\n",
        "    def __init__(self,input_size,hidden_size,layers,output_size):\n",
        "        super(LstmNet,self).__init__()\n",
        "        self.layers = layers\n",
        "        self.hidden_size = hidden_size\n",
        "        self.lstm = nn.LSTM(input_size=input_size, hidden_size=hidden_size, num_layers=layers, batch_first=True)\n",
        "\n",
        "        self.fc1 = nn.Linear(hidden_size, output_size)\n",
        "        # self.fc2 = nn.Linear(10,output_size)\n",
        "    def forward(self,x):\n",
        "        # print(x.shape)\n",
        "        h0 = Variable(torch.zeros(self.layers, x.size(0), self.hidden_size)).to(device)\n",
        "\n",
        "        c0 = Variable(torch.zeros(self.layers, x.size(0), self.hidden_size)).to(device)\n",
        "        out, (h_out, c_out) = self.lstm(x,(h0,c0))\n",
        "        # print(out.shape,h_out.shape,c_out.shape)\n",
        "        out = self.fc1(out[:,-1,:])\n",
        "        return out.squeeze(1)\n"
      ],
      "metadata": {
        "id": "mCI1emOXcacW"
      },
      "execution_count": 9,
      "outputs": []
    },
    {
      "cell_type": "code",
      "source": [
        "def prepare_dataset(data,length):\n",
        "    x = []\n",
        "    y = []\n",
        "    for i in range(len(data)-length-1):\n",
        "        x.append(data[i:i+length])\n",
        "        y.append(data[i+length])\n",
        "    return np.array(x),np.array(y)\n",
        "\n",
        "def train_test_split(X,Y,percent):\n",
        "    per = percent/100\n",
        "    sz = len(X)\n",
        "    xtrain = torch.Tensor(X[:int(sz*per)])\n",
        "    ytrain = torch.Tensor(Y[:int(sz*per)])\n",
        "    xtest = torch.Tensor(X[int(sz*per):])\n",
        "    ytest = torch.Tensor(Y[int(sz*per):])\n",
        "    return xtrain,ytrain,xtest,ytest\n",
        "\n",
        "class DataPrep(Dataset):\n",
        "  def __init__(self, inputs, targets):\n",
        "      self.inputs = inputs\n",
        "      self.targets = targets\n",
        "  def __len__(self):\n",
        "      return len(self.inputs)\n",
        "\n",
        "  def __getitem__(self, index):\n",
        "      X = self.inputs[index]\n",
        "      Y = self.targets[index]\n",
        "      return X, Y"
      ],
      "metadata": {
        "id": "DMznfEJUcj8Y"
      },
      "execution_count": 10,
      "outputs": []
    },
    {
      "cell_type": "code",
      "source": [
        "# define function to encapsulate the whole train-prediction cycle\n",
        "\n",
        "def train_predict (data) :\n",
        "    scaler = StandardScaler()\n",
        "    values = scaler.fit_transform(data['Close'].values.reshape(-1,1))\n",
        "    seq_len = 40\n",
        "    data_inp,data_tar = prepare_dataset(values,seq_len)\n",
        "    xtrain,ytrain,xtest,ytest = train_test_split(data_inp,data_tar,80)\n",
        "\n",
        "    traindata = DataPrep(xtrain,ytrain)\n",
        "    testdata = DataPrep(xtest,ytest)\n",
        "    batch_size = 32\n",
        "    trainset = DataLoader(traindata,batch_size = batch_size,shuffle = True)\n",
        "    testset = DataLoader(testdata,batch_size = batch_size,shuffle = True)\n",
        "    for xbatch,ybatch in trainset:\n",
        "        print(xbatch.shape,ybatch.shape)\n",
        "        break\n",
        "\n",
        "\n",
        "    train_losses = []\n",
        "    test_losses = []\n",
        "    input_sz = 1\n",
        "    hidden_sz = 200\n",
        "    output_sz = 1\n",
        "    layers = 2\n",
        "    model = LstmNet(input_sz,hidden_sz,layers,output_sz).to(device)\n",
        "    criterion = torch.nn.MSELoss()\n",
        "    optimizer = torch.optim.SGD(model.parameters(), lr=0.00001)\n",
        "    for epoch in range(1000):\n",
        "        batch_loss = 0\n",
        "        # correct = 0\n",
        "        for xbatch,ybatch in trainset:\n",
        "            xbatch,ybatch = xbatch.to(device),ybatch.to(device)\n",
        "            out = model(xbatch)\n",
        "            # print(ybatch.shape,out.shape)\n",
        "            loss = criterion(out, ybatch.squeeze(1))\n",
        "            loss.backward()\n",
        "            optimizer.step()\n",
        "            batch_loss += loss.item()\n",
        "            # break\n",
        "\n",
        "        train_loss = batch_loss/len(trainset)\n",
        "        batch_loss = 0\n",
        "        with torch.no_grad():\n",
        "            for xbatch,ybatch in testset:\n",
        "                xbatch,ybatch = xbatch.to(device),ybatch.to(device)\n",
        "                out = model(xbatch)\n",
        "                loss = criterion(out, ybatch.squeeze(1))\n",
        "                batch_loss += loss.item()\n",
        "        test_loss = batch_loss/len(testset)\n",
        "        train_losses.append(train_loss)\n",
        "        test_losses.append(test_loss)\n",
        "        if(epoch%10==9):\n",
        "            print(\"Epoch: \", epoch+1, \"|\", \"Train Loss : \", \"{:.6f}\".format(train_loss), \"|\", \"Test Loss : \", \"{:.6f}\".format(test_loss))\n",
        "\n",
        "    return xtrain, ytrain, xtest, ytest, model\n",
        "\n",
        ""
      ],
      "metadata": {
        "id": "qTNZXRDZmTWR"
      },
      "execution_count": 11,
      "outputs": []
    },
    {
      "cell_type": "code",
      "source": [
        "# define the prdict function for lstm\n",
        "def predict(xtrain, ytrain, xtest, ytest, model):\n",
        "  train_pred = model(xtrain.to(device)).cpu().data.numpy()\n",
        "  train_actual = ytrain.data.numpy()\n",
        "  test_pred = model(xtest.to(device)).cpu().data.numpy()\n",
        "  test_actual = ytest.data.numpy()\n",
        "\n",
        "  pred = np.concatenate((train_pred,test_pred))\n",
        "  # pred = scaler.inverse_transform(pred)\n",
        "  actual = np.concatenate((train_actual,test_actual)).squeeze()\n",
        "  # actual = scaler.inverse_transform(pred)\n",
        "  print(pred.shape)\n",
        "  print(actual.shape)\n",
        "\n",
        "  return pred, actual, train_pred, test_actual"
      ],
      "metadata": {
        "id": "9rnO5zdPsTcG"
      },
      "execution_count": 12,
      "outputs": []
    },
    {
      "cell_type": "code",
      "source": [
        "# define function to display results\n",
        "def display_results(pred, actual, train_pred, test_actual) :\n",
        "    trace1 = go.Scatter(x = [(i+1) for i in range(len(pred))],y = pred, name='Predicted Data')\n",
        "    trace2 = go.Scatter(x = [(i+1) for i in range(len(actual))],y = actual, name='Actual data')\n",
        "\n",
        "    datas = [trace1,trace2]\n",
        "\n",
        "    layout = go.Layout(title='Prediction for 80:20 split Normal LSTM')\n",
        "    fig = go.Figure(data=datas, layout=layout)\n",
        "    fig.add_vline(x=len(train_pred), line_width=1, line_dash=\"dash\", line_color=\"red\")\n",
        "\n",
        "    fig.show()\n",
        "\n"
      ],
      "metadata": {
        "id": "75g6LbszupHw"
      },
      "execution_count": 13,
      "outputs": []
    },
    {
      "cell_type": "code",
      "source": [
        "def run_lstm (data) :\n",
        "  xtrain, ytrain, xtest, ytest, model = train_predict(data)\n",
        "  pred, actual, train_pred, test_actual = predict(xtrain, ytrain, xtest, ytest, model)\n",
        "  display_results(pred, actual, train_pred, test_actual)\n"
      ],
      "metadata": {
        "id": "f35T1_O4ye8S"
      },
      "execution_count": 14,
      "outputs": []
    },
    {
      "cell_type": "code",
      "source": [
        "run_lstm(data)"
      ],
      "metadata": {
        "colab": {
          "base_uri": "https://localhost:8080/",
          "height": 1000
        },
        "id": "FnhsWCle2L1J",
        "outputId": "46489e51-2a80-4810-ea2a-4e50b08d37ff"
      },
      "execution_count": 15,
      "outputs": [
        {
          "output_type": "stream",
          "name": "stdout",
          "text": [
            "torch.Size([32, 40, 1]) torch.Size([32, 1])\n",
            "Epoch:  10 | Train Loss :  0.787392 | Test Loss :  1.597036\n",
            "Epoch:  20 | Train Loss :  0.333614 | Test Loss :  0.531240\n",
            "Epoch:  30 | Train Loss :  0.168657 | Test Loss :  0.102958\n",
            "Epoch:  40 | Train Loss :  0.485729 | Test Loss :  0.981923\n",
            "Epoch:  50 | Train Loss :  0.034085 | Test Loss :  0.089765\n",
            "Epoch:  60 | Train Loss :  0.021104 | Test Loss :  0.034387\n",
            "Epoch:  70 | Train Loss :  0.288492 | Test Loss :  0.526770\n",
            "Epoch:  80 | Train Loss :  0.051126 | Test Loss :  0.079130\n",
            "Epoch:  90 | Train Loss :  0.062237 | Test Loss :  0.066283\n",
            "Epoch:  100 | Train Loss :  0.168391 | Test Loss :  0.356529\n",
            "Epoch:  110 | Train Loss :  0.057050 | Test Loss :  0.101631\n",
            "Epoch:  120 | Train Loss :  0.110871 | Test Loss :  0.190657\n",
            "Epoch:  130 | Train Loss :  0.066445 | Test Loss :  0.062442\n",
            "Epoch:  140 | Train Loss :  0.101405 | Test Loss :  0.157043\n",
            "Epoch:  150 | Train Loss :  0.161023 | Test Loss :  0.308615\n",
            "Epoch:  160 | Train Loss :  0.055633 | Test Loss :  0.061317\n",
            "Epoch:  170 | Train Loss :  0.058693 | Test Loss :  0.105166\n",
            "Epoch:  180 | Train Loss :  0.075141 | Test Loss :  0.112805\n",
            "Epoch:  190 | Train Loss :  0.032374 | Test Loss :  0.033539\n",
            "Epoch:  200 | Train Loss :  0.088484 | Test Loss :  0.161023\n",
            "Epoch:  210 | Train Loss :  0.074501 | Test Loss :  0.136320\n",
            "Epoch:  220 | Train Loss :  0.023779 | Test Loss :  0.025365\n",
            "Epoch:  230 | Train Loss :  0.075041 | Test Loss :  0.102498\n",
            "Epoch:  240 | Train Loss :  0.053878 | Test Loss :  0.075497\n",
            "Epoch:  250 | Train Loss :  0.020480 | Test Loss :  0.025312\n",
            "Epoch:  260 | Train Loss :  0.073254 | Test Loss :  0.160471\n",
            "Epoch:  270 | Train Loss :  0.088603 | Test Loss :  0.141833\n",
            "Epoch:  280 | Train Loss :  0.038946 | Test Loss :  0.081994\n",
            "Epoch:  290 | Train Loss :  0.013153 | Test Loss :  0.016077\n",
            "Epoch:  300 | Train Loss :  0.063124 | Test Loss :  0.079576\n",
            "Epoch:  310 | Train Loss :  0.065302 | Test Loss :  0.061051\n",
            "Epoch:  320 | Train Loss :  0.025402 | Test Loss :  0.021565\n",
            "Epoch:  330 | Train Loss :  0.040782 | Test Loss :  0.101821\n",
            "Epoch:  340 | Train Loss :  0.073188 | Test Loss :  0.124467\n",
            "Epoch:  350 | Train Loss :  0.073184 | Test Loss :  0.163811\n",
            "Epoch:  360 | Train Loss :  0.043139 | Test Loss :  0.063493\n",
            "Epoch:  370 | Train Loss :  0.020960 | Test Loss :  0.030250\n",
            "Epoch:  380 | Train Loss :  0.040468 | Test Loss :  0.046707\n",
            "Epoch:  390 | Train Loss :  0.066562 | Test Loss :  0.068103\n",
            "Epoch:  400 | Train Loss :  0.047434 | Test Loss :  0.053812\n",
            "Epoch:  410 | Train Loss :  0.021464 | Test Loss :  0.021989\n",
            "Epoch:  420 | Train Loss :  0.029000 | Test Loss :  0.036459\n",
            "Epoch:  430 | Train Loss :  0.053981 | Test Loss :  0.109753\n",
            "Epoch:  440 | Train Loss :  0.067632 | Test Loss :  0.098682\n",
            "Epoch:  450 | Train Loss :  0.057516 | Test Loss :  0.113582\n",
            "Epoch:  460 | Train Loss :  0.033293 | Test Loss :  0.046731\n",
            "Epoch:  470 | Train Loss :  0.013507 | Test Loss :  0.020970\n",
            "Epoch:  480 | Train Loss :  0.017979 | Test Loss :  0.022507\n",
            "Epoch:  490 | Train Loss :  0.041225 | Test Loss :  0.053227\n",
            "Epoch:  500 | Train Loss :  0.050842 | Test Loss :  0.059924\n",
            "Epoch:  510 | Train Loss :  0.036643 | Test Loss :  0.043550\n",
            "Epoch:  520 | Train Loss :  0.021926 | Test Loss :  0.022567\n",
            "Epoch:  530 | Train Loss :  0.022287 | Test Loss :  0.027136\n",
            "Epoch:  540 | Train Loss :  0.034256 | Test Loss :  0.077575\n",
            "Epoch:  550 | Train Loss :  0.045232 | Test Loss :  0.083751\n",
            "Epoch:  560 | Train Loss :  0.050502 | Test Loss :  0.099329\n",
            "Epoch:  570 | Train Loss :  0.047768 | Test Loss :  0.103162\n",
            "Epoch:  580 | Train Loss :  0.037160 | Test Loss :  0.053297\n",
            "Epoch:  590 | Train Loss :  0.021847 | Test Loss :  0.045747\n",
            "Epoch:  600 | Train Loss :  0.014445 | Test Loss :  0.016908\n",
            "Epoch:  610 | Train Loss :  0.023911 | Test Loss :  0.024867\n",
            "Epoch:  620 | Train Loss :  0.041768 | Test Loss :  0.039760\n",
            "Epoch:  630 | Train Loss :  0.048361 | Test Loss :  0.047876\n",
            "Epoch:  640 | Train Loss :  0.036360 | Test Loss :  0.034358\n",
            "Epoch:  650 | Train Loss :  0.018320 | Test Loss :  0.018431\n",
            "Epoch:  660 | Train Loss :  0.012367 | Test Loss :  0.028457\n",
            "Epoch:  670 | Train Loss :  0.022765 | Test Loss :  0.055300\n",
            "Epoch:  680 | Train Loss :  0.041448 | Test Loss :  0.068035\n",
            "Epoch:  690 | Train Loss :  0.051529 | Test Loss :  0.115922\n",
            "Epoch:  700 | Train Loss :  0.047066 | Test Loss :  0.087013\n",
            "Epoch:  710 | Train Loss :  0.039077 | Test Loss :  0.077877\n",
            "Epoch:  720 | Train Loss :  0.032066 | Test Loss :  0.068034\n",
            "Epoch:  730 | Train Loss :  0.023170 | Test Loss :  0.028447\n",
            "Epoch:  740 | Train Loss :  0.014587 | Test Loss :  0.022633\n",
            "Epoch:  750 | Train Loss :  0.016926 | Test Loss :  0.019019\n",
            "Epoch:  760 | Train Loss :  0.032911 | Test Loss :  0.038434\n",
            "Epoch:  770 | Train Loss :  0.046570 | Test Loss :  0.044705\n",
            "Epoch:  780 | Train Loss :  0.041300 | Test Loss :  0.052673\n",
            "Epoch:  790 | Train Loss :  0.024354 | Test Loss :  0.024472\n",
            "Epoch:  800 | Train Loss :  0.013875 | Test Loss :  0.014928\n",
            "Epoch:  810 | Train Loss :  0.017168 | Test Loss :  0.020570\n",
            "Epoch:  820 | Train Loss :  0.025728 | Test Loss :  0.052451\n",
            "Epoch:  830 | Train Loss :  0.031555 | Test Loss :  0.053067\n",
            "Epoch:  840 | Train Loss :  0.040122 | Test Loss :  0.071149\n",
            "Epoch:  850 | Train Loss :  0.048482 | Test Loss :  0.093601\n",
            "Epoch:  860 | Train Loss :  0.045290 | Test Loss :  0.067997\n",
            "Epoch:  870 | Train Loss :  0.031604 | Test Loss :  0.062178\n",
            "Epoch:  880 | Train Loss :  0.022845 | Test Loss :  0.041054\n",
            "Epoch:  890 | Train Loss :  0.020168 | Test Loss :  0.022582\n",
            "Epoch:  900 | Train Loss :  0.016873 | Test Loss :  0.020458\n",
            "Epoch:  910 | Train Loss :  0.020365 | Test Loss :  0.028828\n",
            "Epoch:  920 | Train Loss :  0.034348 | Test Loss :  0.039486\n",
            "Epoch:  930 | Train Loss :  0.045777 | Test Loss :  0.042908\n",
            "Epoch:  940 | Train Loss :  0.038797 | Test Loss :  0.046535\n",
            "Epoch:  950 | Train Loss :  0.022255 | Test Loss :  0.022161\n",
            "Epoch:  960 | Train Loss :  0.015929 | Test Loss :  0.017415\n",
            "Epoch:  970 | Train Loss :  0.019539 | Test Loss :  0.023833\n",
            "Epoch:  980 | Train Loss :  0.022389 | Test Loss :  0.047898\n",
            "Epoch:  990 | Train Loss :  0.028475 | Test Loss :  0.055066\n",
            "Epoch:  1000 | Train Loss :  0.041987 | Test Loss :  0.066540\n",
            "(1848,)\n",
            "(1848,)\n"
          ]
        },
        {
          "output_type": "display_data",
          "data": {
            "text/html": [
              "<html>\n",
              "<head><meta charset=\"utf-8\" /></head>\n",
              "<body>\n",
              "    <div>            <script src=\"https://cdnjs.cloudflare.com/ajax/libs/mathjax/2.7.5/MathJax.js?config=TeX-AMS-MML_SVG\"></script><script type=\"text/javascript\">if (window.MathJax && window.MathJax.Hub && window.MathJax.Hub.Config) {window.MathJax.Hub.Config({SVG: {font: \"STIX-Web\"}});}</script>                <script type=\"text/javascript\">window.PlotlyConfig = {MathJaxConfig: 'local'};</script>\n",
              "        <script charset=\"utf-8\" src=\"https://cdn.plot.ly/plotly-2.24.1.min.js\"></script>                <div id=\"e54ab0d5-4238-4a27-8286-59577807aaf2\" class=\"plotly-graph-div\" style=\"height:525px; width:100%;\"></div>            <script type=\"text/javascript\">                                    window.PLOTLYENV=window.PLOTLYENV || {};                                    if (document.getElementById(\"e54ab0d5-4238-4a27-8286-59577807aaf2\")) {                    Plotly.newPlot(                        \"e54ab0d5-4238-4a27-8286-59577807aaf2\",                        [{\"name\":\"Predicted Data\",\"x\":[1,2,3,4,5,6,7,8,9,10,11,12,13,14,15,16,17,18,19,20,21,22,23,24,25,26,27,28,29,30,31,32,33,34,35,36,37,38,39,40,41,42,43,44,45,46,47,48,49,50,51,52,53,54,55,56,57,58,59,60,61,62,63,64,65,66,67,68,69,70,71,72,73,74,75,76,77,78,79,80,81,82,83,84,85,86,87,88,89,90,91,92,93,94,95,96,97,98,99,100,101,102,103,104,105,106,107,108,109,110,111,112,113,114,115,116,117,118,119,120,121,122,123,124,125,126,127,128,129,130,131,132,133,134,135,136,137,138,139,140,141,142,143,144,145,146,147,148,149,150,151,152,153,154,155,156,157,158,159,160,161,162,163,164,165,166,167,168,169,170,171,172,173,174,175,176,177,178,179,180,181,182,183,184,185,186,187,188,189,190,191,192,193,194,195,196,197,198,199,200,201,202,203,204,205,206,207,208,209,210,211,212,213,214,215,216,217,218,219,220,221,222,223,224,225,226,227,228,229,230,231,232,233,234,235,236,237,238,239,240,241,242,243,244,245,246,247,248,249,250,251,252,253,254,255,256,257,258,259,260,261,262,263,264,265,266,267,268,269,270,271,272,273,274,275,276,277,278,279,280,281,282,283,284,285,286,287,288,289,290,291,292,293,294,295,296,297,298,299,300,301,302,303,304,305,306,307,308,309,310,311,312,313,314,315,316,317,318,319,320,321,322,323,324,325,326,327,328,329,330,331,332,333,334,335,336,337,338,339,340,341,342,343,344,345,346,347,348,349,350,351,352,353,354,355,356,357,358,359,360,361,362,363,364,365,366,367,368,369,370,371,372,373,374,375,376,377,378,379,380,381,382,383,384,385,386,387,388,389,390,391,392,393,394,395,396,397,398,399,400,401,402,403,404,405,406,407,408,409,410,411,412,413,414,415,416,417,418,419,420,421,422,423,424,425,426,427,428,429,430,431,432,433,434,435,436,437,438,439,440,441,442,443,444,445,446,447,448,449,450,451,452,453,454,455,456,457,458,459,460,461,462,463,464,465,466,467,468,469,470,471,472,473,474,475,476,477,478,479,480,481,482,483,484,485,486,487,488,489,490,491,492,493,494,495,496,497,498,499,500,501,502,503,504,505,506,507,508,509,510,511,512,513,514,515,516,517,518,519,520,521,522,523,524,525,526,527,528,529,530,531,532,533,534,535,536,537,538,539,540,541,542,543,544,545,546,547,548,549,550,551,552,553,554,555,556,557,558,559,560,561,562,563,564,565,566,567,568,569,570,571,572,573,574,575,576,577,578,579,580,581,582,583,584,585,586,587,588,589,590,591,592,593,594,595,596,597,598,599,600,601,602,603,604,605,606,607,608,609,610,611,612,613,614,615,616,617,618,619,620,621,622,623,624,625,626,627,628,629,630,631,632,633,634,635,636,637,638,639,640,641,642,643,644,645,646,647,648,649,650,651,652,653,654,655,656,657,658,659,660,661,662,663,664,665,666,667,668,669,670,671,672,673,674,675,676,677,678,679,680,681,682,683,684,685,686,687,688,689,690,691,692,693,694,695,696,697,698,699,700,701,702,703,704,705,706,707,708,709,710,711,712,713,714,715,716,717,718,719,720,721,722,723,724,725,726,727,728,729,730,731,732,733,734,735,736,737,738,739,740,741,742,743,744,745,746,747,748,749,750,751,752,753,754,755,756,757,758,759,760,761,762,763,764,765,766,767,768,769,770,771,772,773,774,775,776,777,778,779,780,781,782,783,784,785,786,787,788,789,790,791,792,793,794,795,796,797,798,799,800,801,802,803,804,805,806,807,808,809,810,811,812,813,814,815,816,817,818,819,820,821,822,823,824,825,826,827,828,829,830,831,832,833,834,835,836,837,838,839,840,841,842,843,844,845,846,847,848,849,850,851,852,853,854,855,856,857,858,859,860,861,862,863,864,865,866,867,868,869,870,871,872,873,874,875,876,877,878,879,880,881,882,883,884,885,886,887,888,889,890,891,892,893,894,895,896,897,898,899,900,901,902,903,904,905,906,907,908,909,910,911,912,913,914,915,916,917,918,919,920,921,922,923,924,925,926,927,928,929,930,931,932,933,934,935,936,937,938,939,940,941,942,943,944,945,946,947,948,949,950,951,952,953,954,955,956,957,958,959,960,961,962,963,964,965,966,967,968,969,970,971,972,973,974,975,976,977,978,979,980,981,982,983,984,985,986,987,988,989,990,991,992,993,994,995,996,997,998,999,1000,1001,1002,1003,1004,1005,1006,1007,1008,1009,1010,1011,1012,1013,1014,1015,1016,1017,1018,1019,1020,1021,1022,1023,1024,1025,1026,1027,1028,1029,1030,1031,1032,1033,1034,1035,1036,1037,1038,1039,1040,1041,1042,1043,1044,1045,1046,1047,1048,1049,1050,1051,1052,1053,1054,1055,1056,1057,1058,1059,1060,1061,1062,1063,1064,1065,1066,1067,1068,1069,1070,1071,1072,1073,1074,1075,1076,1077,1078,1079,1080,1081,1082,1083,1084,1085,1086,1087,1088,1089,1090,1091,1092,1093,1094,1095,1096,1097,1098,1099,1100,1101,1102,1103,1104,1105,1106,1107,1108,1109,1110,1111,1112,1113,1114,1115,1116,1117,1118,1119,1120,1121,1122,1123,1124,1125,1126,1127,1128,1129,1130,1131,1132,1133,1134,1135,1136,1137,1138,1139,1140,1141,1142,1143,1144,1145,1146,1147,1148,1149,1150,1151,1152,1153,1154,1155,1156,1157,1158,1159,1160,1161,1162,1163,1164,1165,1166,1167,1168,1169,1170,1171,1172,1173,1174,1175,1176,1177,1178,1179,1180,1181,1182,1183,1184,1185,1186,1187,1188,1189,1190,1191,1192,1193,1194,1195,1196,1197,1198,1199,1200,1201,1202,1203,1204,1205,1206,1207,1208,1209,1210,1211,1212,1213,1214,1215,1216,1217,1218,1219,1220,1221,1222,1223,1224,1225,1226,1227,1228,1229,1230,1231,1232,1233,1234,1235,1236,1237,1238,1239,1240,1241,1242,1243,1244,1245,1246,1247,1248,1249,1250,1251,1252,1253,1254,1255,1256,1257,1258,1259,1260,1261,1262,1263,1264,1265,1266,1267,1268,1269,1270,1271,1272,1273,1274,1275,1276,1277,1278,1279,1280,1281,1282,1283,1284,1285,1286,1287,1288,1289,1290,1291,1292,1293,1294,1295,1296,1297,1298,1299,1300,1301,1302,1303,1304,1305,1306,1307,1308,1309,1310,1311,1312,1313,1314,1315,1316,1317,1318,1319,1320,1321,1322,1323,1324,1325,1326,1327,1328,1329,1330,1331,1332,1333,1334,1335,1336,1337,1338,1339,1340,1341,1342,1343,1344,1345,1346,1347,1348,1349,1350,1351,1352,1353,1354,1355,1356,1357,1358,1359,1360,1361,1362,1363,1364,1365,1366,1367,1368,1369,1370,1371,1372,1373,1374,1375,1376,1377,1378,1379,1380,1381,1382,1383,1384,1385,1386,1387,1388,1389,1390,1391,1392,1393,1394,1395,1396,1397,1398,1399,1400,1401,1402,1403,1404,1405,1406,1407,1408,1409,1410,1411,1412,1413,1414,1415,1416,1417,1418,1419,1420,1421,1422,1423,1424,1425,1426,1427,1428,1429,1430,1431,1432,1433,1434,1435,1436,1437,1438,1439,1440,1441,1442,1443,1444,1445,1446,1447,1448,1449,1450,1451,1452,1453,1454,1455,1456,1457,1458,1459,1460,1461,1462,1463,1464,1465,1466,1467,1468,1469,1470,1471,1472,1473,1474,1475,1476,1477,1478,1479,1480,1481,1482,1483,1484,1485,1486,1487,1488,1489,1490,1491,1492,1493,1494,1495,1496,1497,1498,1499,1500,1501,1502,1503,1504,1505,1506,1507,1508,1509,1510,1511,1512,1513,1514,1515,1516,1517,1518,1519,1520,1521,1522,1523,1524,1525,1526,1527,1528,1529,1530,1531,1532,1533,1534,1535,1536,1537,1538,1539,1540,1541,1542,1543,1544,1545,1546,1547,1548,1549,1550,1551,1552,1553,1554,1555,1556,1557,1558,1559,1560,1561,1562,1563,1564,1565,1566,1567,1568,1569,1570,1571,1572,1573,1574,1575,1576,1577,1578,1579,1580,1581,1582,1583,1584,1585,1586,1587,1588,1589,1590,1591,1592,1593,1594,1595,1596,1597,1598,1599,1600,1601,1602,1603,1604,1605,1606,1607,1608,1609,1610,1611,1612,1613,1614,1615,1616,1617,1618,1619,1620,1621,1622,1623,1624,1625,1626,1627,1628,1629,1630,1631,1632,1633,1634,1635,1636,1637,1638,1639,1640,1641,1642,1643,1644,1645,1646,1647,1648,1649,1650,1651,1652,1653,1654,1655,1656,1657,1658,1659,1660,1661,1662,1663,1664,1665,1666,1667,1668,1669,1670,1671,1672,1673,1674,1675,1676,1677,1678,1679,1680,1681,1682,1683,1684,1685,1686,1687,1688,1689,1690,1691,1692,1693,1694,1695,1696,1697,1698,1699,1700,1701,1702,1703,1704,1705,1706,1707,1708,1709,1710,1711,1712,1713,1714,1715,1716,1717,1718,1719,1720,1721,1722,1723,1724,1725,1726,1727,1728,1729,1730,1731,1732,1733,1734,1735,1736,1737,1738,1739,1740,1741,1742,1743,1744,1745,1746,1747,1748,1749,1750,1751,1752,1753,1754,1755,1756,1757,1758,1759,1760,1761,1762,1763,1764,1765,1766,1767,1768,1769,1770,1771,1772,1773,1774,1775,1776,1777,1778,1779,1780,1781,1782,1783,1784,1785,1786,1787,1788,1789,1790,1791,1792,1793,1794,1795,1796,1797,1798,1799,1800,1801,1802,1803,1804,1805,1806,1807,1808,1809,1810,1811,1812,1813,1814,1815,1816,1817,1818,1819,1820,1821,1822,1823,1824,1825,1826,1827,1828,1829,1830,1831,1832,1833,1834,1835,1836,1837,1838,1839,1840,1841,1842,1843,1844,1845,1846,1847,1848],\"y\":[-0.8438511490821838,-0.7942253351211548,-0.7347415685653687,-0.6438251733779907,-0.702336311340332,-0.6973204612731934,-0.6635146141052246,-0.7279584407806396,-0.7314662933349609,-0.7251747846603394,-0.8446155786514282,-0.7923175096511841,-0.842530369758606,-0.8267420530319214,-0.8187336921691895,-0.8315886855125427,-0.8270032405853271,-0.9875444173812866,-0.9404807686805725,-1.0015478134155273,-1.0463886260986328,-1.0838308334350586,-1.080648422241211,-1.0906565189361572,-1.1295881271362305,-1.0981788635253906,-1.18344247341156,-1.1043524742126465,-1.1273295879364014,-1.021248698234558,-1.0773952007293701,-1.0499467849731445,-1.020411491394043,-0.8752152919769287,-0.9489505887031555,-0.9134079813957214,-0.8885778188705444,-0.9629727602005005,-0.6717811822891235,-0.7596865892410278,-0.7068710327148438,-0.7061460018157959,-0.749308705329895,-0.6995624303817749,-0.707159161567688,-0.43940186500549316,-0.5112084150314331,-0.501746416091919,-0.5119582414627075,-0.459511399269104,-0.47250092029571533,-0.49265241622924805,-0.42558348178863525,-0.38324201107025146,-0.3381766080856323,-0.3244234323501587,-0.2939339876174927,-0.3455284833908081,-0.4891873598098755,-0.4006779193878174,-0.2566107511520386,-0.23073017597198486,-0.2508753538131714,-0.22114384174346924,-0.23302018642425537,-0.19712615013122559,-0.2394270896911621,-0.15580213069915771,-0.1425619125366211,-0.15075349807739258,-0.16375946998596191,-0.13276159763336182,-0.11313855648040771,0.1503751277923584,0.19465243816375732,0.22409331798553467,0.18417775630950928,0.08728146553039551,-0.26684510707855225,-0.2477564811706543,-0.32272303104400635,-0.4473813772201538,-0.3376193046569824,-0.34460318088531494,-0.27621757984161377,-0.27084779739379883,-0.2976255416870117,-0.2828315496444702,-0.31738269329071045,-0.38242924213409424,-0.4557565450668335,-0.41196632385253906,-0.4126051664352417,-0.43998801708221436,-0.3639944791793823,-0.2849510908126831,-0.21050310134887695,-0.26733243465423584,-0.2126471996307373,-0.1833209991455078,-0.15458762645721436,-0.0164564847946167,-0.08980023860931396,-0.09352231025695801,-0.04373466968536377,-0.0108795166015625,-0.06306958198547363,-0.10664093494415283,-0.04908251762390137,-0.010300040245056152,0.014257311820983887,0.03935384750366211,0.05520784854888916,0.11146998405456543,0.15986526012420654,0.05797278881072998,0.12025678157806396,0.09739518165588379,0.08388495445251465,0.06690943241119385,0.08050930500030518,0.11118435859680176,0.1950157880783081,0.1930328607559204,0.18454444408416748,0.14913952350616455,0.047823548316955566,0.13050436973571777,0.17059147357940674,0.3382068872451782,0.3386880159378052,0.2819331884384155,0.2725261449813843,0.33599770069122314,0.36882150173187256,0.35478055477142334,0.34505999088287354,0.30696141719818115,0.32948577404022217,0.3355017900466919,0.29177963733673096,0.256611704826355,0.26625049114227295,0.24718749523162842,0.2698711156845093,0.3138469457626343,0.3469051122665405,0.332722544670105,0.29455554485321045,0.2661041021347046,0.18436896800994873,0.09407436847686768,0.1808532476425171,0.18575799465179443,0.2734581232070923,0.21932923793792725,0.17017114162445068,0.33238351345062256,0.3747013807296753,0.3590916395187378,0.33099544048309326,0.3904675245285034,0.38922107219696045,0.43757951259613037,0.3369964361190796,0.36059844493865967,0.4347637891769409,0.4685262441635132,0.46020495891571045,0.4237736463546753,0.41345536708831787,0.5037580728530884,0.3974205255508423,0.37537825107574463,0.35171210765838623,0.3523033857345581,0.3597034215927124,0.2906287908554077,0.4267183542251587,0.43518149852752686,0.4809969663619995,0.5064140558242798,0.5407441854476929,0.5494247674942017,0.52721107006073,0.5598448514938354,0.6082934141159058,0.6312464475631714,0.6111854314804077,0.6372588872909546,0.6068419218063354,0.6304024457931519,0.6449376344680786,0.6800593137741089,0.660089373588562,0.6462193727493286,0.660352349281311,0.644680380821228,0.6552504301071167,0.9376477003097534,0.885513186454773,0.920157790184021,0.9527972936630249,0.9607471227645874,1.01313316822052,1.0428742170333862,0.9392637014389038,0.895081639289856,0.8736432790756226,0.8982471227645874,0.8034704923629761,0.7862480878829956,0.7718600034713745,0.7686618566513062,0.8058429956436157,0.7992037534713745,0.6759508848190308,0.7061387300491333,0.7694896459579468,0.781065821647644,0.7741059064865112,0.832391619682312,0.8407591581344604,0.7323907613754272,0.7965658903121948,0.8777908086776733,0.9151924848556519,0.8966418504714966,0.8347252607345581,0.7433604001998901,0.5975459814071655,0.5122898817062378,0.48819005489349365,0.5326021909713745,0.5753186941146851,0.5481585264205933,0.5771650075912476,0.5321894884109497,0.5004574060440063,0.4923588037490845,0.47480309009552,0.4293743371963501,0.45211493968963623,0.5288368463516235,0.7181090116500854,0.6429632902145386,0.6191779375076294,0.6789964437484741,0.7167874574661255,0.6738709211349487,0.6732622385025024,0.6872509717941284,0.7026785612106323,0.7461289167404175,0.7425268888473511,0.7361539602279663,0.7649935483932495,0.7307940721511841,0.7617954015731812,0.7151302099227905,0.683547854423523,0.6906360387802124,0.7045243978500366,0.7110594511032104,0.7509356737136841,0.9442466497421265,0.9534145593643188,0.9300371408462524,0.9705852270126343,1.0317362546920776,1.082248330116272,1.0561224222183228,0.9473181962966919,0.9803091287612915,0.9251173734664917,0.9569157361984253,1.0449246168136597,1.0548046827316284,1.030824065208435,0.9282330274581909,0.9802111387252808,1.2100151777267456,1.0759049654006958,1.1434880495071411,1.2276548147201538,1.173876166343689,1.1634443998336792,1.1259807348251343,1.1345545053482056,1.0869730710983276,0.9684981107711792,0.9141944646835327,0.981937050819397,0.9412623643875122,1.0286813974380493,0.9066284894943237,0.9345301389694214,0.9315379858016968,0.8974617719650269,0.8535953760147095,1.0507315397262573,0.9727410078048706,0.9767633676528931,0.9554299116134644,0.9874550104141235,0.8879197835922241,0.939444899559021,1.0039118528366089,1.0455154180526733,1.03506600856781,1.0905817747116089,1.0728715658187866,1.095988154411316,1.0150519609451294,1.0692256689071655,1.0910476446151733,1.1218122243881226,1.0989702939987183,1.0927504301071167,1.0868498086929321,1.1253961324691772,1.3105186223983765,1.2991925477981567,1.328799843788147,1.148086428642273,1.0268551111221313,0.9608954191207886,0.9895230531692505,1.2782074213027954,1.309801459312439,1.3405364751815796,1.221744418144226,1.317733645439148,1.251501202583313,1.2766255140304565,1.3267148733139038,1.306343913078308,1.3088997602462769,1.3053902387619019,1.3103107213974,1.2990387678146362,1.3583062887191772,1.2040632963180542,1.3255494832992554,1.2134629487991333,1.2692049741744995,1.3015037775039673,1.2609256505966187,1.2418259382247925,0.9551161527633667,0.9719442129135132,0.8484481573104858,0.9715036153793335,0.9516690969467163,0.8849858045578003,0.9234265089035034,0.7491720914840698,0.8834270238876343,0.840373158454895,0.8529390096664429,0.8364549875259399,0.7834540605545044,0.7743304967880249,0.2534593343734741,0.29382121562957764,0.3066638708114624,0.2621678113937378,0.11422646045684814,0.05241060256958008,-0.013579964637756348,-0.3184751272201538,-0.4477071762084961,-0.37374234199523926,-0.3846241235733032,-0.36999285221099854,-0.3678213357925415,-0.33212220668792725,-0.2926548719406128,-0.4219849109649658,-0.3393540382385254,-0.3243980407714844,-0.2950284481048584,-0.226462721824646,-0.23111164569854736,-0.34994399547576904,-0.481081485748291,-0.4121931791305542,-0.3457183837890625,-0.27977073192596436,-0.31222641468048096,-0.4041558504104614,-0.1884833574295044,-0.30587875843048096,-0.3809431791305542,-0.4150902032852173,-0.39190900325775146,-0.3959825038909912,-0.4192018508911133,-0.3879588842391968,-0.48235881328582764,-0.46342504024505615,-0.4270886182785034,-0.3838003873825073,-0.4104870557785034,-0.4351876974105835,-0.3868461847305298,-0.27113115787506104,-0.3482121229171753,-0.2852894067764282,-0.3052283525466919,-0.31700599193573,-0.25706934928894043,-0.4497443437576294,-0.39735519886016846,-0.40158331394195557,-0.4052203893661499,-0.4323633909225464,-0.5002492666244507,-0.47216594219207764,-0.43637359142303467,-0.4402350187301636,-0.48446857929229736,-0.4292823076248169,-0.4077259302139282,-0.5218843221664429,-0.5780802965164185,-0.7904025316238403,-0.8223931789398193,-0.7414141893386841,-0.8016767501831055,-0.8280850648880005,-0.8455162048339844,-0.8542336225509644,-0.989456832408905,-0.8896859288215637,-0.8718475699424744,-0.8189677000045776,-0.7942336797714233,-0.8028013706207275,-0.80128014087677,-0.8569116592407227,-0.8516857624053955,-0.7607343196868896,-0.7044960260391235,-0.6881103515625,-0.6645370721817017,-0.6595710515975952,-0.5243853330612183,-0.5052459239959717,-0.5517038106918335,-0.5095044374465942,-0.5048822164535522,-0.4928797483444214,-0.5044883489608765,-0.1822417974472046,-0.09484004974365234,-0.13843035697937012,-0.08403289318084717,-0.10465240478515625,-0.055731773376464844,-0.09727978706359863,-0.38672935962677,-0.4035297632217407,-0.4125232696533203,-0.4489375352859497,-0.4711810350418091,-0.5522315502166748,-0.6033397912979126,-0.5187879800796509,-0.48735058307647705,-0.44362640380859375,-0.4874589443206787,-0.3626885414123535,-0.29819560050964355,-0.35902655124664307,-0.2242671251296997,-0.34327101707458496,-0.33101093769073486,-0.2089613676071167,-0.26044273376464844,-0.21724212169647217,-0.1877826452255249,0.030814170837402344,0.08481466770172119,0.13664913177490234,0.15042245388031006,0.20440566539764404,0.24784409999847412,0.18446528911590576,0.3684171438217163,0.4077109098434448,0.4765242338180542,0.4642692804336548,0.4268237352371216,0.4732741117477417,0.49672234058380127,0.5520275831222534,0.5644713640213013,0.5216768980026245,0.5366777181625366,0.5738919973373413,0.5992847681045532,0.5109251737594604,0.6317223310470581,0.5756124258041382,0.6174591779708862,0.6056152582168579,0.5832122564315796,0.6115845441818237,0.6453388929367065,0.5767182111740112,0.6207293272018433,0.6548079252243042,0.6235452890396118,0.6771272420883179,0.6492396593093872,0.6636461019515991,0.1776646375656128,0.17651450634002686,0.10033166408538818,0.07389402389526367,0.04740452766418457,-0.0611037015914917,0.07457756996154785,-0.631152868270874,-0.4718393087387085,-0.502753496170044,-0.5781067609786987,-0.5781451463699341,-0.46923768520355225,-0.4682079553604126,-0.24649059772491455,-0.23089110851287842,-0.2566944360733032,-0.2518695592880249,-0.3291374444961548,-0.4293586015701294,-0.39529168605804443,-0.43338441848754883,-0.33299827575683594,-0.34822535514831543,-0.2819420099258423,-0.25917649269104004,-0.24042022228240967,-0.27516627311706543,-0.47765862941741943,-0.5631320476531982,-0.5693519115447998,-0.45706021785736084,-0.6412041187286377,-0.6668455600738525,-0.5963166952133179,-0.7392325401306152,-0.7179051637649536,-0.6631830930709839,-0.717803955078125,-0.7674404382705688,-0.735569953918457,-0.8479539155960083,-0.75367271900177,-0.7012850046157837,-0.6905882358551025,-0.6574900150299072,-0.7121185064315796,-0.6685194969177246,-0.6738616228103638,-0.7346819639205933,-0.7623302936553955,-0.7750316858291626,-0.8520371317863464,-0.8214107751846313,-0.7666438817977905,-0.7510067224502563,-0.5040565729141235,-0.44001734256744385,-0.3572791814804077,-0.29914748668670654,-0.3189429044723511,-0.3770252466201782,-0.42299187183380127,-0.44545817375183105,-0.46450960636138916,-0.40021753311157227,-0.35552024841308594,-0.2964593172073364,-0.3031119108200073,-0.30356526374816895,-0.47344160079956055,-0.5303924083709717,-0.4512275457382202,-0.4756981134414673,-0.5108964443206787,-0.5563681125640869,-0.7037715911865234,-0.6999926567077637,-0.7605094909667969,-0.7294086217880249,-0.7118401527404785,-0.7912856340408325,-0.8262661695480347,-0.8628160953521729,-0.6972297430038452,-0.5901521444320679,-0.5714832544326782,-0.6796742677688599,-0.7354146242141724,-0.6630622148513794,-0.7872816324234009,-0.8019520044326782,-0.5859004259109497,-0.5418696403503418,-0.6311615705490112,-0.6632109880447388,-0.6808006763458252,-0.6218100786209106,-0.9774746298789978,-0.9860451221466064,-0.9444124698638916,-0.9737550020217896,-1.027796983718872,-1.0780073404312134,-1.051134705543518,-1.1266121864318848,-1.138620376586914,-1.2511999607086182,-1.2722077369689941,-1.1948641538619995,-1.2123386859893799,-1.1782116889953613,-1.312530279159546,-1.1360048055648804,-1.051526665687561,-1.171438217163086,-1.1122983694076538,-1.0839406251907349,-1.181678056716919,-0.9879876971244812,-1.0614169836044312,-1.0633141994476318,-1.1280434131622314,-1.1831614971160889,-1.0925889015197754,-1.1272282600402832,-0.8816195726394653,-0.8476197719573975,-0.9322519898414612,-0.9198001027107239,-0.9829661846160889,-0.9468397498130798,-0.8696005344390869,-1.1646504402160645,-1.0516786575317383,-1.0217041969299316,-1.0553263425827026,-1.0628995895385742,-1.0608665943145752,-0.9960819482803345,-1.018545150756836,-0.9589269757270813,-0.9366096258163452,-0.9941800832748413,-0.9749156832695007,-0.8620890378952026,-0.8982555866241455,-0.8826231956481934,-0.8963527083396912,-0.8500944375991821,-0.836327314376831,-0.7414383888244629,-0.7359100580215454,-0.7508734464645386,-0.7686766386032104,-0.6894980669021606,-0.55390465259552,-0.5096161365509033,-0.4680166244506836,-0.4234083890914917,-0.47827064990997314,-0.5454531908035278,-0.5147217512130737,-0.45757806301116943,-0.42310285568237305,-0.3247396945953369,-0.32477593421936035,-0.3135206699371338,-0.2928255796432495,-0.2619173526763916,-0.24948465824127197,-0.37719905376434326,-0.4005112648010254,-0.33082377910614014,-0.37863242626190186,-0.3890596628189087,-0.3541940450668335,-0.35890746116638184,-0.3558233976364136,-0.3162233829498291,-0.2946399450302124,-0.2328728437423706,-0.03363990783691406,-0.03572511672973633,0.01457977294921875,-0.1796787977218628,-0.24791955947875977,-0.16559350490570068,-0.13600051403045654,-0.15730273723602295,-0.29857027530670166,-0.28439533710479736,-0.39693331718444824,-0.280633807182312,-0.32318735122680664,-0.326308012008667,-0.37390029430389404,-0.3634992837905884,-0.4429272413253784,-0.4777657985687256,-0.399564266204834,-0.3323022127151489,-0.34893834590911865,-0.6029418706893921,-0.5063246488571167,-0.38853204250335693,-0.4610103368759155,-0.51954185962677,-0.5540361404418945,-0.5081146955490112,-0.5746039152145386,-0.5543593168258667,-0.5468558073043823,-0.511944055557251,-0.5654054880142212,-0.6567366123199463,-0.6596484184265137,-0.6096686124801636,-0.6108897924423218,-0.5584686994552612,-0.43496906757354736,-0.5848410129547119,-0.6701738834381104,-0.6980550289154053,-0.8401225805282593,-0.978915810585022,-0.8788464069366455,-0.8306484222412109,-0.9064195156097412,-0.9153538942337036,-0.9769495725631714,-1.1022130250930786,-0.9411711096763611,-0.979691743850708,-0.913954496383667,-0.9194000363349915,-0.9445158243179321,-0.9592282176017761,-0.9716682434082031,-1.028106451034546,-1.0413529872894287,-1.0283732414245605,-0.9687507152557373,-0.8870496153831482,-0.9230782985687256,-1.0543431043624878,-0.9931458234786987,-1.0852506160736084,-1.1289689540863037,-1.0918364524841309,-1.1292612552642822,-1.1281192302703857,-1.3622030019760132,-1.4407111406326294,-1.469618797302246,-1.4888319969177246,-1.386966347694397,-1.4191639423370361,-1.4484658241271973,-1.3199708461761475,-1.319821834564209,-1.3993531465530396,-1.4175585508346558,-1.3708744049072266,-1.3648560047149658,-1.3402736186981201,-1.2489601373672485,-1.2505302429199219,-1.2653770446777344,-1.2157275676727295,-1.1878186464309692,-1.2433559894561768,-1.18756902217865,-1.3110337257385254,-1.2628378868103027,-1.2524120807647705,-1.183760404586792,-1.2355358600616455,-1.1492351293563843,-1.1608377695083618,-1.0450987815856934,-1.1168231964111328,-1.0447725057601929,-1.035452127456665,-0.9855881929397583,-0.84609055519104,-0.8692950010299683,-0.506435751914978,-0.5652074813842773,-0.5265160799026489,-0.5180871486663818,-0.492068886756897,-0.5036255121231079,-0.4382256269454956,-0.8043004274368286,-0.7547755241394043,-0.5842931270599365,-0.6738195419311523,-0.6574735641479492,-0.6308904886245728,-0.5631476640701294,-0.3800390958786011,-0.30210864543914795,-0.3268798589706421,-0.38666069507598877,-0.3346201181411743,-0.3014732599258423,-0.28222429752349854,-0.1326991319656372,-0.06400489807128906,-0.09365332126617432,-0.008634448051452637,0.020398974418640137,0.006190776824951172,-0.024507880210876465,0.03644287586212158,0.001013636589050293,-0.023308396339416504,0.037456631660461426,0.06123650074005127,0.061965107917785645,0.07201540470123291,0.04698336124420166,0.13265860080718994,0.1346186399459839,0.14684879779815674,0.06401586532592773,-0.0274200439453125,0.03102743625640869,0.15503275394439697,0.2419208288192749,0.25892603397369385,0.3006218671798706,0.3399001359939575,0.3636053800582886,0.3829535245895386,0.24199974536895752,0.2611931562423706,0.22500288486480713,0.2248772382736206,0.26356256008148193,0.25979292392730713,0.24368560314178467,0.4753841161727905,0.43221986293792725,0.4450122117996216,0.47932708263397217,0.47499001026153564,0.517485499382019,0.4764920473098755,0.5376666784286499,0.6410497426986694,0.6138707399368286,0.6095331907272339,0.587253212928772,0.5396305322647095,0.53223717212677,0.6974231004714966,0.6008304357528687,0.662009596824646,0.6314491033554077,0.6359652280807495,0.6413041353225708,0.6701012849807739,0.6526645421981812,0.6094447374343872,0.6044329404830933,0.6473394632339478,0.6664034128189087,0.6790682077407837,0.6635376214981079,0.751437783241272,0.7865132093429565,0.7914947271347046,0.8294562101364136,0.8163241147994995,0.8528734445571899,0.8120354413986206,0.7117239236831665,0.6844583749771118,0.7131901979446411,0.6970609426498413,0.7211123704910278,0.7431091070175171,0.7427641153335571,0.8615282773971558,0.8250089883804321,0.8565057516098022,0.8621538877487183,0.8258672952651978,0.8180974721908569,0.7979763746261597,0.6347001791000366,0.6602264642715454,0.6501811742782593,0.6102532148361206,0.6486552953720093,0.720741868019104,0.7167485952377319,0.6927758455276489,0.6748079061508179,0.6696017980575562,0.687487006187439,0.7388032674789429,0.7299231290817261,0.6835631132125854,0.673446774482727,0.6746331453323364,0.7225428819656372,0.762942910194397,0.6914294958114624,0.6807993650436401,0.6463340520858765,0.6280568838119507,0.6074651479721069,0.6366351842880249,0.5904685258865356,0.5639368295669556,0.5534723997116089,0.5517767667770386,0.5901445150375366,0.5880779027938843,0.688867449760437,0.6914151906967163,0.7602261304855347,0.8123520612716675,0.7736347913742065,0.798827052116394,0.7813767194747925,0.7964223623275757,0.5212122201919556,0.5251916646957397,0.5626307725906372,0.5695794820785522,0.5947140455245972,0.6114901304244995,0.6437820196151733,1.032643437385559,0.9995819330215454,1.0385643243789673,0.9643634557723999,0.9595156908035278,0.9811729192733765,1.0126737356185913,0.8900307416915894,0.979084849357605,0.9366177320480347,0.9516652822494507,0.9356015920639038,0.9001756906509399,0.8920820951461792,1.167876124382019,1.0757523775100708,1.179334044456482,1.0975719690322876,1.1191102266311646,1.0775665044784546,1.0928653478622437,1.140618920326233,1.146668791770935,1.19084894657135,1.2020190954208374,1.2650147676467896,1.2566713094711304,1.257125735282898,0.8223155736923218,0.860000729560852,0.8755365610122681,0.9078823328018188,0.9397205114364624,0.9451650381088257,0.9796046018600464,0.9377182722091675,0.9886759519577026,1.0070327520370483,1.0281184911727905,1.0928386449813843,1.1043344736099243,1.140203833580017,1.3857840299606323,1.2569218873977661,1.2644253969192505,1.3741310834884644,1.4574841260910034,1.3893145322799683,1.5424288511276245,1.644708514213562,1.5423368215560913,1.5807760953903198,1.341180443763733,1.5615571737289429,1.503339171409607,1.5532299280166626,1.522976040840149,1.4706467390060425,1.502423644065857,1.4403570890426636,1.4415463209152222,1.5497835874557495,1.3877042531967163,1.1873480081558228,1.174739956855774,1.2133632898330688,1.3242348432540894,1.309660792350769,1.3135427236557007,1.2668737173080444,1.3724483251571655,1.3563956022262573,1.30862557888031,1.32284414768219,1.2946480512619019,1.3541659116744995,1.4092158079147339,1.4631673097610474,1.426509976387024,1.4563390016555786,1.4554086923599243,1.4237865209579468,1.155737280845642,1.1679919958114624,1.1978129148483276,1.1538912057876587,1.0591803789138794,1.076210618019104,1.063351035118103,1.1141115427017212,1.1401108503341675,1.1349142789840698,1.0758012533187866,1.070639967918396,1.079750657081604,0.9595175981521606,1.076154112815857,1.003771424293518,0.9641910791397095,0.9569782018661499,0.9707330465316772,0.9732414484024048,0.9664641618728638,1.0048078298568726,0.9577091932296753,0.818928599357605,0.8383520841598511,0.9132040739059448,0.9577158689498901,0.9734092950820923,0.9487966299057007,0.979352593421936,1.1011513471603394,1.0599840879440308,1.0832713842391968,1.0248390436172485,1.0715245008468628,1.0230234861373901,1.0198603868484497,1.0113524198532104,0.8444496393203735,0.8590387105941772,0.8535305261611938,0.8752716779708862,0.9305413961410522,0.9079011678695679,0.33317673206329346,0.42755329608917236,0.40585315227508545,0.28962814807891846,0.21864306926727295,0.21222293376922607,0.31109893321990967,0.16872131824493408,0.1928004026412964,0.16743552684783936,0.21732795238494873,0.24105989933013916,0.20921719074249268,0.19682157039642334,-0.04749298095703125,0.0013799667358398438,0.000754237174987793,0.07535958290100098,0.03422510623931885,-0.019077658653259277,-0.01980733871459961,-0.005358576774597168,-0.004034638404846191,-0.07559263706207275,-0.03598189353942871,-0.09977459907531738,-0.18384063243865967,-0.0892871618270874,0.15875601768493652,0.10333013534545898,0.17399442195892334,0.1845000982284546,0.24957096576690674,0.28401267528533936,0.31339776515960693,0.12846910953521729,0.19588983058929443,0.21392357349395752,0.2103360891342163,0.20266616344451904,0.2439659833908081,0.27422773838043213,0.2235509157180786,0.22045695781707764,0.1984502077102661,0.20826947689056396,0.3198462724685669,0.33752572536468506,0.36546313762664795,0.20607459545135498,0.19159162044525146,0.17852747440338135,0.23368608951568604,0.3101729154586792,0.2972327470779419,0.3161216974258423,0.33465802669525146,0.34214770793914795,0.3194636106491089,0.33509647846221924,0.31857001781463623,0.31028974056243896,0.34614741802215576,0.05570101737976074,0.17109596729278564,0.02427506446838379,0.05832314491271973,0.030674219131469727,0.09896612167358398,0.1387239694595337,-0.045014262199401855,-0.03003847599029541,-0.0002950429916381836,-0.001064896583557129,0.03935801982879639,0.006439566612243652,0.05124258995056152,0.46745502948760986,0.5858081579208374,0.5155571699142456,0.43273937702178955,0.6011136770248413,0.6013287305831909,0.583922266960144,0.6857630014419556,0.6787317991256714,0.71562659740448,0.7683168649673462,0.8147047758102417,0.8087407350540161,0.8244215250015259,1.1719783544540405,1.0088928937911987,1.0314072370529175,1.0383652448654175,1.112449049949646,1.0427042245864868,1.052024483680725,1.0889323949813843,1.098368525505066,1.14098060131073,1.1846877336502075,1.1366344690322876,1.1597532033920288,1.1975315809249878,1.3045142889022827,1.201696753501892,1.2726448774337769,1.2450331449508667,1.1395803689956665,1.140027403831482,1.1190062761306763,1.2305086851119995,1.2751423120498657,1.254299283027649,1.1245077848434448,1.0506974458694458,1.0527607202529907,1.0895909070968628,1.1444257497787476,1.0988529920578003,1.027014136314392,0.9183233976364136,0.9112604856491089,0.9034513235092163,0.8973807096481323,0.7510055303573608,0.7495735883712769,0.7773977518081665,0.7947858572006226,0.8205453157424927,0.8575128316879272,0.8393687009811401,0.6733750104904175,0.5770019292831421,0.5593398809432983,0.5714763402938843,0.5099979639053345,0.5311158895492554,0.5224579572677612,0.26121556758880615,0.3292907476425171,0.3607531785964966,0.3670593500137329,0.3237093687057495,0.31079232692718506,0.20587337017059326,0.3619142770767212,0.2988024950027466,0.34371817111968994,0.3291124105453491,0.35105860233306885,0.41070497035980225,0.43041765689849854,0.10700595378875732,0.43579423427581787,0.44060981273651123,0.35529983043670654,0.3605276346206665,0.4168170690536499,0.33815324306488037,0.4144963026046753,0.4611901044845581,0.5599914789199829,0.5680559873580933,0.5625349283218384,0.5531860589981079,0.49574506282806396,0.5194076299667358,0.5920997858047485,0.5926133394241333,0.5976048707962036,0.560423731803894,0.5540355443954468,0.6316279172897339,0.7202931642532349,0.6057308912277222,0.6077233552932739,0.6167298555374146,0.6039084196090698,0.621484637260437,0.6402286291122437,0.5025609731674194,0.5264874696731567,0.5826882123947144,0.5418769121170044,0.5261415243148804,0.5531164407730103,0.5522829294204712,0.5650647878646851,0.6557871103286743,0.6319483518600464,0.6454654932022095,0.5923258066177368,0.5917547941207886,0.5919040441513062,0.47694623470306396,0.5250552892684937,0.5125714540481567,0.5225874185562134,0.47753870487213135,0.44940125942230225,0.4555760622024536,0.304465651512146,0.3191782236099243,0.30654966831207275,0.2906690835952759,0.19923818111419678,0.14912879467010498,0.2672466039657593,0.15446984767913818,0.12740767002105713,0.06242871284484863,0.04159104824066162,0.096854567527771,0.13088715076446533,0.17623412609100342,-0.027720093727111816,-0.012284040451049805,-0.009984731674194336,-0.0075463056564331055,-0.014574527740478516,0.024724125862121582,0.1706477403640747,0.03679215908050537,0.09733247756958008,0.0760040283203125,0.04893624782562256,0.09617745876312256,0.010300755500793457,0.015694737434387207,-0.16844940185546875,-0.0939486026763916,-0.1367584466934204,-0.15881776809692383,-0.13957750797271729,-0.07009696960449219,-0.049811363220214844,0.04265999794006348,0.0011835098266601562,-0.07298684120178223,-0.0679473876953125,-0.11600148677825928,-0.08835113048553467,0.02143228054046631,0.08780276775360107,0.08513188362121582,0.08777260780334473,0.17846858501434326,0.2589808702468872,0.22446906566619873,0.20767271518707275,0.1087726354598999,0.08754479885101318,0.040076613426208496,0.07862293720245361,0.03140127658843994,0.04360485076904297,0.03596162796020508,-0.05271017551422119,-0.11693155765533447,-0.11206591129302979,-0.11110353469848633,-0.03811538219451904,-0.07370686531066895,-0.09625935554504395,-0.0926288366317749,-0.12419259548187256,-0.14069700241088867,-0.20535850524902344,0.050641536712646484,0.04383671283721924,0.047588348388671875,-0.09739828109741211,-0.04874908924102783,-0.142358660697937,-0.14877450466156006,-0.14725816249847412,-0.1252502202987671,-0.06684291362762451,-0.04884374141693115,-0.17022061347961426,-0.22951996326446533,-0.16857612133026123,-0.20035803318023682,-0.1487206220626831,-0.132257342338562,-0.39698219299316406,-0.39119184017181396,-0.41592252254486084,-0.3398395776748657,-0.1833575963973999,-0.24670588970184326,-0.24606871604919434,-0.8670270442962646,-0.7383970022201538,-0.7934298515319824,-0.8690668344497681,-0.8063489198684692,-0.6879721879959106,-0.7453696727752686,-1.2931487560272217,-1.1109042167663574,-1.1667450666427612,-1.1822314262390137,-1.2219221591949463,-1.2177634239196777,-1.2020424604415894,-1.2643108367919922,-1.2259232997894287,-1.200914740562439,-1.2261526584625244,-1.3022196292877197,-1.2883003950119019,-1.2846057415008545,-1.3000893592834473,-1.2662320137023926,-1.289141297340393,-1.2367757558822632,-1.208028793334961,-1.2620985507965088,-1.3032703399658203,-1.0069553852081299,-1.1122345924377441,-0.9563518762588501,-1.0468089580535889,-0.8816132545471191,-1.143465518951416,-1.1528517007827759,-0.8699384927749634,-1.0139634609222412,-0.9610228538513184,-1.0229740142822266,-0.9824417233467102,-0.9846346974372864,-0.9730783700942993,-0.9926547408103943,-0.9832563996315002,-1.0035591125488281,-0.9404363632202148,-0.8663715124130249,-0.8726841807365417,-0.9410220980644226,-1.170074224472046,-1.1190955638885498,-1.1341497898101807,-1.091167688369751,-1.0878114700317383,-1.1190083026885986,-1.1222625970840454,-0.8435671925544739,-0.942499041557312,-0.9915214776992798,-0.9500913023948669,-0.8606570363044739,-1.0084418058395386,-0.9306105375289917,-1.213202953338623,-1.1108753681182861,-1.1114089488983154,-1.1740580797195435,-1.1033611297607422,-1.055666208267212,-0.9880591630935669,-0.4351142644882202,-0.5712975263595581,-0.7300132513046265,-0.6973040103912354,-0.6885005235671997,-0.7449520826339722,-0.8979502320289612,-0.757128119468689,-0.7683955430984497,-0.7069551944732666,-0.675054669380188,-0.5837699174880981,-0.6047765016555786,-0.6304682493209839,-0.6181837320327759,-0.6320842504501343,-0.5919846296310425,-0.603256344795227,-0.5201183557510376,-0.388808012008667,-0.34849345684051514,-0.7709671258926392,-0.9854165315628052,-0.9871152639389038,-1.0450620651245117,-1.1441062688827515,-1.1036527156829834,-1.1027119159698486,-1.0615671873092651,-1.0201306343078613,-1.0166960954666138,-0.9880099892616272,-0.9924078583717346,-0.949601411819458,-1.0400934219360352,-1.2481971979141235,-1.188584804534912,-1.1520228385925293,-1.097482681274414,-1.114490032196045,-1.0837681293487549,-1.1641446352005005,-1.1567471027374268,-1.1682580709457397,-1.105024814605713,-1.1654982566833496,-1.1780743598937988,-1.1740520000457764,-1.2474592924118042,-0.9931212663650513,-1.0211914777755737,-1.0507092475891113,-1.0196712017059326,-0.9728156328201294,-0.9547613263130188,-0.9084591865539551,-1.1571648120880127,-1.139351487159729,-1.1169737577438354,-1.145586371421814,-1.05137038230896,-1.0376101732254028,-1.1041316986083984,-1.2329998016357422,-1.2237718105316162,-1.226445198059082,-1.2247090339660645,-1.2181453704833984,-1.2260375022888184,-1.2162845134735107,-1.3110487461090088,-1.3007436990737915,-1.3224232196807861,-1.2855894565582275,-1.30598783493042,-1.2933282852172852,-1.3011970520019531,-1.1935936212539673,-1.1802794933319092,-1.1998231410980225,-1.203845500946045,-1.2036511898040771,-1.268747091293335,-1.2360880374908447,-1.1133713722229004,-1.121391773223877,-1.0667325258255005,-1.0985883474349976,-1.2684463262557983,-1.2897197008132935,-1.3021578788757324,-1.2698208093643188,-1.258840799331665,-1.193294644355774,-1.2221697568893433,-1.2665458917617798,-1.215437889099121,-1.2636041641235352,-1.3174535036087036,-1.3017792701721191,-1.3453378677368164,-1.3099594116210938,-1.310779094696045,-1.3102855682373047,-1.3394391536712646,-1.23583984375,-1.3421103954315186,-1.2704843282699585,-1.2799732685089111,-1.3366456031799316,-1.2559733390808105,-1.2439327239990234,-1.3943145275115967,-1.3543511629104614,-1.3650931119918823,-1.3511524200439453,-1.3886064291000366,-1.33164644241333,-1.3967663049697876,-1.286435842514038,-1.3027994632720947,-1.207383155822754,-1.0101453065872192,-0.820337176322937,-0.7798596620559692,-0.7417744398117065,-0.538641095161438,-0.6204683780670166,-0.6868656873703003,-0.7090939283370972,-0.6331058740615845,-0.6373707056045532,-0.5697630643844604,-0.7779219150543213,-0.6885536909103394,-0.7424032688140869,-0.8029675483703613,-0.9564891457557678,-0.9551856517791748,-0.987886369228363,-1.1400240659713745,-1.283076524734497,-1.2493391036987305,-1.268700361251831,-1.3067021369934082,-1.1929137706756592,-1.2934727668762207,-1.1497089862823486,-1.315389633178711,-1.3099287748336792,-1.3050365447998047,-1.3268184661865234,-1.3655774593353271,-1.3607760667800903,-1.3607509136199951,-1.3655080795288086,-1.3999128341674805,-1.435319185256958,-1.4328608512878418,-1.4164199829101562,-1.4280807971954346,-1.5522857904434204,-1.524412989616394,-1.5808744430541992,-1.520396113395691,-1.5420327186584473,-1.523021936416626,-1.547201156616211,-1.5062081813812256,-1.5229727029800415,-1.4987761974334717,-1.4612667560577393,-1.4312305450439453,-1.4561692476272583,-1.5056397914886475,-1.4877064228057861,-1.4364149570465088,-1.4836370944976807,-1.4541971683502197,-1.432591199874878,-1.4395617246627808,-1.4310556650161743,-1.3441044092178345,-1.3825669288635254,-1.2943414449691772,-1.3488558530807495,-1.3014287948608398,-1.2907791137695312,-1.3022570610046387,-1.3004813194274902,-1.3325834274291992,-1.264546513557434,-1.3005616664886475,-1.280390739440918,-1.2108745574951172,-1.2354437112808228,-1.1495909690856934,-1.1716258525848389,-1.2068642377853394,-1.2329219579696655,-1.2431941032409668,-1.2130928039550781,-1.2895643711090088,-0.6619781255722046,-0.8403464555740356,-0.8148579597473145,-0.7558161020278931,-0.8351441025733948,-0.8734396696090698,-0.9078526496887207,-0.7925245761871338,-0.8795516490936279,-0.8660542368888855,-0.9352217316627502,-0.9337438941001892,-0.9869577288627625,-1.2522952556610107,-1.1138266324996948,-1.1275886297225952,-1.098496913909912,-1.1343839168548584,-1.0922718048095703,-1.001683235168457,-1.3305590152740479,-1.003849983215332,-1.1124756336212158,-0.9958337545394897,-0.9866272211074829,-0.9619408249855042,-0.9374231100082397,-0.9479457139968872,0.184850811958313,0.23186790943145752,0.206520676612854,0.2969170808792114,0.3309863805770874,0.26344096660614014,0.11666572093963623,0.04564332962036133,-0.013707995414733887,-0.051651954650878906,-0.15318620204925537,-0.1274566650390625,-0.06072890758514404,-0.04111349582672119,0.06907379627227783,0.0031321048736572266,-0.05994117259979248,0.04321753978729248,0.022623538970947266,0.0485004186630249,0.02229940891265869,-0.021851420402526855,0.015835046768188477,0.01999044418334961,0.016155600547790527,0.05332660675048828,0.07203662395477295,0.057515740394592285,0.12189388275146484,0.14127576351165771,0.13795030117034912,0.20903193950653076,0.19657409191131592,0.20280015468597412,0.2330871820449829,0.0993802547454834,0.05266976356506348,0.033945322036743164,0.025148630142211914,0.058380961418151855,0.07669520378112793,0.08210492134094238,0.32422006130218506,0.3456662893295288,0.37861478328704834,0.41062605381011963,0.40974676609039307,0.4392963647842407,0.37740957736968994,0.4412494897842407,0.43795883655548096,0.42268311977386475,0.39933621883392334,0.46837103366851807,0.5029786825180054,0.4725877046585083,0.6545480489730835,0.6796156167984009,0.7009648084640503,0.7191466093063354,0.6802388429641724,0.6785851716995239,0.6665817499160767,0.7395845651626587,0.6814883947372437,0.7173115015029907,0.6871482133865356,0.6826282739639282,0.678836464881897,0.680214524269104,0.7015267610549927,0.6612600088119507,0.6720894575119019,0.6619499921798706,0.6621989011764526,0.698503851890564,0.6810325384140015,0.8319920301437378,0.7810965776443481,0.7877277135848999,0.8148459196090698,0.8072980642318726,0.7995444536209106,0.7784982919692993,0.888640284538269,0.8852850198745728,0.8776348829269409,0.8976322412490845,0.9114993810653687,0.9120172262191772,0.8947104215621948,0.9340685606002808,0.8691762685775757,0.8258956670761108,0.8053447008132935,0.7349566221237183,0.7710360288619995,0.7702764272689819,0.601190447807312,0.647335410118103,0.6490556001663208,0.574524998664856,0.49875175952911377,0.49325454235076904,0.4314483404159546,0.6488431692123413,0.6963566541671753,0.7192472219467163,0.7220906019210815,0.6994189023971558,0.6959649324417114,0.6881023645401001,0.835168719291687,0.8224679231643677,0.7924317121505737,0.7605777978897095,0.661526083946228,0.651523232460022,0.6986271142959595,0.8536640405654907,0.8074706792831421,0.8423808813095093,0.8422931432723999,0.8202637434005737,0.7829500436782837,0.7161785364151001,0.8182467222213745,0.8326269388198853,0.7917338609695435,0.8753489255905151,0.8132396936416626,0.8242586851119995,0.796113133430481,0.8368502855300903,0.7135518789291382,0.7068623304367065,0.7378336191177368,0.7337750196456909,0.7772232294082642,0.912917971611023,1.1739903688430786,1.0528205633163452,0.9821656942367554,1.0501967668533325,0.959227442741394,1.0014530420303345,1.080217719078064,1.061991810798645,1.069496750831604,1.120275855064392,1.1547905206680298,1.20630943775177,1.1042801141738892,1.1064296960830688,1.2344967126846313,1.3154667615890503,1.2707568407058716,1.2777196168899536,1.3214563131332397,1.3027786016464233,1.27436101436615,1.283556580543518,1.2694567441940308,1.2496501207351685,1.2506102323532104,1.2358368635177612,1.2182027101516724,1.103047490119934,1.164896845817566,1.2583845853805542,1.2862454652786255,1.3393129110336304,1.2605222463607788],\"type\":\"scatter\"},{\"name\":\"Actual data\",\"x\":[1,2,3,4,5,6,7,8,9,10,11,12,13,14,15,16,17,18,19,20,21,22,23,24,25,26,27,28,29,30,31,32,33,34,35,36,37,38,39,40,41,42,43,44,45,46,47,48,49,50,51,52,53,54,55,56,57,58,59,60,61,62,63,64,65,66,67,68,69,70,71,72,73,74,75,76,77,78,79,80,81,82,83,84,85,86,87,88,89,90,91,92,93,94,95,96,97,98,99,100,101,102,103,104,105,106,107,108,109,110,111,112,113,114,115,116,117,118,119,120,121,122,123,124,125,126,127,128,129,130,131,132,133,134,135,136,137,138,139,140,141,142,143,144,145,146,147,148,149,150,151,152,153,154,155,156,157,158,159,160,161,162,163,164,165,166,167,168,169,170,171,172,173,174,175,176,177,178,179,180,181,182,183,184,185,186,187,188,189,190,191,192,193,194,195,196,197,198,199,200,201,202,203,204,205,206,207,208,209,210,211,212,213,214,215,216,217,218,219,220,221,222,223,224,225,226,227,228,229,230,231,232,233,234,235,236,237,238,239,240,241,242,243,244,245,246,247,248,249,250,251,252,253,254,255,256,257,258,259,260,261,262,263,264,265,266,267,268,269,270,271,272,273,274,275,276,277,278,279,280,281,282,283,284,285,286,287,288,289,290,291,292,293,294,295,296,297,298,299,300,301,302,303,304,305,306,307,308,309,310,311,312,313,314,315,316,317,318,319,320,321,322,323,324,325,326,327,328,329,330,331,332,333,334,335,336,337,338,339,340,341,342,343,344,345,346,347,348,349,350,351,352,353,354,355,356,357,358,359,360,361,362,363,364,365,366,367,368,369,370,371,372,373,374,375,376,377,378,379,380,381,382,383,384,385,386,387,388,389,390,391,392,393,394,395,396,397,398,399,400,401,402,403,404,405,406,407,408,409,410,411,412,413,414,415,416,417,418,419,420,421,422,423,424,425,426,427,428,429,430,431,432,433,434,435,436,437,438,439,440,441,442,443,444,445,446,447,448,449,450,451,452,453,454,455,456,457,458,459,460,461,462,463,464,465,466,467,468,469,470,471,472,473,474,475,476,477,478,479,480,481,482,483,484,485,486,487,488,489,490,491,492,493,494,495,496,497,498,499,500,501,502,503,504,505,506,507,508,509,510,511,512,513,514,515,516,517,518,519,520,521,522,523,524,525,526,527,528,529,530,531,532,533,534,535,536,537,538,539,540,541,542,543,544,545,546,547,548,549,550,551,552,553,554,555,556,557,558,559,560,561,562,563,564,565,566,567,568,569,570,571,572,573,574,575,576,577,578,579,580,581,582,583,584,585,586,587,588,589,590,591,592,593,594,595,596,597,598,599,600,601,602,603,604,605,606,607,608,609,610,611,612,613,614,615,616,617,618,619,620,621,622,623,624,625,626,627,628,629,630,631,632,633,634,635,636,637,638,639,640,641,642,643,644,645,646,647,648,649,650,651,652,653,654,655,656,657,658,659,660,661,662,663,664,665,666,667,668,669,670,671,672,673,674,675,676,677,678,679,680,681,682,683,684,685,686,687,688,689,690,691,692,693,694,695,696,697,698,699,700,701,702,703,704,705,706,707,708,709,710,711,712,713,714,715,716,717,718,719,720,721,722,723,724,725,726,727,728,729,730,731,732,733,734,735,736,737,738,739,740,741,742,743,744,745,746,747,748,749,750,751,752,753,754,755,756,757,758,759,760,761,762,763,764,765,766,767,768,769,770,771,772,773,774,775,776,777,778,779,780,781,782,783,784,785,786,787,788,789,790,791,792,793,794,795,796,797,798,799,800,801,802,803,804,805,806,807,808,809,810,811,812,813,814,815,816,817,818,819,820,821,822,823,824,825,826,827,828,829,830,831,832,833,834,835,836,837,838,839,840,841,842,843,844,845,846,847,848,849,850,851,852,853,854,855,856,857,858,859,860,861,862,863,864,865,866,867,868,869,870,871,872,873,874,875,876,877,878,879,880,881,882,883,884,885,886,887,888,889,890,891,892,893,894,895,896,897,898,899,900,901,902,903,904,905,906,907,908,909,910,911,912,913,914,915,916,917,918,919,920,921,922,923,924,925,926,927,928,929,930,931,932,933,934,935,936,937,938,939,940,941,942,943,944,945,946,947,948,949,950,951,952,953,954,955,956,957,958,959,960,961,962,963,964,965,966,967,968,969,970,971,972,973,974,975,976,977,978,979,980,981,982,983,984,985,986,987,988,989,990,991,992,993,994,995,996,997,998,999,1000,1001,1002,1003,1004,1005,1006,1007,1008,1009,1010,1011,1012,1013,1014,1015,1016,1017,1018,1019,1020,1021,1022,1023,1024,1025,1026,1027,1028,1029,1030,1031,1032,1033,1034,1035,1036,1037,1038,1039,1040,1041,1042,1043,1044,1045,1046,1047,1048,1049,1050,1051,1052,1053,1054,1055,1056,1057,1058,1059,1060,1061,1062,1063,1064,1065,1066,1067,1068,1069,1070,1071,1072,1073,1074,1075,1076,1077,1078,1079,1080,1081,1082,1083,1084,1085,1086,1087,1088,1089,1090,1091,1092,1093,1094,1095,1096,1097,1098,1099,1100,1101,1102,1103,1104,1105,1106,1107,1108,1109,1110,1111,1112,1113,1114,1115,1116,1117,1118,1119,1120,1121,1122,1123,1124,1125,1126,1127,1128,1129,1130,1131,1132,1133,1134,1135,1136,1137,1138,1139,1140,1141,1142,1143,1144,1145,1146,1147,1148,1149,1150,1151,1152,1153,1154,1155,1156,1157,1158,1159,1160,1161,1162,1163,1164,1165,1166,1167,1168,1169,1170,1171,1172,1173,1174,1175,1176,1177,1178,1179,1180,1181,1182,1183,1184,1185,1186,1187,1188,1189,1190,1191,1192,1193,1194,1195,1196,1197,1198,1199,1200,1201,1202,1203,1204,1205,1206,1207,1208,1209,1210,1211,1212,1213,1214,1215,1216,1217,1218,1219,1220,1221,1222,1223,1224,1225,1226,1227,1228,1229,1230,1231,1232,1233,1234,1235,1236,1237,1238,1239,1240,1241,1242,1243,1244,1245,1246,1247,1248,1249,1250,1251,1252,1253,1254,1255,1256,1257,1258,1259,1260,1261,1262,1263,1264,1265,1266,1267,1268,1269,1270,1271,1272,1273,1274,1275,1276,1277,1278,1279,1280,1281,1282,1283,1284,1285,1286,1287,1288,1289,1290,1291,1292,1293,1294,1295,1296,1297,1298,1299,1300,1301,1302,1303,1304,1305,1306,1307,1308,1309,1310,1311,1312,1313,1314,1315,1316,1317,1318,1319,1320,1321,1322,1323,1324,1325,1326,1327,1328,1329,1330,1331,1332,1333,1334,1335,1336,1337,1338,1339,1340,1341,1342,1343,1344,1345,1346,1347,1348,1349,1350,1351,1352,1353,1354,1355,1356,1357,1358,1359,1360,1361,1362,1363,1364,1365,1366,1367,1368,1369,1370,1371,1372,1373,1374,1375,1376,1377,1378,1379,1380,1381,1382,1383,1384,1385,1386,1387,1388,1389,1390,1391,1392,1393,1394,1395,1396,1397,1398,1399,1400,1401,1402,1403,1404,1405,1406,1407,1408,1409,1410,1411,1412,1413,1414,1415,1416,1417,1418,1419,1420,1421,1422,1423,1424,1425,1426,1427,1428,1429,1430,1431,1432,1433,1434,1435,1436,1437,1438,1439,1440,1441,1442,1443,1444,1445,1446,1447,1448,1449,1450,1451,1452,1453,1454,1455,1456,1457,1458,1459,1460,1461,1462,1463,1464,1465,1466,1467,1468,1469,1470,1471,1472,1473,1474,1475,1476,1477,1478,1479,1480,1481,1482,1483,1484,1485,1486,1487,1488,1489,1490,1491,1492,1493,1494,1495,1496,1497,1498,1499,1500,1501,1502,1503,1504,1505,1506,1507,1508,1509,1510,1511,1512,1513,1514,1515,1516,1517,1518,1519,1520,1521,1522,1523,1524,1525,1526,1527,1528,1529,1530,1531,1532,1533,1534,1535,1536,1537,1538,1539,1540,1541,1542,1543,1544,1545,1546,1547,1548,1549,1550,1551,1552,1553,1554,1555,1556,1557,1558,1559,1560,1561,1562,1563,1564,1565,1566,1567,1568,1569,1570,1571,1572,1573,1574,1575,1576,1577,1578,1579,1580,1581,1582,1583,1584,1585,1586,1587,1588,1589,1590,1591,1592,1593,1594,1595,1596,1597,1598,1599,1600,1601,1602,1603,1604,1605,1606,1607,1608,1609,1610,1611,1612,1613,1614,1615,1616,1617,1618,1619,1620,1621,1622,1623,1624,1625,1626,1627,1628,1629,1630,1631,1632,1633,1634,1635,1636,1637,1638,1639,1640,1641,1642,1643,1644,1645,1646,1647,1648,1649,1650,1651,1652,1653,1654,1655,1656,1657,1658,1659,1660,1661,1662,1663,1664,1665,1666,1667,1668,1669,1670,1671,1672,1673,1674,1675,1676,1677,1678,1679,1680,1681,1682,1683,1684,1685,1686,1687,1688,1689,1690,1691,1692,1693,1694,1695,1696,1697,1698,1699,1700,1701,1702,1703,1704,1705,1706,1707,1708,1709,1710,1711,1712,1713,1714,1715,1716,1717,1718,1719,1720,1721,1722,1723,1724,1725,1726,1727,1728,1729,1730,1731,1732,1733,1734,1735,1736,1737,1738,1739,1740,1741,1742,1743,1744,1745,1746,1747,1748,1749,1750,1751,1752,1753,1754,1755,1756,1757,1758,1759,1760,1761,1762,1763,1764,1765,1766,1767,1768,1769,1770,1771,1772,1773,1774,1775,1776,1777,1778,1779,1780,1781,1782,1783,1784,1785,1786,1787,1788,1789,1790,1791,1792,1793,1794,1795,1796,1797,1798,1799,1800,1801,1802,1803,1804,1805,1806,1807,1808,1809,1810,1811,1812,1813,1814,1815,1816,1817,1818,1819,1820,1821,1822,1823,1824,1825,1826,1827,1828,1829,1830,1831,1832,1833,1834,1835,1836,1837,1838,1839,1840,1841,1842,1843,1844,1845,1846,1847,1848],\"y\":[-0.8991731405258179,-0.832886815071106,-0.7376106381416321,-0.7849200367927551,-0.7891234755516052,-0.7545868754386902,-0.8134524822235107,-0.8254160284996033,-0.8183919191360474,-0.9352317452430725,-0.9004843831062317,-0.938977837562561,-0.9319537281990051,-0.9202455878257751,-0.9319537281990051,-0.9296117424964905,-1.0923442840576172,-1.0730279684066772,-1.121612787246704,-1.1830775737762451,-1.2322484254837036,-1.2364035844802856,-1.2445406913757324,-1.2901993989944458,-1.2656148672103882,-1.3516643047332764,-1.2884434461593628,-1.2866873741149902,-1.1795655488967896,-1.21176016330719,-1.2000538110733032,-1.1602473258972168,-1.0045281648635864,-1.051369547843933,-1.033807396888733,-1.0004427433013916,-1.0730279684066772,-0.8002455830574036,-0.8371241688728333,-0.8044954538345337,-0.7955634593963623,-0.838880181312561,-0.7961475849151611,-0.7961475849151611,-0.5349447727203369,-0.5783901214599609,-0.580474853515625,-0.5889281630516052,-0.537402868270874,-0.5456095933914185,-0.5678539276123047,-0.5017068982124329,-0.45195016264915466,-0.4024631679058075,-0.3852189779281616,-0.3524491786956787,-0.4053678512573242,-0.5573177337646484,-0.47770655155181885,-0.3161458373069763,-0.27868133783340454,-0.30092567205429077,-0.2699011564254761,-0.2810233235359192,-0.2423887401819229,-0.2868773639202118,-0.19673000276088715,-0.17682765424251556,-0.1861937791109085,-0.20142467319965363,-0.16687560081481934,-0.14287523925304413,0.1790778785943985,0.23995499312877655,0.27746593952178955,0.22637474536895752,0.10395059734582901,-0.3108777403831482,-0.30209577083587646,-0.379364937543869,-0.5140009522438049,-0.40863341093063354,-0.4057072699069977,-0.33487629890441895,-0.3243400752544403,-0.35360854864120483,-0.33956024050712585,-0.3752669394016266,-0.4460979104042053,-0.5257072448730469,-0.4859025776386261,-0.48180457949638367,-0.5104870796203613,-0.43438979983329773,-0.34434783458709717,-0.2587915062904358,-0.317315936088562,-0.2617051303386688,-0.2254125326871872,-0.1920478343963623,-0.03048533760011196,-0.11126658320426941,-0.119460828602314,-0.060923896729946136,-0.019959837198257446,-0.08082623779773712,-0.13351090252399445,-0.06794804334640503,-0.019363177940249443,0.011075383052229881,0.042099885642528534,0.06200401112437248,0.13213114440441132,0.19429625570774078,0.06785627454519272,0.14278347790241241,0.11585699021816254,0.09838951379060745,0.07722239941358566,0.0936126708984375,0.13224725425243378,0.23937083780765533,0.23761479556560516,0.22649264335632324,0.1814180612564087,0.054978080093860626,0.1556616723537445,0.20834633708000183,0.428443968296051,0.428443968296051,0.3535167872905731,0.34063857793807983,0.4243459701538086,0.4682486653327942,0.44951820373535156,0.4364292025566101,0.3862973153591156,0.41557827591896057,0.4237618148326874,0.366394966840744,0.32015031576156616,0.33244433999061584,0.30785804986953735,0.3371390104293823,0.39507749676704407,0.43898019194602966,0.42024973034858704,0.36990705132484436,0.33244433999061584,0.22707679867744446,0.11234491318464279,0.22063858807086945,0.2282486855983734,0.3418104648590088,0.272151380777359,0.20834633708000183,0.42024973034858704,0.47644469141960144,0.45537224411964417,0.4179077744483948,0.4969329833984375,0.49576109647750854,0.5607380270957947,0.42727386951446533,0.45654234290122986,0.5572259426116943,0.6037046313285828,0.5923484563827515,0.5425916910171509,0.5279574990272522,0.6520322561264038,0.5092252492904663,0.47644469141960144,0.44542017579078674,0.4460061192512512,0.4559563994407654,0.3652248680591583,0.5466897487640381,0.55839604139328,0.6204450130462646,0.6561535000801086,0.7041541934013367,0.7170305848121643,0.6860061287879944,0.7304947376251221,0.8001538515090942,0.8341044783592224,0.8065938353538513,0.8411304354667664,0.8007397651672363,0.8311783671379089,0.8534226417541504,0.9025934934616089,0.8774229884147644,0.855764627456665,0.8745665550231934,0.8543123006820679,0.8674709796905518,1.2304006814956665,1.1946921348571777,1.2186925411224365,1.2579131126403809,1.269619345664978,1.324060082435608,1.360352635383606,1.2567411661148071,1.1911801099777222,1.163083553314209,1.1905959844589233,1.0834723711013794,1.0491234064102173,1.0313754081726074,1.0266914367675781,1.074106216430664,1.0700100660324097,0.9084475040435791,0.9353740215301514,1.0249354839324951,1.0454237461090088,1.0360575914382935,1.1074727773666382,1.1238629817962646,0.9880568981170654,1.0570728778839111,1.1648271083831787,1.215180516242981,1.1964482069015503,1.120350956916809,0.9985948801040649,0.7937031388282776,0.6649336814880371,0.6300451755523682,0.6918601393699646,0.7533249855041504,0.7164464592933655,0.755081057548523,0.6942021250724792,0.647957444190979,0.6362511515617371,0.612250804901123,0.5503178834915161,0.5803134441375732,0.6872369647026062,0.9564482569694519,0.8604468107223511,0.8165441155433655,0.8990814089775085,0.955276370048523,0.8990814089775085,0.8932273387908936,0.9131296873092651,0.9353740215301514,0.9944968819618225,0.9933249950408936,0.9833747148513794,1.020253300666809,0.9786907434463501,1.014985203742981,0.9576182961463928,0.9096176028251648,0.9172276854515076,0.937716007232666,0.9476662874221802,1.0009350776672363,1.2391808032989502,1.2672791481018066,1.2374247312545776,1.2760593891143799,1.3445465564727783,1.4013274908065796,1.381425142288208,1.264937162399292,1.2836694717407227,1.2321566343307495,1.2590831518173218,1.3556687831878662,1.376742959022522,1.352156639099121,1.2409368753433228,1.2820295095443726,1.5137192010879517,1.4235718250274658,1.459280252456665,1.5453295707702637,1.5107929706573486,1.4900707006454468,1.454012155532837,1.4563523530960083,1.4142056703567505,1.2889482975006104,1.2134244441986084,1.2830835580825806,1.251473069190979,1.3363523483276367,1.2208237648010254,1.2315707206726074,1.2344986200332642,1.1964482069015503,1.1414233446121216,1.352156639099121,1.2983037233352661,1.286009669303894,1.26435124874115,1.2953758239746094,1.1929361820220947,1.2356687784194946,1.3129379749298096,1.3626946210861206,1.356218934059143,1.4071815013885498,1.3979564905166626,1.415961742401123,1.3404502868652344,1.381425142288208,1.411865472793579,1.4434741735458374,1.4259138107299805,1.4153774976730347,1.4089375734329224,1.4446460008621216,1.6144027709960938,1.6343051195144653,1.6536214351654053,1.5020110607147217,1.352156639099121,1.267863392829895,1.2936197519302368,1.5734261274337769,1.641329288482666,1.667214274406433,1.5699141025543213,1.628474235534668,1.590402364730835,1.5991826057434082,1.6460131406784058,1.638403058052063,1.6360021829605103,1.633122444152832,1.63664710521698,1.6281706094741821,1.6752816438674927,1.5564517974853516,1.6313790082931519,1.5590616464614868,1.586247205734253,1.6241546869277954,1.595670461654663,1.571086049079895,1.2992630004882812,1.267863392829895,1.1414233446121216,1.2655231952667236,1.263181209564209,1.1847418546676636,1.2186925411224365,1.0196672677993774,1.1613274812698364,1.1292954683303833,1.1361552476882935,1.1185948848724365,1.051277756690979,1.0337048768997192,0.3429805636405945,0.366394966840744,0.3862973153591156,0.32776039838790894,0.13868725299835205,0.05966203659772873,-0.021119214594364166,-0.3682427704334259,-0.5163411498069763,-0.44668203592300415,-0.4501941204071045,-0.4367317855358124,-0.4332071840763092,-0.39575520157814026,-0.35126835107803345,-0.4847324788570404,-0.40863341093063354,-0.38483312726020813,-0.35360854864120483,-0.27751123905181885,-0.27868133783340454,-0.4074740409851074,-0.5502935647964478,-0.48882871866226196,-0.4121454656124115,-0.33780422806739807,-0.3688287138938904,-0.46834221482276917,-0.2435588389635086,-0.3559505343437195,-0.44492602348327637,-0.4841465353965759,-0.46188971400260925,-0.46365827322006226,-0.48824456334114075,-0.45780420303344727,-0.5514636635780334,-0.5405165553092957,-0.5005367994308472,-0.4531220495700836,-0.47770655155181885,-0.5058048963546753,-0.45780420303344727,-0.3313642144203186,-0.40576621890068054,-0.3456590473651886,-0.3618045747280121,-0.37643879652023315,-0.312633752822876,-0.5114356875419617,-0.4718649983406067,-0.46951231360435486,-0.47420698404312134,-0.5022928714752197,-0.5731220245361328,-0.5502935647964478,-0.5104870796203613,-0.5116589665412903,-0.5573177337646484,-0.5052189826965332,-0.47770655155181885,-0.5924402475357056,-0.6581656336784363,-0.8710747957229614,-0.9260996580123901,-0.8463259339332581,-0.892149031162262,-0.9284416437149048,-0.9483439922332764,-0.9588801860809326,-1.098198413848877,-1.020929217338562,-0.9787825345993042,-0.9255154728889465,-0.8933191299438477,-0.8997591137886047,-0.9003432393074036,-0.9553681015968323,-0.9588801860809326,-0.8669785857200623,-0.7984895706176758,-0.7774171233177185,-0.7540009617805481,-0.7469767928123474,-0.614684522151947,-0.5813180804252625,-0.6282522678375244,-0.5912683606147766,-0.5819022059440613,-0.5701959133148193,-0.5807321071624756,-0.2429746836423874,-0.12063270807266235,-0.16980351507663727,-0.11009470373392105,-0.131168931722641,-0.0755581334233284,-0.12180280685424805,-0.4423518180847168,-0.474780410528183,-0.4824012219905853,-0.5198532342910767,-0.5451415777206421,-0.6275609731674194,-0.684927761554718,-0.6053184270858765,-0.5643418431282043,-0.518683135509491,-0.5596703886985779,-0.4367317855358124,-0.35770654678344727,-0.4191696345806122,-0.2798532247543335,-0.3983079791069031,-0.39458510279655457,-0.26053503155708313,-0.30919137597084045,-0.2663891017436981,-0.23068062961101532,0.025709616020321846,0.0994667187333107,0.16444364190101624,0.18258994817733765,0.2516738176345825,0.30844399333000183,0.22707679867744446,0.46883460879325867,0.5209333300590515,0.6145910024642944,0.5982131958007812,0.5466897487640381,0.6093229055404663,0.6426893472671509,0.7199585437774658,0.7386907935142517,0.6789819598197937,0.6977142095565796,0.7509830594062805,0.787872314453125,0.6661037802696228,0.8311783671379089,0.7585931420326233,0.8118619322776794,0.7983977794647217,0.7656279802322388,0.8042518496513367,0.8534226417541504,0.759763240814209,0.8159581422805786,0.8671547770500183,0.825324296951294,0.8967394232749939,0.8625315427780151,0.879179060459137,0.23293085396289825,0.21537047624588013,0.12058738619089127,0.08605081588029861,0.05313986912369728,-0.07731416821479797,0.08307644724845886,-0.6942939162254333,-0.5678539276123047,-0.5760499238967896,-0.6554842591285706,-0.662099301815033,-0.5526337623596191,-0.5409274101257324,-0.3108777403831482,-0.2773004472255707,-0.30736565589904785,-0.30385181307792664,-0.3863658607006073,-0.49585285782814026,-0.4671703279018402,-0.5022928714752197,-0.40160927176475525,-0.409219354391098,-0.341316282749176,-0.3120478391647339,-0.29097360372543335,-0.32785215973854065,-0.5420975089073181,-0.6416110396385193,-0.6527332067489624,-0.5397680401802063,-0.7118542790412903,-0.756342887878418,-0.6872697472572327,-0.8184383511543274,-0.8152889013290405,-0.756342887878418,-0.8030198812484741,-0.8593685030937195,-0.8336120843887329,-0.938977837562561,-0.862880527973175,-0.7949774861335754,-0.7797573208808899,-0.7476091980934143,-0.7973194718360901,-0.762196958065033,-0.7610268592834473,-0.8219040036201477,-0.8563584089279175,-0.8710747957229614,-0.9483439922332764,-0.9290275573730469,-0.868148684501648,-0.8453183770179749,-0.6039250493049622,-0.5116589665412903,-0.42560961842536926,-0.35887664556503296,-0.37702295184135437,-0.4403492510318756,-0.4917566180229187,-0.5175130367279053,-0.5379995107650757,-0.4736103117465973,-0.42151159048080444,-0.35653647780418396,-0.3600485324859619,-0.3618045747280121,-0.5385854840278625,-0.6082445383071899,-0.5315613150596619,-0.5479515790939331,-0.5865861773490906,-0.6345868706703186,-0.7832694053649902,-0.794368326663971,-0.8500023484230042,-0.8271721005439758,-0.8043436408042908,-0.880440890789032,-0.9260996580123901,-0.9659061431884766,-0.8083469271659851,-0.6790737509727478,-0.6521472334861755,-0.7586848735809326,-0.8254160284996033,-0.7598549723625183,-0.8710747957229614,-0.9026852250099182,-0.6919519305229187,-0.6205368041992188,-0.7083421945571899,-0.7499046921730042,-0.7691621780395508,-0.7130261659622192,-1.0630759000778198,-1.1251248121261597,-1.0736138820648193,-1.0929301977157593,-1.1567120552062988,-1.2222963571548462,-1.2035659551620483,-1.277321219444275,-1.31185781955719,-1.4447377920150757,-1.507956862449646,-1.4178094863891602,-1.407273292541504,-1.3756645917892456,-1.5278592109680176,-1.3674685955047607,-1.2047359943389893,-1.3218098878860474,-1.293711543083191,-1.2410286664962769,-1.3452242612838745,-1.1625893115997314,-1.1848336458206177,-1.2111742496490479,-1.2820051908493042,-1.3627864122390747,-1.274991750717163,-1.2831752300262451,-1.0361493825912476,-0.9454642534255981,-1.033807396888733,-1.0384913682937622,-1.0993809700012207,-1.0747839212417603,-0.9869785308837891,-1.2888184785842896,-1.235174536705017,-1.160949468612671,-1.1916470527648926,-1.2094181776046753,-1.2082481384277344,-1.1380029916763306,-1.146199107170105,-1.0911742448806763,-1.0548815727233887,-1.112248420715332,-1.105222463607788,-0.9846490621566772,-0.9998567700386047,-0.9940026998519897,-1.004538893699646,-0.9612221717834473,-0.9391886591911316,-0.8453308939933777,-0.8265879154205322,-0.8429781794548035,-0.862880527973175,-0.7879533767700195,-0.6451106071472168,-0.5877562761306763,-0.5445449352264404,-0.49643880128860474,-0.5491216778755188,-0.6217086911201477,-0.5965364575386047,-0.5350733995437622,-0.49526870250701904,-0.3910730481147766,-0.3840488791465759,-0.3735108971595764,-0.3506699204444885,-0.3161458373069763,-0.30091315507888794,-0.4367317855358124,-0.46951231360435486,-0.3969270884990692,-0.441413938999176,-0.4566341042518616,-0.4205397963523865,-0.42267099022865295,-0.4202593266963959,-0.3781948387622833,-0.35243844985961914,-0.28453540802001953,-0.053899750113487244,-0.048045702278614044,0.01049122866243124,-0.21371693909168243,-0.29741358757019043,-0.20843809843063354,-0.16980351507663727,-0.193217933177948,-0.3500964641571045,-0.3424863815307617,-0.4589760899543762,-0.3442424237728119,-0.3799508810043335,-0.38756096363067627,-0.4373159408569336,-0.42982375621795654,-0.5104870796203613,-0.5520495772361755,-0.4741944670677185,-0.3969270884990692,-0.4103894531726837,-0.6708794832229614,-0.5959522724151611,-0.4630723297595978,-0.5283064842224121,-0.5949090123176575,-0.6334149837493896,-0.5900982618331909,-0.6509771347045898,-0.638098955154419,-0.6275609731674194,-0.5924402475357056,-0.6421951651573181,-0.7376231551170349,-0.7492008805274963,-0.6989760994911194,-0.6943064332008362,-0.6439530253410339,-0.5151710510253906,-0.6544892191886902,-0.7540009617805481,-0.7879533767700195,-0.9296117424964905,-1.0900148153305054,-1.0092228651046753,-0.9366376399993896,-1.0068808794021606,-1.0302953720092773,-1.093516230583191,-1.2398585081100464,-1.0970282554626465,-1.093516230583191,-1.0384913682937622,-1.0302953720092773,-1.059213638305664,-1.0794661045074463,-1.0946862697601318,-1.1561511754989624,-1.182491660118103,-1.1696134805679321,-1.1028822660446167,-1.0062949657440186,-1.0291252136230469,-1.1766376495361328,-1.1397590637207031,-1.2193702459335327,-1.2919554710388184,-1.259760856628418,-1.2884434461593628,-1.2983953952789307,-1.5828840732574463,-1.7831276655197144,-1.8594839572906494,-1.9001550674438477,-1.7561546564102173,-1.7404307126998901,-1.8053255081176758,-1.6414209604263306,-1.574103832244873,-1.6882516145706177,-1.754982829093933,-1.6958599090576172,-1.6613233089447021,-1.6267868280410767,-1.4991767406463623,-1.4646401405334473,-1.4885118007659912,-1.43538236618042,-1.3838589191436768,-1.4429817199707031,-1.3979071378707886,-1.5278592109680176,-1.5161528587341309,-1.478688359260559,-1.3929909467697144,-1.430687665939331,-1.3504923582077026,-1.3335179090499878,-1.21176016330719,-1.258590817451477,-1.2035659551620483,-1.1728914976119995,-1.1204426288604736,-0.9682462811470032,-0.9670762419700623,-0.6217086911201477,-0.6329469680786133,-0.6088305115699768,-0.5961863398551941,-0.5701959133148193,-0.5795620083808899,-0.5151710510253906,-0.8745868802070618,-0.8640506267547607,-0.6837576627731323,-0.7507354021072388,-0.7481594085693359,-0.7188677191734314,-0.6498052477836609,-0.4589760899543762,-0.3618045747280121,-0.38523149490356445,-0.45078006386756897,-0.40044987201690674,-0.36063268780708313,-0.33839017152786255,-0.17214371263980865,-0.08492425084114075,-0.11770479381084442,-0.019363177940249443,0.018790867179632187,0.002096909796819091,-0.03516750410199165,0.037242647260427475,-0.003558849450200796,-0.03399740904569626,0.03858781233429909,0.06961230933666229,0.07078419625759125,0.08307644724845886,0.052637889981269836,0.15858958661556244,0.16268759965896606,0.17790599167346954,0.07488220930099487,-0.037509482353925705,0.0303935706615448,0.18726138770580292,0.30083391070365906,0.3230782151222229,0.37751713395118713,0.42961585521698,0.4612245261669159,0.4869809150695801,0.30271854996681213,0.32542020082473755,0.2791755199432373,0.2785895764827728,0.3289429843425751,0.3242483139038086,0.3031758666038513,0.6169329881668091,0.5555753111839294,0.5706883072853088,0.618104875087738,0.612683117389679,0.6710217595100403,0.6157628893852234,0.6988843083381653,0.8469826579093933,0.812446117401123,0.8024958372116089,0.7714713215827942,0.7041541934013367,0.6918601393699646,0.9254701733589172,0.7995678782463074,0.8739109635353088,0.8370323777198792,0.8399585485458374,0.8481545448303223,0.8884165287017822,0.8663008809089661,0.804426908493042,0.7946052551269531,0.855178713798523,0.8844471573829651,0.9023594260215759,0.8815210461616516,0.9991790652275085,1.0518618822097778,1.0594719648361206,1.1057167053222656,1.093411922454834,1.1349852085113525,1.0900285243988037,0.9561552405357361,0.9086815118789673,0.9476662874221802,0.9295199513435364,0.9599602818489075,0.9915689826011658,0.9927408695220947,1.141600251197815,1.1098146438598633,1.139667272567749,1.150205373764038,1.1068867444992065,1.092545509338379,1.067668080329895,0.8522525429725647,0.8698129057884216,0.8616169095039368,0.8054219484329224,0.8563488125801086,0.9587883949279785,0.9582042694091797,0.9236676692962646,0.8967394232749939,0.8885451555252075,0.9131296873092651,0.9839606285095215,0.9763505458831787,0.911970317363739,0.8936953544616699,0.8955693244934082,0.9611303806304932,1.0184972286224365,0.9268742799758911,0.9037635922431946,0.856970489025116,0.829247236251831,0.8001538515090942,0.8399585485458374,0.7780148983001709,0.7375189065933228,0.7223005294799805,0.7199585437774658,0.7738115191459656,0.7726414203643799,0.9131296873092651,0.9224957823753357,1.0126539468765259,1.0846441984176636,1.039569616317749,1.0651742219924927,1.0465937852859497,1.0629841089248657,0.7000561952590942,0.677811861038208,0.7344980835914612,0.7457024455070496,0.7808374166488647,0.8054219484329224,0.8510806560516357,1.3357664346694946,1.3322542905807495,1.3556687831878662,1.2830835580825806,1.2655231952667236,1.2891358137130737,1.3252301216125488,1.198790192604065,1.2778154611587524,1.246790885925293,1.255676507949829,1.2409368753433228,1.1994922161102295,1.185912013053894,1.4686464071273804,1.4188896417617798,1.49381685256958,1.434108018875122,1.4387919902801514,1.4036694765090942,1.411865472793579,1.4598536491394043,1.4727425575256348,1.5125490427017212,1.5289393663406372,1.5845483541488647,1.5874762535095215,1.5851342678070068,1.1624975204467773,1.1273750066757202,1.1613274812698364,1.2028882503509521,1.242317795753479,1.251473069190979,1.287765622138977,1.247376799583435,1.294791579246521,1.3212268352508545,1.3439624309539795,1.4095234870910645,1.428839921951294,1.4622063636779785,1.6788043975830078,1.6132326126098633,1.590988278388977,1.6828899383544922,1.7698181867599487,1.732062578201294,1.83684241771698,1.9445501565933228,1.8942091464996338,1.8988913297653198,1.7180124521255493,1.8397703170776367,1.8415369987487793,1.868452787399292,1.855574607849121,1.8081598281860352,1.820452094078064,1.7788913249969482,1.766599178314209,1.850892424583435,1.7490370273590088,1.5435736179351807,1.4926449060440063,1.530121922492981,1.6348910331726074,1.6424885988235474,1.641329288482666,1.6017942428588867,1.6811338663101196,1.6881598234176636,1.6448413133621216,1.6465973854064941,1.6261107921600342,1.6705976724624634,1.7267926931381226,1.7800614833831787,1.7619152069091797,1.7769370079040527,1.7818175554275513,1.7566471099853516,1.524255394935608,1.48210871219635,1.516025424003601,1.4844506978988647,1.3884493112564087,1.3907912969589233,1.3837671279907227,1.4311944246292114,1.463376522064209,1.4616204500198364,1.4042553901672363,1.3896211385726929,1.3989872932434082,1.2806843519210815,1.381425142288208,1.328742265701294,1.2748892307281494,1.2625951766967773,1.2778154611587524,1.2830835580825806,1.2760593891143799,1.3149386644363403,1.2713754177093506,1.107297658920288,1.1122031211853027,1.2058143615722656,1.2638832330703735,1.2842535972595215,1.2584972381591797,1.2865955829620361,1.4129301309585571,1.3896211385726929,1.4024993181228638,1.3486446142196655,1.3855230808258057,1.345718502998352,1.3345962762832642,1.3264002799987793,1.1449371576309204,1.137911319732666,1.137911319732666,1.1636676788330078,1.2292287349700928,1.210498332977295,0.4694080352783203,0.5414198040962219,0.5191773176193237,0.36463892459869385,0.27097949385643005,0.2621993124485016,0.3915654122829437,0.20819270610809326,0.2364429235458374,0.20483247935771942,0.26841601729393005,0.29966381192207336,0.25868722796440125,0.24229696393013,-0.05858370661735535,-0.006484981160610914,-0.004728944972157478,0.08600258082151413,0.03741771727800369,-0.028132641687989235,-0.03048533760011196,-0.012923186644911766,-0.01086346060037613,-0.09546047449111938,-0.05155777558684349,-0.1241447851061821,-0.22248639166355133,-0.1182907298207283,0.19078418612480164,0.124637171626091,0.21186913549900055,0.22649264335632324,0.31049299240112305,0.3558587431907654,0.39449334144592285,0.15741771459579468,0.23995499312877655,0.26454129815101624,0.25985732674598694,0.24990706145763397,0.3031758666038513,0.3429805636405945,0.27741947770118713,0.2727355360984802,0.24463894963264465,0.25693121552467346,0.4032735228538513,0.42668795585632324,0.46356648206710815,0.256345272064209,0.2352728247642517,0.21888256072998047,0.28971174359321594,0.3903953433036804,0.3734191358089447,0.3980054259300232,0.4225899279117584,0.43254199624061584,0.40268757939338684,0.42303475737571716,0.40151748061180115,0.3903953433036804,0.43781009316444397,0.06785627454519272,0.20717445015907288,0.02746565267443657,0.06493014097213745,0.03257119655609131,0.11585699021816254,0.1673697680234909,-0.056241728365421295,-0.04394947364926338,-0.007070922292768955,-0.007070922292768955,0.04158540070056915,0.0029400931671261787,0.05614996328949928,0.6169454455375671,0.7714713215827942,0.6731278896331787,0.5554699301719666,0.7895586490631104,0.7937031388282776,0.7667873501777649,0.9084582328796387,0.9049354195594788,0.9523501992225647,1.0249354839324951,1.0875704288482666,1.0834723711013794,1.1004486083984375,1.4715725183486938,1.3580107688903809,1.3448395729064941,1.355352520942688,1.4282557964324951,1.3720715045928955,1.368546962738037,1.406597375869751,1.4212316274642944,1.4616204500198364,1.5072791576385498,1.4696985483169556,1.4815245866775513,1.5195732116699219,1.6179147958755493,1.547669768333435,1.588646411895752,1.577524185180664,1.4785966873168945,1.4606486558914185,1.4434741735458374,1.542401671409607,1.5991826057434082,1.5874762535095215,1.4668903350830078,1.3733595609664917,1.3666157722473145,1.4060114622116089,1.463962435722351,1.429425835609436,1.3509865999221802,1.2268885374069214,1.2052408456802368,1.199376106262207,1.1929361820220947,1.0173254013061523,0.9962528944015503,1.0360575914382935,1.0618139505386353,1.0951805114746094,1.1420092582702637,1.1238629817962646,0.9096176028251648,0.7577964067459106,0.7293246388435364,0.7473530769348145,0.6631776094436646,0.689520001411438,0.6789819598197937,0.33185839653015137,0.4143831729888916,0.45771244168281555,0.4659084677696228,0.40854164958000183,0.3909812867641449,0.2551751732826233,0.4594684839248657,0.37634703516960144,0.434298038482666,0.4155657887458801,0.44425010681152344,0.5244454145431519,0.5513718724250793,0.13283319771289825,0.564250111579895,0.5666974782943726,0.45127424597740173,0.45654234290122986,0.5326396226882935,0.428443968296051,0.5291275978088379,0.5935185551643372,0.7316648364067078,0.7445555329322815,0.7357628345489502,0.7223005294799805,0.6426893472671509,0.6731278896331787,0.7767394185066223,0.7796655297279358,0.7855195999145508,0.7338317632675171,0.7228846549987793,0.8323484659194946,0.958906352519989,0.8071779608726501,0.7978118658065796,0.812446117401123,0.7952840924263,0.8188861012458801,0.8463985323905945,0.6574879288673401,0.6819098591804504,0.7632752656936646,0.7082504034042358,0.683665931224823,0.7211286425590515,0.7211286425590515,0.7386907935142517,0.866979718208313,0.8382024765014648,0.85343337059021,0.7808374166488647,0.7761535048484802,0.7773253917694092,0.6191105842590332,0.6801538467407227,0.6655195951461792,0.6783978343009949,0.6169329881668091,0.5771282911300659,0.5853224992752075,0.38522011041641235,0.40151748061180115,0.3857131600379944,0.36463892459869385,0.24639497697353363,0.18140734732151031,0.33361443877220154,0.18961408734321594,0.15332147479057312,0.07254023104906082,0.045613743364810944,0.11351501196622849,0.15741771459579468,0.21537047624588013,-0.03516750410199165,-0.02228930965065956,-0.0181930810213089,-0.015265163965523243,-0.023589812219142914,0.02338014356791973,0.20717445015907288,0.04268582537770271,0.11351501196622849,0.08894121646881104,0.054978080093860626,0.11269683390855789,0.008851308375597,0.012831419706344604,-0.201412171125412,-0.12355884164571762,-0.1680474728345871,-0.19555990397930145,-0.1744856834411621,-0.09338824450969696,-0.06677794456481934,0.04444186016917229,-0.0029729085508733988,-0.09253434091806412,-0.08902226388454437,-0.14404712617397308,-0.11419271677732468,0.01751537434756756,0.10239285230636597,0.10005266219377518,0.10297878831624985,0.2177106738090515,0.3230782151222229,0.2785895764827728,0.256345272064209,0.13107715547084808,0.10286267846822739,0.04444186016917229,0.09068653732538223,0.033905643969774246,0.047369781881570816,0.03858781233429909,-0.06769079715013504,-0.14521722495555878,-0.14170514047145844,-0.13994911313056946,-0.05483582988381386,-0.09370443224906921,-0.12180280685424805,-0.1182907298207283,-0.1542564332485199,-0.1744856834411621,-0.247610405087471,0.04912581667304039,0.049709971994161606,0.052637889981269836,-0.119460828602314,-0.06777297705411911,-0.1731976866722107,-0.18476465344429016,-0.18269242346286774,-0.1575094759464264,-0.08902226388454437,-0.06560785323381424,-0.2049260288476944,-0.2763393819332123,-0.21077829599380493,-0.2423887401819229,-0.18677793443202972,-0.16511955857276917,-0.45329710841178894,-0.46248817443847656,-0.4847324788570404,-0.407450795173645,-0.23185251653194427,-0.2927314341068268,-0.29741358757019043,-0.9378077387809753,-0.862294614315033,-0.8843048810958862,-0.96883225440979,-0.9167335033416748,-0.7891234755516052,-0.8300999999046326,-1.4365417957305908,-1.3545904159545898,-1.3341021537780762,-1.3709806203842163,-1.4208534955978394,-1.4283474683761597,-1.4061031341552734,-1.4751763343811035,-1.4517619609832764,-1.404943823814392,-1.4270005226135254,-1.5313712358474731,-1.5430793762207031,-1.5290311574935913,-1.5465915203094482,-1.5102988481521606,-1.524347186088562,-1.4699082374572754,-1.4142974615097046,-1.4716517925262451,-1.5454213619232178,-1.2176141738891602,-1.2363464832305908,-1.1081504821777344,-1.164931297302246,-1.0197590589523315,-1.2621028423309326,-1.3393702507019043,-1.033807396888733,-1.113055944442749,-1.0958564281463623,-1.146199107170105,-1.1186866760253906,-1.1099064350128174,-1.0993702411651611,-1.1175165176391602,-1.1122591495513916,-1.1309789419174194,-1.0701017379760742,-0.9811370372772217,-0.9758564233779907,-1.0490275621414185,-1.3106876611709595,-1.3095176219940186,-1.3019075393676758,-1.2580047845840454,-1.2410286664962769,-1.276151180267334,-1.2890293598175049,-0.9969305992126465,-1.034979224205017,-1.1134185791015625,-1.0791159868240356,-0.9781983494758606,-1.1145886182785034,-1.0654178857803345,-1.354577898979187,-1.3141998052597046,-1.2720531225204468,-1.3446383476257324,-1.2837612628936768,-1.2076621055603027,-1.1251248121261597,-0.56551194190979,-0.6275609731674194,-0.8103959560394287,-0.7943915724754333,-0.7785747051239014,-0.8330261707305908,-0.992832601070404,-0.8751727938652039,-0.8593685030937195,-0.8043436408042908,-0.7651230692863464,-0.6738056540489197,-0.684927761554718,-0.7141962647438049,-0.7047711610794067,-0.7165489196777344,-0.6790630221366882,-0.6855137348175049,-0.6056095957756042,-0.46424418687820435,-0.4121454656124115,-0.8380834460258484,-1.0957045555114746,-1.1257108449935913,-1.1791778802871704,-1.3001514673233032,-1.2796632051467896,-1.2621028423309326,-1.2169461250305176,-1.1614192724227905,-1.1491252183914185,-1.1199746131896973,-1.1186866760253906,-1.0763185024261475,-1.1625893115997314,-1.4213234186172485,-1.4119572639465332,-1.3396167755126953,-1.2661991119384766,-1.2702970504760742,-1.2436046600341797,-1.325321912765503,-1.341712236404419,-1.349790334701538,-1.2814549207687378,-1.330004096031189,-1.365126609802246,-1.3627864122390747,-1.4476639032363892,-1.1865897178649902,-1.1385890245437622,-1.1863789558410645,-1.1614192724227905,-1.1040524244308472,-1.0759540796279907,-1.0267832279205322,-1.2861014604568481,-1.3282480239868164,-1.289122223854065,-1.3130296468734741,-1.2176016569137573,-1.1754800081253052,-1.248052716255188,-1.4154800176620483,-1.4441518783569336,-1.4382977485656738,-1.435875415802002,-1.4265915155410767,-1.4336155652999878,-1.424835443496704,-1.538397192955017,-1.5627244710922241,-1.5822999477386475,-1.5436652898788452,-1.5524455308914185,-1.5460054874420166,-1.5501035451889038,-1.4217091798782349,-1.365126609802246,-1.3885409832000732,-1.4020051956176758,-1.4029412269592285,-1.4816163778305054,-1.4658101797103882,-1.307761549949646,-1.277321219444275,-1.2246025800704956,-1.2457125186920166,-1.455273985862732,-1.5382792949676514,-1.555957555770874,-1.5173230171203613,-1.4886404275894165,-1.4061031341552734,-1.4173414707183838,-1.4845067262649536,-1.4388837814331055,-1.4763463735580444,-1.5641518831253052,-1.5647377967834473,-1.6118720769882202,-1.5846401453018188,-1.5676531791687012,-1.5682498216629028,-1.6062984466552734,-1.4880545139312744,-1.578786015510559,-1.5348833799362183,-1.5126408338546753,-1.5916643142700195,-1.51351797580719,-1.4622981548309326,-1.6566411256790161,-1.6701053380966187,-1.6583971977233887,-1.6443489789962769,-1.6882516145706177,-1.6297147274017334,-1.6894217729568481,-1.5758599042892456,-1.5430793762207031,-1.4365417957305908,-1.1795655488967896,-0.9366376399993896,-0.8710873126983643,-0.8359540700912476,-0.6357569694519043,-0.6937901377677917,-0.7715631127357483,-0.7996596693992615,-0.7270744442939758,-0.7215133905410767,-0.6574153304100037,-0.8546845316886902,-0.7926355004310608,-0.8289281129837036,-0.8968311548233032,-1.0595637559890747,-1.0829800367355347,-1.11166250705719,-1.2831752300262451,-1.490980625152588,-1.4944945573806763,-1.4974206686019897,-1.5518596172332764,-1.4265915155410767,-1.5035194158554077,-1.3727366924285889,-1.5184930562973022,-1.5782018899917603,-1.5641518831253052,-1.5887380838394165,-1.649617075920105,-1.6601532697677612,-1.6554818153381348,-1.6613233089447021,-1.7110800743103027,-1.779579758644104,-1.7936298847198486,-1.7655190229415894,-1.7725449800491333,-1.9797643423080444,-2.0131309032440186,-2.086021661758423,-2.0207409858703613,-2.00669264793396,-1.9920583963394165,-2.019570827484131,-1.9680581092834473,-1.9651302099227905,-1.9387896060943604,-1.8621063232421875,-1.794203281402588,-1.817031741142273,-1.9130332469940186,-1.91537344455719,-1.8211297988891602,-1.8626905679702759,-1.8484082221984863,-1.7959593534469604,-1.7947875261306763,-1.7877633571624756,-1.6607391834259033,-1.6695194244384766,-1.5752739906311035,-1.6061002016067505,-1.57234787940979,-1.536641240119934,-1.5489333868026733,-1.5527384281158447,-1.5936793088912964,-1.520835041999817,-1.5360552072525024,-1.5278592109680176,-1.4336155652999878,-1.437713623046875,-1.3487364053726196,-1.3452242612838745,-1.3973230123519897,-1.4406397342681885,-1.4611279964447021,-1.4271756410598755,-1.5091288089752197,-0.86873459815979,-0.8980030417442322,-0.9196614623069763,-0.8558564186096191,-0.9265927076339722,-0.9781983494758606,-1.017417073249817,-0.9073691964149475,-0.9735144376754761,-0.9768407344818115,-1.0425536632537842,-1.0537115335464478,-1.1063944101333618,-1.4154692888259888,-1.330590009689331,-1.2890293598175049,-1.2632728815078735,-1.294883370399475,-1.259408950805664,-1.1485410928726196,-1.5091288089752197,-1.2398585081100464,-1.2386866807937622,-1.1508938074111938,-1.1100350618362427,-1.0864920616149902,-1.0572235584259033,-1.064247727394104,0.23410093784332275,0.28912580013275146,0.2551751732826233,0.37226152420043945,0.4179077744483948,0.3295164108276367,0.14161337912082672,0.05146600678563118,-0.02145863138139248,-0.06794804334640503,-0.1861937791109085,-0.1610233336687088,-0.08192666620016098,-0.056241728365421295,0.07721167802810669,-4.6776582166785374e-05,-0.07731416821479797,0.04444186016917229,0.02290138602256775,0.05322204530239105,0.0221975427120924,-0.03165543079376221,0.012247265316545963,0.018685469403862953,0.014003301039338112,0.05907609313726425,0.0830889567732811,0.06551608443260193,0.14512544870376587,0.17088183760643005,0.16678382456302643,0.25751712918281555,0.24229696393013,0.24990706145763397,0.28912580013275146,0.11995500326156616,0.05966203659772873,0.03610649332404137,0.02512546069920063,0.06551608443260193,0.08893050253391266,0.09595464915037155,0.41076570749282837,0.43781009316444397,0.4811268448829651,0.5242810249328613,0.5232860445976257,0.5630674958229065,0.48054268956184387,0.5654201507568359,0.5619081258773804,0.5408356785774231,0.5092252492904663,0.6028150320053101,0.6514695286750793,0.6099088191986084,0.8661829829216003,0.9061055183410645,0.9336179494857788,0.9587883949279785,0.9072756171226501,0.9008374214172363,0.885033130645752,0.9833979606628418,0.9119470715522766,0.9530647993087769,0.9166417717933655,0.9069719314575195,0.902007520198822,0.9037635922431946,0.9330445528030396,0.879999041557312,0.8908853530883789,0.8785930871963501,0.878007173538208,0.928151547908783,0.9072756171226501,1.103374719619751,1.0536179542541504,1.0518618822097778,1.086984395980835,1.080546259880066,1.0693061351776123,1.0419116020202637,1.1742056608200073,1.1827161312103271,1.1705864667892456,1.1917660236358643,1.2099123001098633,1.2116683721542358,1.1917660236358643,1.23332679271698,1.1660096645355225,1.1051307916641235,1.0758622884750366,0.985716700553894,1.0255088806152344,1.0302035808563232,0.8042518496513367,0.8510806560516357,0.8598608374595642,0.7562636733055115,0.6467873454093933,0.6368352770805359,0.553713858127594,0.8592767119407654,0.9295199513435364,0.9599478244781494,0.9640565514564514,0.9330320358276367,0.926007866859436,0.9154716730117798,1.1074727773666382,1.1051307916641235,1.062399983406067,1.0179113149642944,0.8838379979133606,0.8607755303382874,0.927179753780365,1.1320589780807495,1.0891746282577515,1.12152099609375,1.1256190538406372,1.0981191396713257,1.0489357709884644,0.9587883949279785,1.0846441984176636,1.1139127016067505,1.0629841089248657,1.158833622932434,1.0951805114746094,1.098692536354065,1.0664961338043213,1.1133267879486084,0.9634723663330078,0.9385591745376587,0.9822046160697937,0.9804468154907227,1.0360575914382935,1.2046442031860352,1.4815245866775513,1.3989872932434082,1.3005741834640503,1.3591808080673218,1.2784013748168945,1.3081378936767578,1.394303321838379,1.3872791528701782,1.3896211385726929,1.4387919902801514,1.478010654449463,1.5283533334732056,1.4431471824645996,1.4264997243881226,1.5447436571121216,1.6343051195144653,1.6091346740722656,1.6044739484786987,1.641915202140808,1.6342926025390625,1.6062067747116089,1.608548641204834,1.5985984802246094,1.5792802572250366,1.5767042636871338,1.5645869970321655,1.546851634979248,1.4399620294570923,1.4785966873168945,1.5734261274337769,1.6126466989517212,1.6600614786148071,1.6026946306228638,1.6693686246871948],\"type\":\"scatter\"}],                        {\"title\":{\"text\":\"Prediction for 80:20 split Normal LSTM\"},\"template\":{\"data\":{\"histogram2dcontour\":[{\"type\":\"histogram2dcontour\",\"colorbar\":{\"outlinewidth\":0,\"ticks\":\"\"},\"colorscale\":[[0.0,\"#0d0887\"],[0.1111111111111111,\"#46039f\"],[0.2222222222222222,\"#7201a8\"],[0.3333333333333333,\"#9c179e\"],[0.4444444444444444,\"#bd3786\"],[0.5555555555555556,\"#d8576b\"],[0.6666666666666666,\"#ed7953\"],[0.7777777777777778,\"#fb9f3a\"],[0.8888888888888888,\"#fdca26\"],[1.0,\"#f0f921\"]]}],\"choropleth\":[{\"type\":\"choropleth\",\"colorbar\":{\"outlinewidth\":0,\"ticks\":\"\"}}],\"histogram2d\":[{\"type\":\"histogram2d\",\"colorbar\":{\"outlinewidth\":0,\"ticks\":\"\"},\"colorscale\":[[0.0,\"#0d0887\"],[0.1111111111111111,\"#46039f\"],[0.2222222222222222,\"#7201a8\"],[0.3333333333333333,\"#9c179e\"],[0.4444444444444444,\"#bd3786\"],[0.5555555555555556,\"#d8576b\"],[0.6666666666666666,\"#ed7953\"],[0.7777777777777778,\"#fb9f3a\"],[0.8888888888888888,\"#fdca26\"],[1.0,\"#f0f921\"]]}],\"heatmap\":[{\"type\":\"heatmap\",\"colorbar\":{\"outlinewidth\":0,\"ticks\":\"\"},\"colorscale\":[[0.0,\"#0d0887\"],[0.1111111111111111,\"#46039f\"],[0.2222222222222222,\"#7201a8\"],[0.3333333333333333,\"#9c179e\"],[0.4444444444444444,\"#bd3786\"],[0.5555555555555556,\"#d8576b\"],[0.6666666666666666,\"#ed7953\"],[0.7777777777777778,\"#fb9f3a\"],[0.8888888888888888,\"#fdca26\"],[1.0,\"#f0f921\"]]}],\"heatmapgl\":[{\"type\":\"heatmapgl\",\"colorbar\":{\"outlinewidth\":0,\"ticks\":\"\"},\"colorscale\":[[0.0,\"#0d0887\"],[0.1111111111111111,\"#46039f\"],[0.2222222222222222,\"#7201a8\"],[0.3333333333333333,\"#9c179e\"],[0.4444444444444444,\"#bd3786\"],[0.5555555555555556,\"#d8576b\"],[0.6666666666666666,\"#ed7953\"],[0.7777777777777778,\"#fb9f3a\"],[0.8888888888888888,\"#fdca26\"],[1.0,\"#f0f921\"]]}],\"contourcarpet\":[{\"type\":\"contourcarpet\",\"colorbar\":{\"outlinewidth\":0,\"ticks\":\"\"}}],\"contour\":[{\"type\":\"contour\",\"colorbar\":{\"outlinewidth\":0,\"ticks\":\"\"},\"colorscale\":[[0.0,\"#0d0887\"],[0.1111111111111111,\"#46039f\"],[0.2222222222222222,\"#7201a8\"],[0.3333333333333333,\"#9c179e\"],[0.4444444444444444,\"#bd3786\"],[0.5555555555555556,\"#d8576b\"],[0.6666666666666666,\"#ed7953\"],[0.7777777777777778,\"#fb9f3a\"],[0.8888888888888888,\"#fdca26\"],[1.0,\"#f0f921\"]]}],\"surface\":[{\"type\":\"surface\",\"colorbar\":{\"outlinewidth\":0,\"ticks\":\"\"},\"colorscale\":[[0.0,\"#0d0887\"],[0.1111111111111111,\"#46039f\"],[0.2222222222222222,\"#7201a8\"],[0.3333333333333333,\"#9c179e\"],[0.4444444444444444,\"#bd3786\"],[0.5555555555555556,\"#d8576b\"],[0.6666666666666666,\"#ed7953\"],[0.7777777777777778,\"#fb9f3a\"],[0.8888888888888888,\"#fdca26\"],[1.0,\"#f0f921\"]]}],\"mesh3d\":[{\"type\":\"mesh3d\",\"colorbar\":{\"outlinewidth\":0,\"ticks\":\"\"}}],\"scatter\":[{\"fillpattern\":{\"fillmode\":\"overlay\",\"size\":10,\"solidity\":0.2},\"type\":\"scatter\"}],\"parcoords\":[{\"type\":\"parcoords\",\"line\":{\"colorbar\":{\"outlinewidth\":0,\"ticks\":\"\"}}}],\"scatterpolargl\":[{\"type\":\"scatterpolargl\",\"marker\":{\"colorbar\":{\"outlinewidth\":0,\"ticks\":\"\"}}}],\"bar\":[{\"error_x\":{\"color\":\"#2a3f5f\"},\"error_y\":{\"color\":\"#2a3f5f\"},\"marker\":{\"line\":{\"color\":\"#E5ECF6\",\"width\":0.5},\"pattern\":{\"fillmode\":\"overlay\",\"size\":10,\"solidity\":0.2}},\"type\":\"bar\"}],\"scattergeo\":[{\"type\":\"scattergeo\",\"marker\":{\"colorbar\":{\"outlinewidth\":0,\"ticks\":\"\"}}}],\"scatterpolar\":[{\"type\":\"scatterpolar\",\"marker\":{\"colorbar\":{\"outlinewidth\":0,\"ticks\":\"\"}}}],\"histogram\":[{\"marker\":{\"pattern\":{\"fillmode\":\"overlay\",\"size\":10,\"solidity\":0.2}},\"type\":\"histogram\"}],\"scattergl\":[{\"type\":\"scattergl\",\"marker\":{\"colorbar\":{\"outlinewidth\":0,\"ticks\":\"\"}}}],\"scatter3d\":[{\"type\":\"scatter3d\",\"line\":{\"colorbar\":{\"outlinewidth\":0,\"ticks\":\"\"}},\"marker\":{\"colorbar\":{\"outlinewidth\":0,\"ticks\":\"\"}}}],\"scattermapbox\":[{\"type\":\"scattermapbox\",\"marker\":{\"colorbar\":{\"outlinewidth\":0,\"ticks\":\"\"}}}],\"scatterternary\":[{\"type\":\"scatterternary\",\"marker\":{\"colorbar\":{\"outlinewidth\":0,\"ticks\":\"\"}}}],\"scattercarpet\":[{\"type\":\"scattercarpet\",\"marker\":{\"colorbar\":{\"outlinewidth\":0,\"ticks\":\"\"}}}],\"carpet\":[{\"aaxis\":{\"endlinecolor\":\"#2a3f5f\",\"gridcolor\":\"white\",\"linecolor\":\"white\",\"minorgridcolor\":\"white\",\"startlinecolor\":\"#2a3f5f\"},\"baxis\":{\"endlinecolor\":\"#2a3f5f\",\"gridcolor\":\"white\",\"linecolor\":\"white\",\"minorgridcolor\":\"white\",\"startlinecolor\":\"#2a3f5f\"},\"type\":\"carpet\"}],\"table\":[{\"cells\":{\"fill\":{\"color\":\"#EBF0F8\"},\"line\":{\"color\":\"white\"}},\"header\":{\"fill\":{\"color\":\"#C8D4E3\"},\"line\":{\"color\":\"white\"}},\"type\":\"table\"}],\"barpolar\":[{\"marker\":{\"line\":{\"color\":\"#E5ECF6\",\"width\":0.5},\"pattern\":{\"fillmode\":\"overlay\",\"size\":10,\"solidity\":0.2}},\"type\":\"barpolar\"}],\"pie\":[{\"automargin\":true,\"type\":\"pie\"}]},\"layout\":{\"autotypenumbers\":\"strict\",\"colorway\":[\"#636efa\",\"#EF553B\",\"#00cc96\",\"#ab63fa\",\"#FFA15A\",\"#19d3f3\",\"#FF6692\",\"#B6E880\",\"#FF97FF\",\"#FECB52\"],\"font\":{\"color\":\"#2a3f5f\"},\"hovermode\":\"closest\",\"hoverlabel\":{\"align\":\"left\"},\"paper_bgcolor\":\"white\",\"plot_bgcolor\":\"#E5ECF6\",\"polar\":{\"bgcolor\":\"#E5ECF6\",\"angularaxis\":{\"gridcolor\":\"white\",\"linecolor\":\"white\",\"ticks\":\"\"},\"radialaxis\":{\"gridcolor\":\"white\",\"linecolor\":\"white\",\"ticks\":\"\"}},\"ternary\":{\"bgcolor\":\"#E5ECF6\",\"aaxis\":{\"gridcolor\":\"white\",\"linecolor\":\"white\",\"ticks\":\"\"},\"baxis\":{\"gridcolor\":\"white\",\"linecolor\":\"white\",\"ticks\":\"\"},\"caxis\":{\"gridcolor\":\"white\",\"linecolor\":\"white\",\"ticks\":\"\"}},\"coloraxis\":{\"colorbar\":{\"outlinewidth\":0,\"ticks\":\"\"}},\"colorscale\":{\"sequential\":[[0.0,\"#0d0887\"],[0.1111111111111111,\"#46039f\"],[0.2222222222222222,\"#7201a8\"],[0.3333333333333333,\"#9c179e\"],[0.4444444444444444,\"#bd3786\"],[0.5555555555555556,\"#d8576b\"],[0.6666666666666666,\"#ed7953\"],[0.7777777777777778,\"#fb9f3a\"],[0.8888888888888888,\"#fdca26\"],[1.0,\"#f0f921\"]],\"sequentialminus\":[[0.0,\"#0d0887\"],[0.1111111111111111,\"#46039f\"],[0.2222222222222222,\"#7201a8\"],[0.3333333333333333,\"#9c179e\"],[0.4444444444444444,\"#bd3786\"],[0.5555555555555556,\"#d8576b\"],[0.6666666666666666,\"#ed7953\"],[0.7777777777777778,\"#fb9f3a\"],[0.8888888888888888,\"#fdca26\"],[1.0,\"#f0f921\"]],\"diverging\":[[0,\"#8e0152\"],[0.1,\"#c51b7d\"],[0.2,\"#de77ae\"],[0.3,\"#f1b6da\"],[0.4,\"#fde0ef\"],[0.5,\"#f7f7f7\"],[0.6,\"#e6f5d0\"],[0.7,\"#b8e186\"],[0.8,\"#7fbc41\"],[0.9,\"#4d9221\"],[1,\"#276419\"]]},\"xaxis\":{\"gridcolor\":\"white\",\"linecolor\":\"white\",\"ticks\":\"\",\"title\":{\"standoff\":15},\"zerolinecolor\":\"white\",\"automargin\":true,\"zerolinewidth\":2},\"yaxis\":{\"gridcolor\":\"white\",\"linecolor\":\"white\",\"ticks\":\"\",\"title\":{\"standoff\":15},\"zerolinecolor\":\"white\",\"automargin\":true,\"zerolinewidth\":2},\"scene\":{\"xaxis\":{\"backgroundcolor\":\"#E5ECF6\",\"gridcolor\":\"white\",\"linecolor\":\"white\",\"showbackground\":true,\"ticks\":\"\",\"zerolinecolor\":\"white\",\"gridwidth\":2},\"yaxis\":{\"backgroundcolor\":\"#E5ECF6\",\"gridcolor\":\"white\",\"linecolor\":\"white\",\"showbackground\":true,\"ticks\":\"\",\"zerolinecolor\":\"white\",\"gridwidth\":2},\"zaxis\":{\"backgroundcolor\":\"#E5ECF6\",\"gridcolor\":\"white\",\"linecolor\":\"white\",\"showbackground\":true,\"ticks\":\"\",\"zerolinecolor\":\"white\",\"gridwidth\":2}},\"shapedefaults\":{\"line\":{\"color\":\"#2a3f5f\"}},\"annotationdefaults\":{\"arrowcolor\":\"#2a3f5f\",\"arrowhead\":0,\"arrowwidth\":1},\"geo\":{\"bgcolor\":\"white\",\"landcolor\":\"#E5ECF6\",\"subunitcolor\":\"white\",\"showland\":true,\"showlakes\":true,\"lakecolor\":\"white\"},\"title\":{\"x\":0.05},\"mapbox\":{\"style\":\"light\"}}},\"shapes\":[{\"line\":{\"color\":\"red\",\"dash\":\"dash\",\"width\":1},\"type\":\"line\",\"x0\":1478,\"x1\":1478,\"xref\":\"x\",\"y0\":0,\"y1\":1,\"yref\":\"y domain\"}]},                        {\"responsive\": true}                    ).then(function(){\n",
              "                            \n",
              "var gd = document.getElementById('e54ab0d5-4238-4a27-8286-59577807aaf2');\n",
              "var x = new MutationObserver(function (mutations, observer) {{\n",
              "        var display = window.getComputedStyle(gd).display;\n",
              "        if (!display || display === 'none') {{\n",
              "            console.log([gd, 'removed!']);\n",
              "            Plotly.purge(gd);\n",
              "            observer.disconnect();\n",
              "        }}\n",
              "}});\n",
              "\n",
              "// Listen for the removal of the full notebook cells\n",
              "var notebookContainer = gd.closest('#notebook-container');\n",
              "if (notebookContainer) {{\n",
              "    x.observe(notebookContainer, {childList: true});\n",
              "}}\n",
              "\n",
              "// Listen for the clearing of the current output cell\n",
              "var outputEl = gd.closest('.output');\n",
              "if (outputEl) {{\n",
              "    x.observe(outputEl, {childList: true});\n",
              "}}\n",
              "\n",
              "                        })                };                            </script>        </div>\n",
              "</body>\n",
              "</html>"
            ]
          },
          "metadata": {}
        }
      ]
    }
  ]
}