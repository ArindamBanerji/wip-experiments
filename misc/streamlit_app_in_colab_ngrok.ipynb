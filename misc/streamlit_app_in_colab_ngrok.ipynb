{
  "nbformat": 4,
  "nbformat_minor": 0,
  "metadata": {
    "colab": {
      "provenance": [],
      "authorship_tag": "ABX9TyNMZ6TZbfDBijN6UfC9W09L",
      "include_colab_link": true
    },
    "kernelspec": {
      "name": "python3",
      "display_name": "Python 3"
    },
    "language_info": {
      "name": "python"
    }
  },
  "cells": [
    {
      "cell_type": "markdown",
      "metadata": {
        "id": "view-in-github",
        "colab_type": "text"
      },
      "source": [
        "<a href=\"https://colab.research.google.com/github/ArindamBanerji/wip-experiments/blob/master/misc/streamlit_app_in_colab_ngrok.ipynb\" target=\"_parent\"><img src=\"https://colab.research.google.com/assets/colab-badge.svg\" alt=\"Open In Colab\"/></a>"
      ]
    },
    {
      "cell_type": "code",
      "execution_count": 1,
      "metadata": {
        "colab": {
          "base_uri": "https://localhost:8080/"
        },
        "id": "dY_hUECEEKIB",
        "outputId": "0f5c5e26-2c27-4361-ef8a-229625d00836"
      },
      "outputs": [
        {
          "output_type": "stream",
          "name": "stdout",
          "text": [
            "Mounted at /content/gdrive\n"
          ]
        }
      ],
      "source": [
        "from google.colab import drive\n",
        "drive.mount('/content/gdrive')"
      ]
    },
    {
      "cell_type": "code",
      "source": [
        "file_dir = \"/content/gdrive/My Drive\" + \"/python-projects/kaggle_experiments/streamlit_code/\"\n",
        "op_fnm = \"app8.py\"\n",
        "fnm = file_dir + op_fnm\n",
        "print (\"directory and file-name\", file_dir, fnm)"
      ],
      "metadata": {
        "id": "1HQoPA-7PWK9",
        "colab": {
          "base_uri": "https://localhost:8080/"
        },
        "outputId": "3b005d87-cb7d-4352-a9de-b6cdf34d79b8"
      },
      "execution_count": 2,
      "outputs": [
        {
          "output_type": "stream",
          "name": "stdout",
          "text": [
            "directory and file-name /content/gdrive/My Drive/python-projects/kaggle_experiments/streamlit_code/ /content/gdrive/My Drive/python-projects/kaggle_experiments/streamlit_code/app8.py\n"
          ]
        }
      ]
    },
    {
      "cell_type": "code",
      "source": [
        "! pip install streamlit -q"
      ],
      "metadata": {
        "id": "Qqu6VvvXEX4m",
        "colab": {
          "base_uri": "https://localhost:8080/"
        },
        "outputId": "cd1bd29d-70f1-4368-8d0a-c4fc35de85ad"
      },
      "execution_count": 3,
      "outputs": [
        {
          "output_type": "stream",
          "name": "stdout",
          "text": [
            "\u001b[2K   \u001b[90m━━━━━━━━━━━━━━━━━━━━━━━━━━━━━━━━━━━━━━━━\u001b[0m \u001b[32m8.7/8.7 MB\u001b[0m \u001b[31m76.2 MB/s\u001b[0m eta \u001b[36m0:00:00\u001b[0m\n",
            "\u001b[2K   \u001b[90m━━━━━━━━━━━━━━━━━━━━━━━━━━━━━━━━━━━━━━━━\u001b[0m \u001b[32m207.3/207.3 kB\u001b[0m \u001b[31m15.6 MB/s\u001b[0m eta \u001b[36m0:00:00\u001b[0m\n",
            "\u001b[2K   \u001b[90m━━━━━━━━━━━━━━━━━━━━━━━━━━━━━━━━━━━━━━━━\u001b[0m \u001b[32m6.9/6.9 MB\u001b[0m \u001b[31m90.1 MB/s\u001b[0m eta \u001b[36m0:00:00\u001b[0m\n",
            "\u001b[2K   \u001b[90m━━━━━━━━━━━━━━━━━━━━━━━━━━━━━━━━━━━━━━━━\u001b[0m \u001b[32m83.0/83.0 kB\u001b[0m \u001b[31m6.3 MB/s\u001b[0m eta \u001b[36m0:00:00\u001b[0m\n",
            "\u001b[2K   \u001b[90m━━━━━━━━━━━━━━━━━━━━━━━━━━━━━━━━━━━━━━━━\u001b[0m \u001b[32m62.7/62.7 kB\u001b[0m \u001b[31m4.9 MB/s\u001b[0m eta \u001b[36m0:00:00\u001b[0m\n",
            "\u001b[?25h"
          ]
        }
      ]
    },
    {
      "cell_type": "code",
      "source": [
        "%%writefile \"{fnm}\"\n",
        "import streamlit as st\n",
        "st.write('# Hello World from 1littlecoder, please subscribe')\n",
        "st.write('## Run Streamlit on Colab with `pyngrok` ')\n",
        "st.write(\"This is an amazing tutorial, I like this channel- 8-3!!!\")\n",
        "st.markdown(\"# Don't forget to subscribe\")"
      ],
      "metadata": {
        "colab": {
          "base_uri": "https://localhost:8080/"
        },
        "id": "pOd9KuY2EhMX",
        "outputId": "9b38ba01-3750-46c6-8949-bca75b26855f"
      },
      "execution_count": 4,
      "outputs": [
        {
          "output_type": "stream",
          "name": "stdout",
          "text": [
            "Overwriting /content/gdrive/My Drive/python-projects/kaggle_experiments/streamlit_code/app8.py\n"
          ]
        }
      ]
    },
    {
      "cell_type": "code",
      "source": [
        "! pip install pyngrok"
      ],
      "metadata": {
        "colab": {
          "base_uri": "https://localhost:8080/"
        },
        "id": "Vyjiz-F8EpUC",
        "outputId": "ca6f5f13-07d2-4c48-f6b2-9af2456c8c7d"
      },
      "execution_count": 5,
      "outputs": [
        {
          "output_type": "stream",
          "name": "stdout",
          "text": [
            "Collecting pyngrok\n",
            "  Downloading pyngrok-7.2.0-py3-none-any.whl.metadata (7.4 kB)\n",
            "Requirement already satisfied: PyYAML>=5.1 in /usr/local/lib/python3.10/dist-packages (from pyngrok) (6.0.1)\n",
            "Downloading pyngrok-7.2.0-py3-none-any.whl (22 kB)\n",
            "Installing collected packages: pyngrok\n",
            "Successfully installed pyngrok-7.2.0\n"
          ]
        }
      ]
    },
    {
      "cell_type": "code",
      "source": [
        "from pyngrok import ngrok"
      ],
      "metadata": {
        "id": "HvriSj5EEqeI"
      },
      "execution_count": 6,
      "outputs": []
    },
    {
      "cell_type": "code",
      "source": [
        "from google.colab import userdata\n",
        "ngrok_authtoken = userdata.get('NGROK_AUTHTOKEN')\n",
        "# ngrok_authtoken"
      ],
      "metadata": {
        "id": "N_lwmpV_LxKP"
      },
      "execution_count": null,
      "outputs": []
    },
    {
      "cell_type": "code",
      "source": [
        "# Add your ngrok token here\n",
        "ngrok.set_auth_token(ngrok_authtoken)"
      ],
      "metadata": {
        "id": "ibSMKpnvEwII",
        "colab": {
          "base_uri": "https://localhost:8080/"
        },
        "outputId": "f593c1f5-b599-4b7e-ff31-925577a2a498"
      },
      "execution_count": 10,
      "outputs": [
        {
          "output_type": "stream",
          "name": "stdout",
          "text": []
        }
      ]
    },
    {
      "cell_type": "code",
      "source": [
        "!nohup streamlit run \"{fnm}\" --server.port 8501 &\n",
        "# Configure the tunnel with the correct format\n",
        "tunnel = ngrok.connect(8501, \"http\")\n",
        "print(tunnel.public_url)"
      ],
      "metadata": {
        "colab": {
          "base_uri": "https://localhost:8080/"
        },
        "id": "w6uNN95NGsle",
        "outputId": "6ef1e145-9e11-4ed0-8ee0-80ef24e167d5"
      },
      "execution_count": 11,
      "outputs": [
        {
          "output_type": "stream",
          "name": "stdout",
          "text": [
            "nohup: appending output to 'nohup.out'\n",
            "https://1a1b-34-125-190-48.ngrok-free.app\n"
          ]
        }
      ]
    },
    {
      "cell_type": "code",
      "source": [
        "!ls -l \"{file_dir}\""
      ],
      "metadata": {
        "colab": {
          "base_uri": "https://localhost:8080/"
        },
        "id": "4LRA6tA1kK7r",
        "outputId": "51571316-72bc-4855-b63c-2997d60e6e5c"
      },
      "execution_count": null,
      "outputs": [
        {
          "output_type": "stream",
          "name": "stdout",
          "text": [
            "total 22\n",
            "-rw-------  1 root root    89 Aug  5 21:46 app2.py\n",
            "-rw-------  1 root root   246 Aug  6 01:19 app3.py\n",
            "-rw-------  1 root root   249 Aug  6 02:40 app8.py\n",
            "-rw-------  1 root root    89 Aug  5 06:23 app.py\n",
            "drwx------ 25 root root  4096 Aug  5 06:43 node_modules\n",
            "-rw-------  1 root root   235 Aug  6 01:19 nohup.out\n",
            "-rw-------  1 root root    56 Aug  5 06:43 package.json\n",
            "-rw-------  1 root root 15217 Aug  5 06:43 package-lock.json\n"
          ]
        }
      ]
    },
    {
      "cell_type": "code",
      "source": [
        "ngrok.kill()"
      ],
      "metadata": {
        "id": "Rd5u_yNmHg4t"
      },
      "execution_count": 10,
      "outputs": []
    }
  ]
}