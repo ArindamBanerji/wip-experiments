{
 "cells": [
  {
   "cell_type": "markdown",
   "metadata": {},
   "source": [
    "## Autoviz EDA for titanic dataset"
   ]
  },
  {
   "cell_type": "code",
   "execution_count": 1,
   "metadata": {},
   "outputs": [],
   "source": [
    "# Boiler plate Automated & accelerated EDA - load the file \n",
    "import tensorflow as tf\n",
    "import pandas as pd\n",
    "\n",
    "source_file_url = \"https://storage.googleapis.com/tf-datasets/titanic/train.csv\"\n",
    "target_fnm = \"train.csv\"\n",
    "\n",
    "titanic_file = tf.keras.utils.get_file(target_fnm, source_file_url) \n",
    "\n",
    "df = pd.read_csv(titanic_file)"
   ]
  },
  {
   "cell_type": "code",
   "execution_count": 12,
   "metadata": {},
   "outputs": [],
   "source": [
    "from autoviz.AutoViz_Class import AutoViz_Class\n",
    "AV = AutoViz_Class()\n",
    "%matplotlib inline "
   ]
  },
  {
   "cell_type": "code",
   "execution_count": null,
   "metadata": {},
   "outputs": [],
   "source": [
    "# set target var where possible otherwise set it to target_var =\"\"\n",
    "target_var = \"survived\"  # for titanic data set \n",
    "\n",
    "dft = AV.AutoViz(filename=\"\", \n",
    "                 depVar=target_var, dfte=df, \n",
    "                 header=0, verbose=1, \n",
    "                 lowess=False, \n",
    "                 chart_format='svg',\n",
    "                 max_rows_analyzed=(\n",
    "                     (df.shape)[0] if (df.shape)[0] > 150000 else 150000),\n",
    "                 max_cols_analyzed=((df.shape)[1] if (df.shape)[1] > 30 else 30)\n",
    "        )"
   ]
  },
  {
   "cell_type": "code",
   "execution_count": 7,
   "metadata": {},
   "outputs": [
    {
     "data": {
      "text/plain": [
       "('train.csv', <http.client.HTTPMessage at 0x144a783ffd0>)"
      ]
     },
     "execution_count": 7,
     "metadata": {},
     "output_type": "execute_result"
    }
   ],
   "source": [
    "import urllib.request\n",
    "urllib.request.urlretrieve(source_file_url, target_fnm)"
   ]
  },
  {
   "cell_type": "code",
   "execution_count": 8,
   "metadata": {},
   "outputs": [],
   "source": [
    "from autoviz.AutoViz_Class import AutoViz_Class\n",
    "AV = AutoViz_Class()\n",
    "%matplotlib inline "
   ]
  },
  {
   "cell_type": "code",
   "execution_count": null,
   "metadata": {},
   "outputs": [],
   "source": [
    "target_var = \"survived\"  # for titanic data set\n",
    "_ = AV.AutoViz(target_fnm,\n",
    "               depVar=target_var, sep=\",\")"
   ]
  },
  {
   "cell_type": "markdown",
   "metadata": {},
   "source": [
    "## Autoviz EDA for shoppers intention dataset"
   ]
  },
  {
   "cell_type": "code",
   "execution_count": 16,
   "metadata": {},
   "outputs": [],
   "source": [
    "# shoppers intention dataset\n",
    "source_file_url = \"https://archive.ics.uci.edu/ml/machine-learning-databases/00468/online_shoppers_intention.csv\"\n",
    "shop_df = pd.read_csv(source_file_url)"
   ]
  },
  {
   "cell_type": "code",
   "execution_count": 17,
   "metadata": {},
   "outputs": [],
   "source": [
    "from autoviz.AutoViz_Class import AutoViz_Class\n",
    "AV = AutoViz_Class()\n",
    "%matplotlib inline "
   ]
  },
  {
   "cell_type": "code",
   "execution_count": null,
   "metadata": {},
   "outputs": [],
   "source": [
    "# set target var where possible otherwise set it to target_var =\"\"\n",
    "target_var = 'Revenue'  # for shoppers  intention data set \n",
    "# only svg gets the heatmap right \n",
    "format = \"svg\"\n",
    "\n",
    "dft = AV.AutoViz(filename=\"\", \n",
    "                 depVar= target_var,\n",
    "                 dfte=shop_df, \n",
    "                 sep=\",\" , \n",
    "                 header=0, verbose=1, \n",
    "                 lowess=False, \n",
    "                 chart_format=format,\n",
    "                 max_rows_analyzed=(\n",
    "                     (shop_df.shape)[0] if (shop_df.shape)[0] > 150000 else 150000),\n",
    "                 max_cols_analyzed=((shop_df.shape)[1] if (shop_df.shape)[1] > 30 else 30)\n",
    "        )"
   ]
  },
  {
   "cell_type": "code",
   "execution_count": 19,
   "metadata": {},
   "outputs": [
    {
     "data": {
      "text/plain": [
       "('shoppers_intent.csv', <http.client.HTTPMessage at 0x144ad7ac700>)"
      ]
     },
     "execution_count": 19,
     "metadata": {},
     "output_type": "execute_result"
    }
   ],
   "source": [
    "import urllib.request\n",
    "target_fnm = \"shoppers_intent.csv\"\n",
    "urllib.request.urlretrieve(source_file_url, target_fnm)"
   ]
  },
  {
   "cell_type": "code",
   "execution_count": 20,
   "metadata": {},
   "outputs": [],
   "source": [
    "from autoviz.AutoViz_Class import AutoViz_Class\n",
    "AV = AutoViz_Class()\n",
    "%matplotlib inline "
   ]
  },
  {
   "cell_type": "code",
   "execution_count": null,
   "metadata": {},
   "outputs": [],
   "source": [
    "target_var = 'Revenue'  # for shoppers  intention data set \n",
    "_ = AV.AutoViz(target_fnm,\n",
    "               depVar=target_var, sep=\",\")"
   ]
  }
 ],
 "metadata": {
  "kernelspec": {
   "display_name": "Python 3.10.8 ('kaggle_expts_venv')",
   "language": "python",
   "name": "python3"
  },
  "language_info": {
   "codemirror_mode": {
    "name": "ipython",
    "version": 3
   },
   "file_extension": ".py",
   "mimetype": "text/x-python",
   "name": "python",
   "nbconvert_exporter": "python",
   "pygments_lexer": "ipython3",
   "version": "3.10.8"
  },
  "orig_nbformat": 4,
  "vscode": {
   "interpreter": {
    "hash": "be4c78cf3439baca13423b01e59fbae7d194fbbd5ee65de83dc38866596fbf17"
   }
  }
 },
 "nbformat": 4,
 "nbformat_minor": 2
}
